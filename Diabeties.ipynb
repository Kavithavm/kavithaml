{
 "cells": [
  {
   "cell_type": "code",
   "execution_count": 0,
   "metadata": {
    "id": "86qVubK-tEkC",
    "colab_type": "code",
    "colab": {}
   },
   "outputs": [],
   "source": [
    "import numpy as np\n",
    "from sklearn import datasets\n",
    "from sklearn.linear_model import Ridge\n",
    "from sklearn.model_selection import GridSearchCV\n",
    "dataset=datasets.load_diabetes()\n",
    "alpha=np.array([1,0.1,0.01,0.001,0.0001,0])\n",
    "model=Ridge()"
   ]
  },
  {
   "cell_type": "code",
   "execution_count": 0,
   "metadata": {
    "id": "8Ccu8PH_wB2p",
    "colab_type": "code",
    "colab": {}
   },
   "outputs": [],
   "source": [
    "grid=GridSearchCV(estimator=model,param_grid=dict(alpha=alpha),verbose=5)"
   ]
  },
  {
   "cell_type": "code",
   "execution_count": 7,
   "metadata": {
    "id": "4TpRe9UByY3e",
    "colab_type": "code",
    "colab": {
     "base_uri": "https://localhost:8080/",
     "height": 136.0
    },
    "outputId": "573d82ed-324a-44d5-f189-c6c23a192a33",
    "executionInfo": {
     "status": "ok",
     "timestamp": 1.539843128237E12,
     "user_tz": -330.0,
     "elapsed": 1117.0,
     "user": {
      "displayName": "Kavitha V",
      "photoUrl": "",
      "userId": "00448912820684317706"
     }
    }
   },
   "outputs": [
    {
     "data": {
      "text/plain": [
       "GridSearchCV(cv=None, error_score='raise',\n",
       "       estimator=Ridge(alpha=1.0, copy_X=True, fit_intercept=True, max_iter=None,\n",
       "   normalize=False, random_state=None, solver='auto', tol=0.001),\n",
       "       fit_params=None, iid=True, n_jobs=1,\n",
       "       param_grid={'alpha': array([1.e+00, 1.e-01, 1.e-02, 1.e-03, 1.e-04, 0.e+00])},\n",
       "       pre_dispatch='2*n_jobs', refit=True, return_train_score='warn',\n",
       "       scoring=None, verbose=0)"
      ]
     },
     "execution_count": 7,
     "metadata": {
      "tags": []
     },
     "output_type": "execute_result"
    }
   ],
   "source": [
    "grid.fit(dataset.data,dataset.target)"
   ]
  },
  {
   "cell_type": "code",
   "execution_count": 9,
   "metadata": {
    "id": "WpQbkSW8zYkA",
    "colab_type": "code",
    "colab": {
     "base_uri": "https://localhost:8080/",
     "height": 170.0
    },
    "outputId": "20674e1d-5b32-463c-f0f6-2d61cc4557b4",
    "executionInfo": {
     "status": "ok",
     "timestamp": 1.539843142775E12,
     "user_tz": -330.0,
     "elapsed": 1061.0,
     "user": {
      "displayName": "Kavitha V",
      "photoUrl": "",
      "userId": "00448912820684317706"
     }
    }
   },
   "outputs": [
    {
     "name": "stdout",
     "output_type": "stream",
     "text": [
      "Fitting 3 folds for each of 6 candidates, totalling 18 fits\n"
     ]
    },
    {
     "name": "stderr",
     "output_type": "stream",
     "text": [
      "[Parallel(n_jobs=1)]: Done  18 out of  18 | elapsed:    0.0s finished\n"
     ]
    },
    {
     "data": {
      "text/plain": [
       "GridSearchCV(cv=None, error_score='raise',\n",
       "       estimator=Ridge(alpha=1.0, copy_X=True, fit_intercept=True, max_iter=None,\n",
       "   normalize=False, random_state=None, solver='auto', tol=0.001),\n",
       "       fit_params=None, iid=True, n_jobs=1,\n",
       "       param_grid={'alpha': array([1.e+00, 1.e-01, 1.e-02, 1.e-03, 1.e-04, 0.e+00])},\n",
       "       pre_dispatch='2*n_jobs', refit=True, return_train_score='warn',\n",
       "       scoring=None, verbose=1)"
      ]
     },
     "execution_count": 9,
     "metadata": {
      "tags": []
     },
     "output_type": "execute_result"
    }
   ],
   "source": [
    "grid.fit(dataset.data,dataset.target)"
   ]
  },
  {
   "cell_type": "code",
   "execution_count": 11,
   "metadata": {
    "id": "bwYEP9p4zi90",
    "colab_type": "code",
    "colab": {
     "base_uri": "https://localhost:8080/",
     "height": 816.0
    },
    "outputId": "afa75eb1-7d17-45ab-a190-283a3be82d0b",
    "executionInfo": {
     "status": "ok",
     "timestamp": 1.53984317865E12,
     "user_tz": -330.0,
     "elapsed": 1157.0,
     "user": {
      "displayName": "Kavitha V",
      "photoUrl": "",
      "userId": "00448912820684317706"
     }
    }
   },
   "outputs": [
    {
     "name": "stdout",
     "output_type": "stream",
     "text": [
      "Fitting 3 folds for each of 6 candidates, totalling 18 fits\n",
      "[CV] alpha=1.0 .......................................................\n",
      "[CV] ............. alpha=1.0, score=0.37001642884697067, total=   0.0s\n",
      "[CV] alpha=1.0 .......................................................\n",
      "[CV] ............. alpha=1.0, score=0.41844655714492346, total=   0.0s\n",
      "[CV] alpha=1.0 .......................................................\n",
      "[CV] .............. alpha=1.0, score=0.4398193289180022, total=   0.0s\n",
      "[CV] alpha=0.1 .......................................................\n",
      "[CV] .............. alpha=0.1, score=0.4585681444117269, total=   0.0s\n",
      "[CV] alpha=0.1 .......................................................\n",
      "[CV] ............... alpha=0.1, score=0.495161893852445, total=   0.0s\n",
      "[CV] alpha=0.1 .......................................................\n",
      "[CV] .............. alpha=0.1, score=0.5120924499337528, total=   0.0s\n",
      "[CV] alpha=0.01 ......................................................\n",
      "[CV] ............ alpha=0.01, score=0.46891606374194306, total=   0.0s\n",
      "[CV] alpha=0.01 ......................................................\n",
      "[CV] ............ alpha=0.01, score=0.49088028296995334, total=   0.0s\n",
      "[CV] alpha=0.01 ......................................................\n",
      "[CV] .............. alpha=0.01, score=0.506295454474817, total=   0.0s\n",
      "[CV] alpha=0.001 .....................................................\n",
      "[CV] ............ alpha=0.001, score=0.4697015378020988, total=   0.0s\n",
      "[CV] alpha=0.001 .....................................................\n",
      "[CV] ........... alpha=0.001, score=0.48824777912732287, total=   0.0s\n",
      "[CV] alpha=0.001 .....................................................\n",
      "[CV] ............ alpha=0.001, score=0.5085511513276114, total=   0.0s\n",
      "[CV] alpha=0.0001 ....................................................\n",
      "[CV] .......... alpha=0.0001, score=0.46936380420173307, total=   0.0s\n",
      "[CV] alpha=0.0001 ....................................................\n",
      "[CV] ........... alpha=0.0001, score=0.4873724945777348, total=   0.0s\n",
      "[CV] alpha=0.0001 ....................................................\n",
      "[CV] ............. alpha=0.0001, score=0.50943406012258, total=   0.0s\n",
      "[CV] alpha=0.0 .......................................................\n",
      "[CV] .............. alpha=0.0, score=0.4693057771290111, total=   0.0s\n",
      "[CV] alpha=0.0 .......................................................\n",
      "[CV] ............. alpha=0.0, score=0.48724993937707517, total=   0.0s\n",
      "[CV] alpha=0.0 .......................................................\n",
      "[CV] .............. alpha=0.0, score=0.5095525852352715, total=   0.0s\n"
     ]
    },
    {
     "name": "stderr",
     "output_type": "stream",
     "text": [
      "[Parallel(n_jobs=1)]: Done   1 out of   1 | elapsed:    0.0s remaining:    0.0s\n",
      "[Parallel(n_jobs=1)]: Done   2 out of   2 | elapsed:    0.0s remaining:    0.0s\n",
      "[Parallel(n_jobs=1)]: Done  18 out of  18 | elapsed:    0.0s finished\n"
     ]
    },
    {
     "data": {
      "text/plain": [
       "GridSearchCV(cv=None, error_score='raise',\n",
       "       estimator=Ridge(alpha=1.0, copy_X=True, fit_intercept=True, max_iter=None,\n",
       "   normalize=False, random_state=None, solver='auto', tol=0.001),\n",
       "       fit_params=None, iid=True, n_jobs=1,\n",
       "       param_grid={'alpha': array([1.e+00, 1.e-01, 1.e-02, 1.e-03, 1.e-04, 0.e+00])},\n",
       "       pre_dispatch='2*n_jobs', refit=True, return_train_score='warn',\n",
       "       scoring=None, verbose=3)"
      ]
     },
     "execution_count": 11,
     "metadata": {
      "tags": []
     },
     "output_type": "execute_result"
    }
   ],
   "source": [
    "grid.fit(dataset.data,dataset.target)"
   ]
  },
  {
   "cell_type": "code",
   "execution_count": 13,
   "metadata": {
    "id": "0fhRK0uVz5yM",
    "colab_type": "code",
    "colab": {
     "base_uri": "https://localhost:8080/",
     "height": 850.0
    },
    "outputId": "27b6d12e-d479-422b-87fa-cf080d987b17",
    "executionInfo": {
     "status": "ok",
     "timestamp": 1.539843271529E12,
     "user_tz": -330.0,
     "elapsed": 1311.0,
     "user": {
      "displayName": "Kavitha V",
      "photoUrl": "",
      "userId": "00448912820684317706"
     }
    }
   },
   "outputs": [
    {
     "name": "stdout",
     "output_type": "stream",
     "text": [
      "Fitting 3 folds for each of 6 candidates, totalling 18 fits\n",
      "[CV] alpha=1.0 .......................................................\n",
      "[CV] ............. alpha=1.0, score=0.37001642884697067, total=   0.0s\n",
      "[CV] alpha=1.0 .......................................................\n",
      "[CV] ............. alpha=1.0, score=0.41844655714492346, total=   0.0s\n",
      "[CV] alpha=1.0 .......................................................\n",
      "[CV] .............. alpha=1.0, score=0.4398193289180022, total=   0.0s\n",
      "[CV] alpha=0.1 .......................................................\n",
      "[CV] .............. alpha=0.1, score=0.4585681444117269, total=   0.0s\n",
      "[CV] alpha=0.1 .......................................................\n",
      "[CV] ............... alpha=0.1, score=0.495161893852445, total=   0.0s\n",
      "[CV] alpha=0.1 .......................................................\n",
      "[CV] .............. alpha=0.1, score=0.5120924499337528, total=   0.0s\n",
      "[CV] alpha=0.01 ......................................................\n",
      "[CV] ............ alpha=0.01, score=0.46891606374194306, total=   0.0s\n",
      "[CV] alpha=0.01 ......................................................\n",
      "[CV] ............ alpha=0.01, score=0.49088028296995334, total=   0.0s\n",
      "[CV] alpha=0.01 ......................................................\n",
      "[CV] .............. alpha=0.01, score=0.506295454474817, total=   0.0s\n",
      "[CV] alpha=0.001 .....................................................\n",
      "[CV] ............ alpha=0.001, score=0.4697015378020988, total=   0.0s\n",
      "[CV] alpha=0.001 .....................................................\n",
      "[CV] ........... alpha=0.001, score=0.48824777912732287, total=   0.0s\n",
      "[CV] alpha=0.001 .....................................................\n",
      "[CV] ............ alpha=0.001, score=0.5085511513276114, total=   0.0s\n",
      "[CV] alpha=0.0001 ....................................................\n",
      "[CV] .......... alpha=0.0001, score=0.46936380420173307, total=   0.0s\n",
      "[CV] alpha=0.0001 ....................................................\n",
      "[CV] ........... alpha=0.0001, score=0.4873724945777348, total=   0.0s\n",
      "[CV] alpha=0.0001 ....................................................\n",
      "[CV] ............. alpha=0.0001, score=0.50943406012258, total=   0.0s\n",
      "[CV] alpha=0.0 .......................................................\n",
      "[CV] .............. alpha=0.0, score=0.4693057771290111, total=   0.0s\n",
      "[CV] alpha=0.0 .......................................................\n",
      "[CV] ............. alpha=0.0, score=0.48724993937707517, total=   0.0s\n",
      "[CV] alpha=0.0 .......................................................\n",
      "[CV] .............. alpha=0.0, score=0.5095525852352715, total=   0.0s\n"
     ]
    },
    {
     "name": "stderr",
     "output_type": "stream",
     "text": [
      "[Parallel(n_jobs=1)]: Done   1 out of   1 | elapsed:    0.0s remaining:    0.0s\n",
      "[Parallel(n_jobs=1)]: Done   2 out of   2 | elapsed:    0.0s remaining:    0.0s\n",
      "[Parallel(n_jobs=1)]: Done   3 out of   3 | elapsed:    0.0s remaining:    0.0s\n",
      "[Parallel(n_jobs=1)]: Done   4 out of   4 | elapsed:    0.0s remaining:    0.0s\n",
      "[Parallel(n_jobs=1)]: Done  18 out of  18 | elapsed:    0.1s finished\n"
     ]
    },
    {
     "data": {
      "text/plain": [
       "GridSearchCV(cv=None, error_score='raise',\n",
       "       estimator=Ridge(alpha=1.0, copy_X=True, fit_intercept=True, max_iter=None,\n",
       "   normalize=False, random_state=None, solver='auto', tol=0.001),\n",
       "       fit_params=None, iid=True, n_jobs=1,\n",
       "       param_grid={'alpha': array([1.e+00, 1.e-01, 1.e-02, 1.e-03, 1.e-04, 0.e+00])},\n",
       "       pre_dispatch='2*n_jobs', refit=True, return_train_score='warn',\n",
       "       scoring=None, verbose=5)"
      ]
     },
     "execution_count": 13,
     "metadata": {
      "tags": []
     },
     "output_type": "execute_result"
    }
   ],
   "source": [
    "grid.fit(dataset.data,dataset.target)"
   ]
  },
  {
   "cell_type": "code",
   "execution_count": 14,
   "metadata": {
    "id": "vYqyFYhw0ank",
    "colab_type": "code",
    "colab": {
     "base_uri": "https://localhost:8080/",
     "height": 34.0
    },
    "outputId": "c963d038-cd90-4747-9914-dae37b8595a6",
    "executionInfo": {
     "status": "ok",
     "timestamp": 1.539843410258E12,
     "user_tz": -330.0,
     "elapsed": 1051.0,
     "user": {
      "displayName": "Kavitha V",
      "photoUrl": "",
      "userId": "00448912820684317706"
     }
    }
   },
   "outputs": [
    {
     "data": {
      "text/plain": [
       "0.48879020446060173"
      ]
     },
     "execution_count": 14,
     "metadata": {
      "tags": []
     },
     "output_type": "execute_result"
    }
   ],
   "source": [
    "grid.best_score_"
   ]
  },
  {
   "cell_type": "code",
   "execution_count": 15,
   "metadata": {
    "id": "dbYq7LdR0dx3",
    "colab_type": "code",
    "colab": {
     "base_uri": "https://localhost:8080/",
     "height": 51.0
    },
    "outputId": "68169ede-001e-4ffd-bf1c-f00c11c3efae",
    "executionInfo": {
     "status": "ok",
     "timestamp": 1.539843423672E12,
     "user_tz": -330.0,
     "elapsed": 1046.0,
     "user": {
      "displayName": "Kavitha V",
      "photoUrl": "",
      "userId": "00448912820684317706"
     }
    }
   },
   "outputs": [
    {
     "data": {
      "text/plain": [
       "Ridge(alpha=0.001, copy_X=True, fit_intercept=True, max_iter=None,\n",
       "   normalize=False, random_state=None, solver='auto', tol=0.001)"
      ]
     },
     "execution_count": 15,
     "metadata": {
      "tags": []
     },
     "output_type": "execute_result"
    }
   ],
   "source": [
    "grid.best_estimator_"
   ]
  },
  {
   "cell_type": "code",
   "execution_count": 0,
   "metadata": {
    "id": "vpfIcJhL2QRc",
    "colab_type": "code",
    "colab": {}
   },
   "outputs": [],
   "source": [
    "model1=Ridge(alpha=0.001)"
   ]
  },
  {
   "cell_type": "code",
   "execution_count": 18,
   "metadata": {
    "id": "GReBjyCG2d8z",
    "colab_type": "code",
    "colab": {
     "base_uri": "https://localhost:8080/",
     "height": 51.0
    },
    "outputId": "80199397-fa33-4bea-cab9-84146867e896",
    "executionInfo": {
     "status": "ok",
     "timestamp": 1.539843952921E12,
     "user_tz": -330.0,
     "elapsed": 768.0,
     "user": {
      "displayName": "Kavitha V",
      "photoUrl": "",
      "userId": "00448912820684317706"
     }
    }
   },
   "outputs": [
    {
     "data": {
      "text/plain": [
       "Ridge(alpha=0.001, copy_X=True, fit_intercept=True, max_iter=None,\n",
       "   normalize=False, random_state=None, solver='auto', tol=0.001)"
      ]
     },
     "execution_count": 18,
     "metadata": {
      "tags": []
     },
     "output_type": "execute_result"
    }
   ],
   "source": [
    "model1"
   ]
  },
  {
   "cell_type": "code",
   "execution_count": 19,
   "metadata": {
    "id": "ampie_Oz2kNg",
    "colab_type": "code",
    "colab": {
     "base_uri": "https://localhost:8080/",
     "height": 51.0
    },
    "outputId": "bc971ed5-a6e9-4c29-95e3-3283c39c0cf6",
    "executionInfo": {
     "status": "ok",
     "timestamp": 1.539843981053E12,
     "user_tz": -330.0,
     "elapsed": 1393.0,
     "user": {
      "displayName": "Kavitha V",
      "photoUrl": "",
      "userId": "00448912820684317706"
     }
    }
   },
   "outputs": [
    {
     "data": {
      "text/plain": [
       "Ridge(alpha=0.001, copy_X=True, fit_intercept=True, max_iter=None,\n",
       "   normalize=False, random_state=None, solver='auto', tol=0.001)"
      ]
     },
     "execution_count": 19,
     "metadata": {
      "tags": []
     },
     "output_type": "execute_result"
    }
   ],
   "source": [
    "model1.fit(dataset.data,dataset.target)"
   ]
  },
  {
   "cell_type": "code",
   "execution_count": 0,
   "metadata": {
    "id": "atKFZdw-28rp",
    "colab_type": "code",
    "colab": {}
   },
   "outputs": [],
   "source": [
    "from sklearn.metrics import accuracy_score"
   ]
  },
  {
   "cell_type": "code",
   "execution_count": 0,
   "metadata": {
    "id": "B3UEvEwy3WkO",
    "colab_type": "code",
    "colab": {}
   },
   "outputs": [],
   "source": [
    ""
   ]
  },
  {
   "cell_type": "code",
   "execution_count": 0,
   "metadata": {
    "id": "YqoTxv2U2pW9",
    "colab_type": "code",
    "colab": {}
   },
   "outputs": [],
   "source": [
    "pred=model1.predict(dataset.data)"
   ]
  },
  {
   "cell_type": "code",
   "execution_count": 34,
   "metadata": {
    "id": "IYjna44Q30oz",
    "colab_type": "code",
    "colab": {
     "base_uri": "https://localhost:8080/",
     "height": 34.0
    },
    "outputId": "0bed821b-1ef5-43fc-82af-d61777f72c75",
    "executionInfo": {
     "status": "ok",
     "timestamp": 1.53984447463E12,
     "user_tz": -330.0,
     "elapsed": 1047.0,
     "user": {
      "displayName": "Kavitha V",
      "photoUrl": "",
      "userId": "00448912820684317706"
     }
    }
   },
   "outputs": [
    {
     "data": {
      "text/plain": [
       "numpy.ndarray"
      ]
     },
     "execution_count": 34,
     "metadata": {
      "tags": []
     },
     "output_type": "execute_result"
    }
   ],
   "source": [
    "type(pred)"
   ]
  },
  {
   "cell_type": "code",
   "execution_count": 35,
   "metadata": {
    "id": "snWzHCBF34Hu",
    "colab_type": "code",
    "colab": {
     "base_uri": "https://localhost:8080/",
     "height": 34.0
    },
    "outputId": "a0a77704-e2ee-4853-a5ec-dbeccb2bfb66",
    "executionInfo": {
     "status": "ok",
     "timestamp": 1.539844495542E12,
     "user_tz": -330.0,
     "elapsed": 1281.0,
     "user": {
      "displayName": "Kavitha V",
      "photoUrl": "",
      "userId": "00448912820684317706"
     }
    }
   },
   "outputs": [
    {
     "data": {
      "text/plain": [
       "numpy.ndarray"
      ]
     },
     "execution_count": 35,
     "metadata": {
      "tags": []
     },
     "output_type": "execute_result"
    }
   ],
   "source": [
    "type(dataset.target)"
   ]
  },
  {
   "cell_type": "code",
   "execution_count": 0,
   "metadata": {
    "id": "T8pIGPAA4z-u",
    "colab_type": "code",
    "colab": {}
   },
   "outputs": [],
   "source": [
    "Y=dataset.target"
   ]
  },
  {
   "cell_type": "code",
   "execution_count": 48,
   "metadata": {
    "id": "aQyfA6PK5ffY",
    "colab_type": "code",
    "colab": {
     "base_uri": "https://localhost:8080/",
     "height": 1904.0
    },
    "outputId": "74bb53cc-521f-452c-e7a7-f6e53f3e98f6",
    "executionInfo": {
     "status": "ok",
     "timestamp": 1.539844883819E12,
     "user_tz": -330.0,
     "elapsed": 1131.0,
     "user": {
      "displayName": "Kavitha V",
      "photoUrl": "",
      "userId": "00448912820684317706"
     }
    }
   },
   "outputs": [
    {
     "data": {
      "text/plain": [
       "array([205.80757936,  68.34874929, 176.57699985, 166.49798892,\n",
       "       128.40964698, 106.25462462,  74.50309843, 119.33026934,\n",
       "       158.9085443 , 213.58399963,  97.54754149,  96.22454284,\n",
       "       115.01053514, 164.31651367, 102.90296779, 176.68742712,\n",
       "       211.37648874, 182.72995776, 147.79266309, 123.76461899,\n",
       "       120.08956875,  86.48753745, 113.73716038, 255.06633073,\n",
       "       165.23635806, 147.34683255,  97.04138567, 178.90987852,\n",
       "       128.86078344, 184.57407373, 158.77444088,  69.48060683,\n",
       "       260.69924608, 112.04487131,  78.67580976,  87.11642963,\n",
       "       207.71318951, 157.39968146, 241.01705926, 136.76582605,\n",
       "       153.46414027,  74.10155505, 145.34461129,  77.9830855 ,\n",
       "       220.5638027 , 125.06029696, 142.24244785, 109.17211779,\n",
       "        73.72726192, 189.3090673 , 157.87301908, 169.24945771,\n",
       "       134.09305973, 157.71893916, 139.35332196,  72.92995428,\n",
       "       207.41134515,  80.0683223 , 103.00604013, 134.50634769,\n",
       "       114.31598141, 179.97082775,  61.91243923,  98.97973872,\n",
       "       113.66453007, 189.36793301, 148.47931557, 124.27748084,\n",
       "       114.55979224, 122.2280068 ,  74.22779034, 236.52938579,\n",
       "       142.99848236, 124.29542319, 150.79664619, 127.55545326,\n",
       "       191.12762708,  77.74088678, 166.30383024,  91.52874955,\n",
       "       174.45040753, 122.55164554,  63.7002028 , 151.80047906,\n",
       "        54.22796374, 166.34982094,  43.84559209, 152.68793754,\n",
       "        80.51116468, 106.6140422 ,  80.52496293, 187.05929404,\n",
       "       192.01390135,  60.98058783, 107.26450254, 124.69512532,\n",
       "       207.56818103, 214.04500024, 123.41130977, 138.67439453,\n",
       "       168.04256332, 106.89488496, 150.52098088, 158.06040529,\n",
       "       153.24648961, 115.96314024,  73.35616149, 156.04330309,\n",
       "       229.71814152, 143.54675983,  39.86447234, 121.7651418 ,\n",
       "       152.77321372, 207.88248971, 292.08664414, 189.30453064,\n",
       "       213.62671359, 235.37221125, 165.16992047, 150.73599766,\n",
       "       156.55213082, 200.05757673, 219.15729956, 174.40707559,\n",
       "       168.95648479, 188.13602036,  58.54727038, 108.24177681,\n",
       "        92.68631098, 210.49390878, 245.14482508,  70.10796882,\n",
       "       113.17387188,  68.92374082, 141.57267134, 239.02960969,\n",
       "        58.77585229, 234.95868741, 254.5541036 , 253.00058012,\n",
       "       155.76857173, 229.95023321, 170.53100807, 118.02707336,\n",
       "       178.24542388, 239.88715023, 190.12181297, 228.36791998,\n",
       "       114.45046252, 177.9140978 , 208.99032937, 144.46052246,\n",
       "       200.0689707 , 121.53565327, 150.4274824 , 199.02623655,\n",
       "       146.11068976, 123.85564598,  85.33077792, 234.95774165,\n",
       "        82.3823313 , 231.72792259, 144.26149537, 197.06330721,\n",
       "       146.30435505,  77.24469908,  60.00046946, 262.9354474 ,\n",
       "       225.10707709, 222.7909015 ,  47.68762211,  88.36291682,\n",
       "       222.02760483,  96.96065357, 164.11538375, 119.93691235,\n",
       "       157.68365675, 223.02729404,  99.85741463, 165.5861733 ,\n",
       "       179.04590681,  89.85720939, 171.59439925, 158.06777611,\n",
       "       201.18773064, 186.32722517, 196.98150896,  67.23658769,\n",
       "       154.45809989, 115.89849312, 195.36662029, 127.72379704,\n",
       "        91.47112834, 140.4485462 , 154.86538108, 169.60274415,\n",
       "        98.74437861, 189.84794446, 143.32869414, 177.79951502,\n",
       "        95.44275478,  69.45369005, 164.96347384, 197.63340523,\n",
       "       177.89371017, 228.26291463, 160.39349305, 212.17683341,\n",
       "       222.24440906, 172.55723463, 125.49955527, 174.82534995,\n",
       "       152.23632934,  98.59521353,  99.35622069, 262.10102071,\n",
       "       223.03590979, 221.16658314, 133.1692512 , 144.79890714,\n",
       "        54.32926133, 141.59049447, 153.49467326, 124.83287306,\n",
       "        77.31764629, 230.06295513,  78.95887277, 105.24119361,\n",
       "       117.84547716,  99.09990867, 166.85110508, 158.96617353,\n",
       "       158.01945747, 142.83743323, 231.51796783, 176.34962405,\n",
       "       186.97426527,  65.67113366, 189.95466624, 179.78881596,\n",
       "       234.51983545, 119.36533143,  86.30958206, 100.93539073,\n",
       "       140.49730226, 101.74581586, 120.51891641,  82.52457268,\n",
       "       234.54891001, 245.26182439, 263.50939907, 275.08957873,\n",
       "       180.47865553, 202.91572116, 255.96552825, 118.07433505,\n",
       "       267.92335921, 104.40914893, 115.96017828, 140.68854191,\n",
       "        58.92396827, 129.08951199, 263.38876051,  45.71631517,\n",
       "       123.95743606, 130.80892489,  35.5714526 , 138.21083723,\n",
       "       243.88873763,  89.44157943, 191.6735278 , 164.25100801,\n",
       "       147.52205533, 193.14848856, 176.0742166 , 158.04769418,\n",
       "       189.35193253, 116.17048667, 111.30361801, 117.36243916,\n",
       "       165.41106861,  97.24551477, 139.57813879,  84.65859863,\n",
       "       159.62705147, 201.83779993,  79.62747943, 146.70086308,\n",
       "        79.85535299, 191.26666543, 220.49747223, 203.89004455,\n",
       "        93.04174285, 179.69338234,  82.77018814, 152.712654  ,\n",
       "        77.09084461,  98.41151899, 106.85048286, 123.71450434,\n",
       "       217.90538084, 125.92208015, 206.50016769, 230.82986931,\n",
       "       122.22518223, 135.06391791, 126.68695711, 148.26371309,\n",
       "        88.25218688, 138.9675933 , 203.82078724, 172.42036356,\n",
       "       123.097536  , 213.72145294, 174.62104194, 110.00337063,\n",
       "       198.4246994 , 173.04658358, 162.37168332, 192.58899185,\n",
       "       191.2014839 , 284.57618359, 281.32609345, 218.14614425,\n",
       "       209.87706848, 216.65476485, 156.62425206, 223.85472944,\n",
       "       188.6685193 , 103.44810326, 178.51724457, 111.88872679,\n",
       "       290.82225531, 182.29622347,  79.7495048 ,  86.47411693,\n",
       "       249.21495466, 174.07753729, 122.17532374, 146.23564682,\n",
       "       170.7642238 , 183.60993953, 163.59442448, 157.52468437,\n",
       "       144.15303227, 125.16941712, 177.84301342, 104.19220224,\n",
       "       131.62886496,  95.33405948, 250.04927496,  86.48720312,\n",
       "        61.2538616 , 159.4458759 , 192.92900974, 133.76340829,\n",
       "        93.61653322, 202.20117782,  53.27754068, 174.42891388,\n",
       "       196.48356127, 118.75702455, 234.99368002, 164.5920547 ,\n",
       "       160.0368615 , 162.12819132, 254.13369668, 257.03077815,\n",
       "       197.90833986, 183.8681642 ,  58.84485897, 196.22251988,\n",
       "       110.47882866, 142.23582659, 128.2330276 , 179.78995197,\n",
       "       211.2158399 , 169.17782707, 163.99855442, 136.15794522,\n",
       "       174.77839257,  74.41422614, 247.46675411, 114.10096323,\n",
       "       111.60348488, 139.83692794, 109.86922196,  92.65662983,\n",
       "       162.73332252,  75.27662433, 255.22083286,  54.26476415,\n",
       "        98.79863971, 100.77313389, 260.79479281, 170.05600633,\n",
       "        62.88901188, 181.91064921, 171.23673873, 189.12133504,\n",
       "       186.84321947,  87.17754751, 147.8782517 , 251.35267021,\n",
       "       199.67192762, 283.07618285,  50.98324173, 172.62089309,\n",
       "       203.9120768 , 173.80295807, 158.07488612, 150.87534211,\n",
       "       232.68369977, 121.7092275 , 164.5935416 , 172.15632012,\n",
       "       226.84245131, 149.82221164,  99.22645069,  80.94749676,\n",
       "       140.25111665, 191.62147858, 199.30650542, 153.07751194,\n",
       "       171.37715429, 111.69352353, 162.41058805, 130.00820256,\n",
       "       258.17671611, 100.76901295, 115.68213239, 122.21242217,\n",
       "       218.19134193,  60.96422929, 131.50555852, 119.62180178,\n",
       "        52.81832945, 192.8509828 , 101.29421432, 121.57412393,\n",
       "       211.55292417,  52.70999021])"
      ]
     },
     "execution_count": 48,
     "metadata": {
      "tags": []
     },
     "output_type": "execute_result"
    }
   ],
   "source": [
    "pred"
   ]
  },
  {
   "cell_type": "code",
   "execution_count": 51,
   "metadata": {
    "id": "YRRhjSL36Xb4",
    "colab_type": "code",
    "colab": {
     "base_uri": "https://localhost:8080/",
     "height": 163.0
    },
    "outputId": "f9486c71-0746-441a-fb5f-1bcb36b4dcb6",
    "executionInfo": {
     "status": "error",
     "timestamp": 1.539844974847E12,
     "user_tz": -330.0,
     "elapsed": 1027.0,
     "user": {
      "displayName": "Kavitha V",
      "photoUrl": "",
      "userId": "00448912820684317706"
     }
    }
   },
   "outputs": [
    {
     "ename": "TypeError",
     "evalue": "ignored",
     "traceback": [
      "\u001b[0;31m---------------------------------------------------------------------------\u001b[0m",
      "\u001b[0;31mTypeError\u001b[0m                                 Traceback (most recent call last)",
      "\u001b[0;32m<ipython-input-51-9a45e926e8db>\u001b[0m in \u001b[0;36m<module>\u001b[0;34m()\u001b[0m\n\u001b[0;32m----> 1\u001b[0;31m \u001b[0maccuracy_score\u001b[0m\u001b[0;34m(\u001b[0m\u001b[0mnp\u001b[0m\u001b[0;34m.\u001b[0m\u001b[0marray\u001b[0m\u001b[0;34m(\u001b[0m\u001b[0;34m[\u001b[0m\u001b[0;34m[\u001b[0m\u001b[0;36m0\u001b[0m\u001b[0;34m,\u001b[0m \u001b[0;36m1\u001b[0m\u001b[0;34m]\u001b[0m\u001b[0;34m,\u001b[0m \u001b[0;34m[\u001b[0m\u001b[0;36m1\u001b[0m\u001b[0;34m,\u001b[0m \u001b[0;36m1\u001b[0m\u001b[0;34m]\u001b[0m\u001b[0;34m]\u001b[0m\u001b[0;34m)\u001b[0m\u001b[0;34m)\u001b[0m\u001b[0;34m\u001b[0m\u001b[0m\n\u001b[0m",
      "\u001b[0;31mTypeError\u001b[0m: accuracy_score() missing 1 required positional argument: 'y_pred'"
     ],
     "output_type": "error"
    }
   ],
   "source": [
    "accuracy_score(np.array([[0, 1], [1, 1]]))"
   ]
  },
  {
   "cell_type": "code",
   "execution_count": 49,
   "metadata": {
    "id": "SniE9xLa6ILB",
    "colab_type": "code",
    "colab": {
     "base_uri": "https://localhost:8080/",
     "height": 714.0
    },
    "outputId": "ac48f141-d816-42af-a84a-bd1ad5966926",
    "executionInfo": {
     "status": "ok",
     "timestamp": 1.539844912346E12,
     "user_tz": -330.0,
     "elapsed": 1263.0,
     "user": {
      "displayName": "Kavitha V",
      "photoUrl": "",
      "userId": "00448912820684317706"
     }
    }
   },
   "outputs": [
    {
     "data": {
      "text/plain": [
       "array([151.,  75., 141., 206., 135.,  97., 138.,  63., 110., 310., 101.,\n",
       "        69., 179., 185., 118., 171., 166., 144.,  97., 168.,  68.,  49.,\n",
       "        68., 245., 184., 202., 137.,  85., 131., 283., 129.,  59., 341.,\n",
       "        87.,  65., 102., 265., 276., 252.,  90., 100.,  55.,  61.,  92.,\n",
       "       259.,  53., 190., 142.,  75., 142., 155., 225.,  59., 104., 182.,\n",
       "       128.,  52.,  37., 170., 170.,  61., 144.,  52., 128.,  71., 163.,\n",
       "       150.,  97., 160., 178.,  48., 270., 202., 111.,  85.,  42., 170.,\n",
       "       200., 252., 113., 143.,  51.,  52., 210.,  65., 141.,  55., 134.,\n",
       "        42., 111.,  98., 164.,  48.,  96.,  90., 162., 150., 279.,  92.,\n",
       "        83., 128., 102., 302., 198.,  95.,  53., 134., 144., 232.,  81.,\n",
       "       104.,  59., 246., 297., 258., 229., 275., 281., 179., 200., 200.,\n",
       "       173., 180.,  84., 121., 161.,  99., 109., 115., 268., 274., 158.,\n",
       "       107.,  83., 103., 272.,  85., 280., 336., 281., 118., 317., 235.,\n",
       "        60., 174., 259., 178., 128.,  96., 126., 288.,  88., 292.,  71.,\n",
       "       197., 186.,  25.,  84.,  96., 195.,  53., 217., 172., 131., 214.,\n",
       "        59.,  70., 220., 268., 152.,  47.,  74., 295., 101., 151., 127.,\n",
       "       237., 225.,  81., 151., 107.,  64., 138., 185., 265., 101., 137.,\n",
       "       143., 141.,  79., 292., 178.,  91., 116.,  86., 122.,  72., 129.,\n",
       "       142.,  90., 158.,  39., 196., 222., 277.,  99., 196., 202., 155.,\n",
       "        77., 191.,  70.,  73.,  49.,  65., 263., 248., 296., 214., 185.,\n",
       "        78.,  93., 252., 150.,  77., 208.,  77., 108., 160.,  53., 220.,\n",
       "       154., 259.,  90., 246., 124.,  67.,  72., 257., 262., 275., 177.,\n",
       "        71.,  47., 187., 125.,  78.,  51., 258., 215., 303., 243.,  91.,\n",
       "       150., 310., 153., 346.,  63.,  89.,  50.,  39., 103., 308., 116.,\n",
       "       145.,  74.,  45., 115., 264.,  87., 202., 127., 182., 241.,  66.,\n",
       "        94., 283.,  64., 102., 200., 265.,  94., 230., 181., 156., 233.,\n",
       "        60., 219.,  80.,  68., 332., 248.,  84., 200.,  55.,  85.,  89.,\n",
       "        31., 129.,  83., 275.,  65., 198., 236., 253., 124.,  44., 172.,\n",
       "       114., 142., 109., 180., 144., 163., 147.,  97., 220., 190., 109.,\n",
       "       191., 122., 230., 242., 248., 249., 192., 131., 237.,  78., 135.,\n",
       "       244., 199., 270., 164.,  72.,  96., 306.,  91., 214.,  95., 216.,\n",
       "       263., 178., 113., 200., 139., 139.,  88., 148.,  88., 243.,  71.,\n",
       "        77., 109., 272.,  60.,  54., 221.,  90., 311., 281., 182., 321.,\n",
       "        58., 262., 206., 233., 242., 123., 167.,  63., 197.,  71., 168.,\n",
       "       140., 217., 121., 235., 245.,  40.,  52., 104., 132.,  88.,  69.,\n",
       "       219.,  72., 201., 110.,  51., 277.,  63., 118.,  69., 273., 258.,\n",
       "        43., 198., 242., 232., 175.,  93., 168., 275., 293., 281.,  72.,\n",
       "       140., 189., 181., 209., 136., 261., 113., 131., 174., 257.,  55.,\n",
       "        84.,  42., 146., 212., 233.,  91., 111., 152., 120.,  67., 310.,\n",
       "        94., 183.,  66., 173.,  72.,  49.,  64.,  48., 178., 104., 132.,\n",
       "       220.,  57.])"
      ]
     },
     "execution_count": 49,
     "metadata": {
      "tags": []
     },
     "output_type": "execute_result"
    }
   ],
   "source": [
    "dataset.target"
   ]
  },
  {
   "cell_type": "code",
   "execution_count": 47,
   "metadata": {
    "id": "Bt-7ogHB3d4Y",
    "colab_type": "code",
    "colab": {
     "base_uri": "https://localhost:8080/",
     "height": 401.0
    },
    "outputId": "9069cae0-d575-47a0-e11b-4f1182ab70cd",
    "executionInfo": {
     "status": "error",
     "timestamp": 1.539844837847E12,
     "user_tz": -330.0,
     "elapsed": 1126.0,
     "user": {
      "displayName": "Kavitha V",
      "photoUrl": "",
      "userId": "00448912820684317706"
     }
    }
   },
   "outputs": [
    {
     "ename": "ValueError",
     "evalue": "ignored",
     "traceback": [
      "\u001b[0;31m---------------------------------------------------------------------------\u001b[0m",
      "\u001b[0;31mValueError\u001b[0m                                Traceback (most recent call last)",
      "\u001b[0;32m<ipython-input-47-7c7c4e79edd3>\u001b[0m in \u001b[0;36m<module>\u001b[0;34m()\u001b[0m\n\u001b[0;32m----> 1\u001b[0;31m \u001b[0maccuracy_score\u001b[0m\u001b[0;34m(\u001b[0m\u001b[0;34m[\u001b[0m\u001b[0mY\u001b[0m\u001b[0;34m]\u001b[0m\u001b[0;34m,\u001b[0m\u001b[0;34m[\u001b[0m\u001b[0mpred\u001b[0m\u001b[0;34m]\u001b[0m\u001b[0;34m)\u001b[0m\u001b[0;34m\u001b[0m\u001b[0m\n\u001b[0m",
      "\u001b[0;32m/usr/local/lib/python3.6/dist-packages/sklearn/metrics/classification.py\u001b[0m in \u001b[0;36maccuracy_score\u001b[0;34m(y_true, y_pred, normalize, sample_weight)\u001b[0m\n\u001b[1;32m    174\u001b[0m \u001b[0;34m\u001b[0m\u001b[0m\n\u001b[1;32m    175\u001b[0m     \u001b[0;31m# Compute accuracy for each possible representation\u001b[0m\u001b[0;34m\u001b[0m\u001b[0;34m\u001b[0m\u001b[0m\n\u001b[0;32m--> 176\u001b[0;31m     \u001b[0my_type\u001b[0m\u001b[0;34m,\u001b[0m \u001b[0my_true\u001b[0m\u001b[0;34m,\u001b[0m \u001b[0my_pred\u001b[0m \u001b[0;34m=\u001b[0m \u001b[0m_check_targets\u001b[0m\u001b[0;34m(\u001b[0m\u001b[0my_true\u001b[0m\u001b[0;34m,\u001b[0m \u001b[0my_pred\u001b[0m\u001b[0;34m)\u001b[0m\u001b[0;34m\u001b[0m\u001b[0m\n\u001b[0m\u001b[1;32m    177\u001b[0m     \u001b[0;32mif\u001b[0m \u001b[0my_type\u001b[0m\u001b[0;34m.\u001b[0m\u001b[0mstartswith\u001b[0m\u001b[0;34m(\u001b[0m\u001b[0;34m'multilabel'\u001b[0m\u001b[0;34m)\u001b[0m\u001b[0;34m:\u001b[0m\u001b[0;34m\u001b[0m\u001b[0m\n\u001b[1;32m    178\u001b[0m         \u001b[0mdiffering_labels\u001b[0m \u001b[0;34m=\u001b[0m \u001b[0mcount_nonzero\u001b[0m\u001b[0;34m(\u001b[0m\u001b[0my_true\u001b[0m \u001b[0;34m-\u001b[0m \u001b[0my_pred\u001b[0m\u001b[0;34m,\u001b[0m \u001b[0maxis\u001b[0m\u001b[0;34m=\u001b[0m\u001b[0;36m1\u001b[0m\u001b[0;34m)\u001b[0m\u001b[0;34m\u001b[0m\u001b[0m\n",
      "\u001b[0;32m/usr/local/lib/python3.6/dist-packages/sklearn/metrics/classification.py\u001b[0m in \u001b[0;36m_check_targets\u001b[0;34m(y_true, y_pred)\u001b[0m\n\u001b[1;32m     79\u001b[0m     \u001b[0;32mif\u001b[0m \u001b[0mlen\u001b[0m\u001b[0;34m(\u001b[0m\u001b[0my_type\u001b[0m\u001b[0;34m)\u001b[0m \u001b[0;34m>\u001b[0m \u001b[0;36m1\u001b[0m\u001b[0;34m:\u001b[0m\u001b[0;34m\u001b[0m\u001b[0m\n\u001b[1;32m     80\u001b[0m         raise ValueError(\"Classification metrics can't handle a mix of {0} \"\n\u001b[0;32m---> 81\u001b[0;31m                          \"and {1} targets\".format(type_true, type_pred))\n\u001b[0m\u001b[1;32m     82\u001b[0m \u001b[0;34m\u001b[0m\u001b[0m\n\u001b[1;32m     83\u001b[0m     \u001b[0;31m# We can't have more than one value on y_type => The set is no more needed\u001b[0m\u001b[0;34m\u001b[0m\u001b[0;34m\u001b[0m\u001b[0m\n",
      "\u001b[0;31mValueError\u001b[0m: Classification metrics can't handle a mix of multiclass-multioutput and continuous-multioutput targets"
     ],
     "output_type": "error"
    }
   ],
   "source": [
    "accuracy_score([Y],[pred])"
   ]
  },
  {
   "cell_type": "code",
   "execution_count": 0,
   "metadata": {
    "id": "1Wqg5bbQ4LB0",
    "colab_type": "code",
    "colab": {}
   },
   "outputs": [],
   "source": [
    " y_pred = np.array([0, 2, 1, 3])\n",
    " y_true = np.array([0, 1, 2, 3])"
   ]
  },
  {
   "cell_type": "code",
   "execution_count": 38,
   "metadata": {
    "id": "JAAjgxJs4uLK",
    "colab_type": "code",
    "colab": {
     "base_uri": "https://localhost:8080/",
     "height": 34.0
    },
    "outputId": "61bd8b63-7a47-4da5-d57c-a2fe708e71d0",
    "executionInfo": {
     "status": "ok",
     "timestamp": 1.539844537083E12,
     "user_tz": -330.0,
     "elapsed": 1082.0,
     "user": {
      "displayName": "Kavitha V",
      "photoUrl": "",
      "userId": "00448912820684317706"
     }
    }
   },
   "outputs": [
    {
     "data": {
      "text/plain": [
       "numpy.ndarray"
      ]
     },
     "execution_count": 38,
     "metadata": {
      "tags": []
     },
     "output_type": "execute_result"
    }
   ],
   "source": [
    "type(y_pred)"
   ]
  },
  {
   "cell_type": "code",
   "execution_count": 37,
   "metadata": {
    "id": "nma8gqWA4QUA",
    "colab_type": "code",
    "colab": {
     "base_uri": "https://localhost:8080/",
     "height": 34.0
    },
    "outputId": "e8ff2874-c4c2-44d1-996b-b260778cd65b",
    "executionInfo": {
     "status": "ok",
     "timestamp": 1.539844521638E12,
     "user_tz": -330.0,
     "elapsed": 1187.0,
     "user": {
      "displayName": "Kavitha V",
      "photoUrl": "",
      "userId": "00448912820684317706"
     }
    }
   },
   "outputs": [
    {
     "data": {
      "text/plain": [
       "0.5"
      ]
     },
     "execution_count": 37,
     "metadata": {
      "tags": []
     },
     "output_type": "execute_result"
    }
   ],
   "source": [
    "accuracy_score(y_true,y_pred)"
   ]
  },
  {
   "cell_type": "code",
   "execution_count": 5,
   "metadata": {
    "id": "sMF3zfBSwqUN",
    "colab_type": "code",
    "colab": {
     "base_uri": "https://localhost:8080/",
     "height": 34.0
    },
    "outputId": "8e95c33c-469a-4ca1-add9-02888ebf0ced",
    "executionInfo": {
     "status": "ok",
     "timestamp": 1.539842451349E12,
     "user_tz": -330.0,
     "elapsed": 972.0,
     "user": {
      "displayName": "Kavitha V",
      "photoUrl": "",
      "userId": "00448912820684317706"
     }
    }
   },
   "outputs": [
    {
     "data": {
      "text/plain": [
       "(442, 10)"
      ]
     },
     "execution_count": 5,
     "metadata": {
      "tags": []
     },
     "output_type": "execute_result"
    }
   ],
   "source": [
    "dataset.data.shape"
   ]
  },
  {
   "cell_type": "markdown",
   "metadata": {
    "id": "m2ExEvtMw6Hk",
    "colab_type": "text"
   },
   "source": [
    ""
   ]
  },
  {
   "cell_type": "code",
   "execution_count": 7,
   "metadata": {
    "id": "b3jKpn2Hwz4Q",
    "colab_type": "code",
    "colab": {
     "base_uri": "https://localhost:8080/",
     "height": 34.0
    },
    "outputId": "11a6bc18-29c3-49b1-a4c1-b81a423ea904",
    "executionInfo": {
     "status": "ok",
     "timestamp": 1.539842488047E12,
     "user_tz": -330.0,
     "elapsed": 964.0,
     "user": {
      "displayName": "Kavitha V",
      "photoUrl": "",
      "userId": "00448912820684317706"
     }
    }
   },
   "outputs": [
    {
     "data": {
      "text/plain": [
       "442"
      ]
     },
     "execution_count": 7,
     "metadata": {
      "tags": []
     },
     "output_type": "execute_result"
    }
   ],
   "source": [
    "dataset.target.size"
   ]
  },
  {
   "cell_type": "code",
   "execution_count": 9,
   "metadata": {
    "id": "X3_jW1W7xVEK",
    "colab_type": "code",
    "colab": {
     "base_uri": "https://localhost:8080/",
     "height": 163.0
    },
    "outputId": "f5daf5be-e131-414c-e134-097dfeb7f764",
    "executionInfo": {
     "status": "error",
     "timestamp": 1.539842623762E12,
     "user_tz": -330.0,
     "elapsed": 963.0,
     "user": {
      "displayName": "Kavitha V",
      "photoUrl": "",
      "userId": "00448912820684317706"
     }
    }
   },
   "outputs": [
    {
     "ename": "AttributeError",
     "evalue": "ignored",
     "traceback": [
      "\u001b[0;31m---------------------------------------------------------------------------\u001b[0m",
      "\u001b[0;31mAttributeError\u001b[0m                            Traceback (most recent call last)",
      "\u001b[0;32m<ipython-input-9-87f399e166ca>\u001b[0m in \u001b[0;36m<module>\u001b[0;34m()\u001b[0m\n\u001b[0;32m----> 1\u001b[0;31m \u001b[0mdataset\u001b[0m\u001b[0;34m.\u001b[0m\u001b[0mdata\u001b[0m\u001b[0;34m.\u001b[0m\u001b[0mcolumns\u001b[0m\u001b[0;34m\u001b[0m\u001b[0m\n\u001b[0m",
      "\u001b[0;31mAttributeError\u001b[0m: 'numpy.ndarray' object has no attribute 'columns'"
     ],
     "output_type": "error"
    }
   ],
   "source": [
    ""
   ]
  }
 ],
 "metadata": {
  "colab": {
   "name": "Diabeties.ipynb",
   "version": "0.3.2",
   "provenance": [],
   "collapsed_sections": []
  },
  "kernelspec": {
   "name": "python3",
   "display_name": "Python 3"
  },
  "accelerator": "GPU"
 },
 "nbformat": 4,
 "nbformat_minor": 0
}
