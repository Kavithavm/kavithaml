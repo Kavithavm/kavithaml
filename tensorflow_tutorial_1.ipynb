{
 "cells": [
  {
   "cell_type": "code",
   "execution_count": 0,
   "metadata": {
    "id": "F8FeslgClehk",
    "colab_type": "code",
    "colab": {}
   },
   "outputs": [],
   "source": [
    "import tensorflow as tf"
   ]
  },
  {
   "cell_type": "code",
   "execution_count": 0,
   "metadata": {
    "id": "opqMK0ZJnXSX",
    "colab_type": "code",
    "colab": {}
   },
   "outputs": [],
   "source": [
    "a=tf.placeholder(tf.int16)"
   ]
  },
  {
   "cell_type": "code",
   "execution_count": 0,
   "metadata": {
    "id": "wJALLqbunqVa",
    "colab_type": "code",
    "colab": {}
   },
   "outputs": [],
   "source": [
    "b=tf.placeholder(tf.int16)"
   ]
  },
  {
   "cell_type": "code",
   "execution_count": 0,
   "metadata": {
    "id": "G6WHSngnntdv",
    "colab_type": "code",
    "colab": {}
   },
   "outputs": [],
   "source": [
    "addition=tf.add(a,b)"
   ]
  },
  {
   "cell_type": "code",
   "execution_count": 6,
   "metadata": {
    "id": "3PPKRslGnw05",
    "colab_type": "code",
    "colab": {
     "base_uri": "https://localhost:8080/",
     "height": 88.0
    },
    "outputId": "2ab70d25-782e-48b1-daf9-d81664502401",
    "executionInfo": {
     "status": "ok",
     "timestamp": 1.543648528668E12,
     "user_tz": -330.0,
     "elapsed": 1284.0,
     "user": {
      "displayName": "Kavitha V",
      "photoUrl": "",
      "userId": "00448912820684317706"
     }
    }
   },
   "outputs": [
    {
     "name": "stdout",
     "output_type": "stream",
     "text": [
      "WARNING:tensorflow:From /usr/local/lib/python3.6/dist-packages/tensorflow/python/util/tf_should_use.py:189: initialize_all_variables (from tensorflow.python.ops.variables) is deprecated and will be removed after 2017-03-02.\n",
      "Instructions for updating:\n",
      "Use `tf.global_variables_initializer` instead.\n"
     ]
    }
   ],
   "source": [
    "init=tf.initialize_all_variables()"
   ]
  },
  {
   "cell_type": "code",
   "execution_count": 10,
   "metadata": {
    "id": "08C4Len3n1_h",
    "colab_type": "code",
    "colab": {
     "base_uri": "https://localhost:8080/",
     "height": 34.0
    },
    "outputId": "bbb2d237-d3af-44dd-bfd7-3e376d09879c",
    "executionInfo": {
     "status": "ok",
     "timestamp": 1.543648944187E12,
     "user_tz": -330.0,
     "elapsed": 1197.0,
     "user": {
      "displayName": "Kavitha V",
      "photoUrl": "",
      "userId": "00448912820684317706"
     }
    }
   },
   "outputs": [
    {
     "name": "stdout",
     "output_type": "stream",
     "text": [
      "11\n"
     ]
    }
   ],
   "source": [
    "with tf.Session() as sess:\n",
    "  sess.run(init)\n",
    "  print(sess.run(addition,feed_dict={a:5,b:6}))\n",
    " \n",
    "sess.close()"
   ]
  }
 ],
 "metadata": {
  "colab": {
   "name": "tensorflow_tutorial_1.ipynb",
   "version": "0.3.2",
   "provenance": []
  },
  "kernelspec": {
   "name": "python3",
   "display_name": "Python 3"
  },
  "accelerator": "TPU"
 },
 "nbformat": 4,
 "nbformat_minor": 0
}
