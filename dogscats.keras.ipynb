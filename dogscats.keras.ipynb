{
 "cells": [
  {
   "cell_type": "code",
   "execution_count": 2,
   "metadata": {
    "id": "314fDVE9DrTD",
    "colab_type": "code",
    "outputId": "6a7c41a7-b2c4-4754-85b2-d9538bc2c94a",
    "executionInfo": {
     "status": "ok",
     "timestamp": 1.546076844479E12,
     "user_tz": -330.0,
     "elapsed": 2473.0,
     "user": {
      "displayName": "Kavitha V",
      "photoUrl": "",
      "userId": "00448912820684317706"
     }
    },
    "colab": {
     "base_uri": "https://localhost:8080/",
     "height": 34.0
    }
   },
   "outputs": [
    {
     "name": "stderr",
     "output_type": "stream",
     "text": [
      "Using TensorFlow backend.\n"
     ]
    }
   ],
   "source": [
    "import os\n",
    "import numpy as np\n",
    "import pandas as pd\n",
    "import scipy\n",
    "import sklearn\n",
    "import keras\n",
    "from keras.models import Sequential\n",
    "import cv2\n",
    "# from skimage import io"
   ]
  },
  {
   "cell_type": "code",
   "execution_count": 3,
   "metadata": {
    "id": "1bx5U7SCDxaC",
    "colab_type": "code",
    "outputId": "85071b2f-004e-443a-bffe-c90427a359f8",
    "executionInfo": {
     "status": "ok",
     "timestamp": 1.546076899883E12,
     "user_tz": -330.0,
     "elapsed": 43899.0,
     "user": {
      "displayName": "Kavitha V",
      "photoUrl": "",
      "userId": "00448912820684317706"
     }
    },
    "colab": {
     "base_uri": "https://localhost:8080/",
     "height": 122.0
    }
   },
   "outputs": [
    {
     "name": "stdout",
     "output_type": "stream",
     "text": [
      "Go to this URL in a browser: https://accounts.google.com/o/oauth2/auth?client_id=947318989803-6bn6qk8qdgf4n4g3pfee6491hc0brc4i.apps.googleusercontent.com&redirect_uri=urn%3Aietf%3Awg%3Aoauth%3A2.0%3Aoob&scope=email%20https%3A%2F%2Fwww.googleapis.com%2Fauth%2Fdocs.test%20https%3A%2F%2Fwww.googleapis.com%2Fauth%2Fdrive%20https%3A%2F%2Fwww.googleapis.com%2Fauth%2Fdrive.photos.readonly%20https%3A%2F%2Fwww.googleapis.com%2Fauth%2Fpeopleapi.readonly&response_type=code\n",
      "\n",
      "Enter your authorization code:\n",
      "··········\n",
      "Mounted at /content/drive\n"
     ]
    }
   ],
   "source": [
    "from google.colab import drive\n",
    "drive.mount('/content/drive')"
   ]
  },
  {
   "cell_type": "code",
   "execution_count": 4,
   "metadata": {
    "id": "-FT9YOzzDxeC",
    "colab_type": "code",
    "outputId": "58c2531b-9b0b-4068-ffa3-6096547b00b7",
    "executionInfo": {
     "status": "ok",
     "timestamp": 1.546076905575E12,
     "user_tz": -330.0,
     "elapsed": 2552.0,
     "user": {
      "displayName": "Kavitha V",
      "photoUrl": "",
      "userId": "00448912820684317706"
     }
    },
    "colab": {
     "base_uri": "https://localhost:8080/",
     "height": 34.0
    }
   },
   "outputs": [
    {
     "name": "stdout",
     "output_type": "stream",
     "text": [
      "\u001b[0m\u001b[01;34mdrive\u001b[0m/  \u001b[01;34msample_data\u001b[0m/\n"
     ]
    }
   ],
   "source": [
    "ls\n"
   ]
  },
  {
   "cell_type": "code",
   "execution_count": 0,
   "metadata": {
    "id": "6BkpZUVYDxlX",
    "colab_type": "code",
    "colab": {}
   },
   "outputs": [],
   "source": [
    "os.chdir('/content/drive/My Drive/ML')"
   ]
  },
  {
   "cell_type": "code",
   "execution_count": 7,
   "metadata": {
    "id": "yWlncvMGE1bY",
    "colab_type": "code",
    "outputId": "964568bf-2c3b-42d6-bb66-e537588e97fa",
    "executionInfo": {
     "status": "ok",
     "timestamp": 1.546076918683E12,
     "user_tz": -330.0,
     "elapsed": 2453.0,
     "user": {
      "displayName": "Kavitha V",
      "photoUrl": "",
      "userId": "00448912820684317706"
     }
    },
    "colab": {
     "base_uri": "https://localhost:8080/",
     "height": 204.0
    }
   },
   "outputs": [
    {
     "name": "stdout",
     "output_type": "stream",
     "text": [
      "\u001b[0m\u001b[01;34m'2010 capital bikes'\u001b[0m/                          \u001b[01;34mLoan_Prediction_Classification\u001b[0m/\n",
      "\u001b[01;34m'Bigmart sales'\u001b[0m/                               \u001b[01;34mMNIST\u001b[0m/\n",
      "\u001b[01;34m'Black Friday'\u001b[0m/                               'MNIST Keras.ipynb'\n",
      " boostingML_BigMart.ipynb                     'python with ml and projects.rar'\n",
      " \u001b[01;34mBoston\u001b[0m/                                       siva.jpg\n",
      " Dimentionality_reduction_fashionMNIST.ipynb   training.csv\n",
      " \u001b[01;34mdogscats\u001b[0m/                                    \u001b[01;34m'Turkish student data set'\u001b[0m/\n",
      " dogscats.keras.ipynb                          Untitled0.ipynb\n",
      " gridsearch                                    Untitled1.ipynb\n",
      "\u001b[01;34m'Heights and Weights'\u001b[0m/                        \u001b[01;34m'wine dataset'\u001b[0m/\n",
      " KavithabigmartsalesML.ipynb\n"
     ]
    }
   ],
   "source": [
    "ls"
   ]
  },
  {
   "cell_type": "code",
   "execution_count": 0,
   "metadata": {
    "id": "tJXcM3-cE4gh",
    "colab_type": "code",
    "colab": {}
   },
   "outputs": [],
   "source": [
    "\n",
    "\n",
    "os.chdir('/content/drive/My Drive/ML/dogscats/')\n"
   ]
  },
  {
   "cell_type": "code",
   "execution_count": 9,
   "metadata": {
    "id": "mVcm3LYzFC67",
    "colab_type": "code",
    "outputId": "777a2764-67f5-47aa-bd03-b4955d0a5c60",
    "executionInfo": {
     "status": "ok",
     "timestamp": 1.54607693151E12,
     "user_tz": -330.0,
     "elapsed": 2817.0,
     "user": {
      "displayName": "Kavitha V",
      "photoUrl": "",
      "userId": "00448912820684317706"
     }
    },
    "colab": {
     "base_uri": "https://localhost:8080/",
     "height": 51.0
    }
   },
   "outputs": [
    {
     "name": "stdout",
     "output_type": "stream",
     "text": [
      " dogsncats.keras.ipynb  'sample testing.ipynb'   \u001b[0m\u001b[01;34mtrain\u001b[0m/\n",
      " \u001b[01;34msample\u001b[0m/                 \u001b[01;34mtest1\u001b[0m/                  \u001b[01;34mvalid\u001b[0m/\n"
     ]
    }
   ],
   "source": [
    "ls"
   ]
  },
  {
   "cell_type": "code",
   "execution_count": 0,
   "metadata": {
    "id": "xX63y1RvFJfy",
    "colab_type": "code",
    "colab": {}
   },
   "outputs": [],
   "source": [
    "#Defining the File Path\n",
    "import os\n",
    "cat=os.listdir(\"/content/drive/My Drive/ML/dogscats/train/cats\")\n",
    "dog=os.listdir(\"/content/drive/My Drive/ML/dogscats/train/dogs\")\n",
    "filepath=\"/content/drive/My Drive/ML/dogscats/train/cats/\"\n",
    "filepath2=\"/content/drive/My Drive/ML/dogscats/train/dogs/\""
   ]
  },
  {
   "cell_type": "code",
   "execution_count": 15,
   "metadata": {
    "id": "UDNt7EzYYPFq",
    "colab_type": "code",
    "outputId": "206e11a8-8213-4543-8247-8e561b75bac1",
    "executionInfo": {
     "status": "ok",
     "timestamp": 1.546077141734E12,
     "user_tz": -330.0,
     "elapsed": 1087.0,
     "user": {
      "displayName": "Kavitha V",
      "photoUrl": "",
      "userId": "00448912820684317706"
     }
    },
    "colab": {
     "base_uri": "https://localhost:8080/",
     "height": 153.0
    }
   },
   "outputs": [
    {
     "name": "stderr",
     "output_type": "stream",
     "text": [
      "/usr/local/lib/python3.6/dist-packages/ipykernel_launcher.py:2: DeprecationWarning: `imread` is deprecated!\n",
      "`imread` is deprecated in SciPy 1.0.0, and will be removed in 1.2.0.\n",
      "Use ``imageio.imread`` instead.\n",
      "  \n",
      "/usr/local/lib/python3.6/dist-packages/ipykernel_launcher.py:4: DeprecationWarning: `imread` is deprecated!\n",
      "`imread` is deprecated in SciPy 1.0.0, and will be removed in 1.2.0.\n",
      "Use ``imageio.imread`` instead.\n",
      "  after removing the cwd from sys.path.\n"
     ]
    }
   ],
   "source": [
    "label=[]\n",
    "image=scipy.misc.imread(\"/content/drive/My Drive/ML/dogscats/train/cats/cat.4.jpg\")\n",
    "label.append(0) #for cat images\n",
    "image=scipy.misc.imread(\"/content/drive/My Drive/ML/dogscats/train/dogs/dog.4.jpg\")\n",
    "label.append(1) #for dog images"
   ]
  },
  {
   "cell_type": "code",
   "execution_count": 0,
   "metadata": {
    "id": "oBiO6fH1FJjq",
    "colab_type": "code",
    "outputId": "cf8782c4-08bf-4907-8ce7-f0a486a0065f",
    "executionInfo": {
     "status": "ok",
     "timestamp": 1.545893895224E12,
     "user_tz": -330.0,
     "elapsed": 947.0,
     "user": {
      "displayName": "Kavitha V",
      "photoUrl": "",
      "userId": "00448912820684317706"
     }
    },
    "colab": {
     "base_uri": "https://localhost:8080/",
     "height": 153.0
    }
   },
   "outputs": [
    {
     "name": "stderr",
     "output_type": "stream",
     "text": [
      "/usr/local/lib/python3.6/dist-packages/ipykernel_launcher.py:3: DeprecationWarning: `imread` is deprecated!\n",
      "`imread` is deprecated in SciPy 1.0.0, and will be removed in 1.2.0.\n",
      "Use ``imageio.imread`` instead.\n",
      "  This is separate from the ipykernel package so we can avoid doing imports until\n",
      "/usr/local/lib/python3.6/dist-packages/ipykernel_launcher.py:6: DeprecationWarning: `imread` is deprecated!\n",
      "`imread` is deprecated in SciPy 1.0.0, and will be removed in 1.2.0.\n",
      "Use ``imageio.imread`` instead.\n",
      "  \n"
     ]
    }
   ],
   "source": [
    "# images=[]\n",
    "# label=[]\n",
    "# image=scipy.misc.imread(\"/content/drive/My Drive/ML/dogscats/train/cats/cat.4.jpg\")\n",
    "# images.append(image)\n",
    "# label.append(0) #for cat images\n",
    "# image=scipy.misc.imread(\"/content/drive/My Drive/ML/dogscats/train/dogs/dog.4.jpg\")\n",
    "# images.append(image)\n",
    "# label.append(1) #for dog images\n"
   ]
  },
  {
   "cell_type": "code",
   "execution_count": 17,
   "metadata": {
    "id": "WkI7LoLgdQmL",
    "colab_type": "code",
    "outputId": "e97eb17a-9481-401e-8d6e-3beaf57daf83",
    "executionInfo": {
     "status": "error",
     "timestamp": 1.546077172674E12,
     "user_tz": -330.0,
     "elapsed": 774.0,
     "user": {
      "displayName": "Kavitha V",
      "photoUrl": "",
      "userId": "00448912820684317706"
     }
    },
    "colab": {
     "base_uri": "https://localhost:8080/",
     "height": 163.0
    }
   },
   "outputs": [
    {
     "ename": "NameError",
     "evalue": "ignored",
     "traceback": [
      "\u001b[0;31m---------------------------------------------------------------------------\u001b[0m",
      "\u001b[0;31mNameError\u001b[0m                                 Traceback (most recent call last)",
      "\u001b[0;32m<ipython-input-17-972d9bbd0d84>\u001b[0m in \u001b[0;36m<module>\u001b[0;34m()\u001b[0m\n\u001b[0;32m----> 1\u001b[0;31m \u001b[0mimages\u001b[0m\u001b[0;34m.\u001b[0m\u001b[0mshape\u001b[0m\u001b[0;34m\u001b[0m\u001b[0;34m\u001b[0m\u001b[0m\n\u001b[0m",
      "\u001b[0;31mNameError\u001b[0m: name 'images' is not defined"
     ],
     "output_type": "error"
    }
   ],
   "source": [
    "images.shape"
   ]
  },
  {
   "cell_type": "code",
   "execution_count": 16,
   "metadata": {
    "id": "AK9T3YKAFJnK",
    "colab_type": "code",
    "outputId": "d337201b-7883-469b-d722-e65683ab6484",
    "executionInfo": {
     "status": "ok",
     "timestamp": 1.546077170963E12,
     "user_tz": -330.0,
     "elapsed": 825.0,
     "user": {
      "displayName": "Kavitha V",
      "photoUrl": "",
      "userId": "00448912820684317706"
     }
    },
    "colab": {
     "base_uri": "https://localhost:8080/",
     "height": 34.0
    }
   },
   "outputs": [
    {
     "data": {
      "text/plain": [
       "(287, 300, 3)"
      ]
     },
     "execution_count": 16,
     "metadata": {
      "tags": []
     },
     "output_type": "execute_result"
    }
   ],
   "source": [
    " image.shape"
   ]
  },
  {
   "cell_type": "code",
   "execution_count": 18,
   "metadata": {
    "id": "FynrZXl_PgOx",
    "colab_type": "code",
    "outputId": "360f18ea-f5a0-45cd-af49-c8140c27b12b",
    "executionInfo": {
     "status": "error",
     "timestamp": 1.5460771749E12,
     "user_tz": -330.0,
     "elapsed": 542.0,
     "user": {
      "displayName": "Kavitha V",
      "photoUrl": "",
      "userId": "00448912820684317706"
     }
    },
    "colab": {
     "base_uri": "https://localhost:8080/",
     "height": 163.0
    }
   },
   "outputs": [
    {
     "ename": "AttributeError",
     "evalue": "ignored",
     "traceback": [
      "\u001b[0;31m---------------------------------------------------------------------------\u001b[0m",
      "\u001b[0;31mAttributeError\u001b[0m                            Traceback (most recent call last)",
      "\u001b[0;32m<ipython-input-18-54bf38f54037>\u001b[0m in \u001b[0;36m<module>\u001b[0;34m()\u001b[0m\n\u001b[0;32m----> 1\u001b[0;31m \u001b[0mlabel\u001b[0m\u001b[0;34m.\u001b[0m\u001b[0mshape\u001b[0m\u001b[0;34m\u001b[0m\u001b[0;34m\u001b[0m\u001b[0m\n\u001b[0m",
      "\u001b[0;31mAttributeError\u001b[0m: 'list' object has no attribute 'shape'"
     ],
     "output_type": "error"
    }
   ],
   "source": [
    "label.shape"
   ]
  },
  {
   "cell_type": "code",
   "execution_count": 0,
   "metadata": {
    "id": "n6nMOBRTdYyn",
    "colab_type": "code",
    "colab": {}
   },
   "outputs": [],
   "source": [
    "\n",
    "# images"
   ]
  },
  {
   "cell_type": "code",
   "execution_count": 19,
   "metadata": {
    "id": "lHF6AtS9OIVA",
    "colab_type": "code",
    "outputId": "db583b19-1ead-477c-b3f1-6fe350bee538",
    "executionInfo": {
     "status": "ok",
     "timestamp": 1.546077180566E12,
     "user_tz": -330.0,
     "elapsed": 869.0,
     "user": {
      "displayName": "Kavitha V",
      "photoUrl": "",
      "userId": "00448912820684317706"
     }
    },
    "colab": {
     "base_uri": "https://localhost:8080/",
     "height": 850.0
    }
   },
   "outputs": [
    {
     "data": {
      "text/plain": [
       "array([[[152, 144, 133],\n",
       "        [152, 144, 133],\n",
       "        [152, 144, 133],\n",
       "        ...,\n",
       "        [ 45,  26,  12],\n",
       "        [ 42,  24,  10],\n",
       "        [ 40,  22,   8]],\n",
       "\n",
       "       [[155, 147, 136],\n",
       "        [155, 147, 136],\n",
       "        [154, 146, 135],\n",
       "        ...,\n",
       "        [ 49,  27,  14],\n",
       "        [ 47,  25,  12],\n",
       "        [ 45,  23,  10]],\n",
       "\n",
       "       [[159, 151, 140],\n",
       "        [158, 150, 139],\n",
       "        [158, 150, 139],\n",
       "        ...,\n",
       "        [ 56,  28,  17],\n",
       "        [ 55,  27,  16],\n",
       "        [ 53,  26,  15]],\n",
       "\n",
       "       ...,\n",
       "\n",
       "       [[ 16,  19,  26],\n",
       "        [ 17,  20,  27],\n",
       "        [ 17,  20,  27],\n",
       "        ...,\n",
       "        [ 40,  38,  39],\n",
       "        [ 34,  34,  34],\n",
       "        [ 35,  35,  35]],\n",
       "\n",
       "       [[ 15,  18,  25],\n",
       "        [ 16,  19,  26],\n",
       "        [ 17,  20,  27],\n",
       "        ...,\n",
       "        [ 38,  36,  37],\n",
       "        [ 34,  34,  34],\n",
       "        [ 36,  36,  36]],\n",
       "\n",
       "       [[ 15,  18,  25],\n",
       "        [ 15,  18,  25],\n",
       "        [ 16,  19,  26],\n",
       "        ...,\n",
       "        [ 37,  35,  36],\n",
       "        [ 33,  33,  33],\n",
       "        [ 36,  36,  36]]], dtype=uint8)"
      ]
     },
     "execution_count": 19,
     "metadata": {
      "tags": []
     },
     "output_type": "execute_result"
    }
   ],
   "source": [
    "image"
   ]
  },
  {
   "cell_type": "code",
   "execution_count": 0,
   "metadata": {
    "id": "Tnm_ikTvdePs",
    "colab_type": "code",
    "colab": {}
   },
   "outputs": [],
   "source": [
    "# type(images)"
   ]
  },
  {
   "cell_type": "code",
   "execution_count": 21,
   "metadata": {
    "id": "FOqjqBeqOIZB",
    "colab_type": "code",
    "outputId": "fcfe7d20-5c1e-40d5-d7d4-66bcb08d70d3",
    "executionInfo": {
     "status": "ok",
     "timestamp": 1.546077186411E12,
     "user_tz": -330.0,
     "elapsed": 1023.0,
     "user": {
      "displayName": "Kavitha V",
      "photoUrl": "",
      "userId": "00448912820684317706"
     }
    },
    "colab": {
     "base_uri": "https://localhost:8080/",
     "height": 34.0
    }
   },
   "outputs": [
    {
     "data": {
      "text/plain": [
       "numpy.ndarray"
      ]
     },
     "execution_count": 21,
     "metadata": {
      "tags": []
     },
     "output_type": "execute_result"
    }
   ],
   "source": [
    " type(image)"
   ]
  },
  {
   "cell_type": "code",
   "execution_count": 22,
   "metadata": {
    "id": "46xtQ4iJPlE3",
    "colab_type": "code",
    "outputId": "345256b5-0a4d-4ee1-d7f0-f766ed0a14e8",
    "executionInfo": {
     "status": "ok",
     "timestamp": 1.546077187422E12,
     "user_tz": -330.0,
     "elapsed": 845.0,
     "user": {
      "displayName": "Kavitha V",
      "photoUrl": "",
      "userId": "00448912820684317706"
     }
    },
    "colab": {
     "base_uri": "https://localhost:8080/",
     "height": 34.0
    }
   },
   "outputs": [
    {
     "data": {
      "text/plain": [
       "list"
      ]
     },
     "execution_count": 22,
     "metadata": {
      "tags": []
     },
     "output_type": "execute_result"
    }
   ],
   "source": [
    "type(label)"
   ]
  },
  {
   "cell_type": "code",
   "execution_count": 0,
   "metadata": {
    "id": "vT7CePXwOIcx",
    "colab_type": "code",
    "colab": {}
   },
   "outputs": [],
   "source": [
    " image=cv2.resize(image,(300,300))"
   ]
  },
  {
   "cell_type": "code",
   "execution_count": 0,
   "metadata": {
    "id": "Xwf4HltLdjkb",
    "colab_type": "code",
    "outputId": "2b2c97b6-7b01-4a81-ff9f-3c758e872ad2",
    "executionInfo": {
     "status": "error",
     "timestamp": 1.545894015863E12,
     "user_tz": -330.0,
     "elapsed": 963.0,
     "user": {
      "displayName": "Kavitha V",
      "photoUrl": "",
      "userId": "00448912820684317706"
     }
    },
    "colab": {
     "base_uri": "https://localhost:8080/",
     "height": 163.0
    }
   },
   "outputs": [
    {
     "ename": "TypeError",
     "evalue": "ignored",
     "traceback": [
      "\u001b[0;31m---------------------------------------------------------------------------\u001b[0m",
      "\u001b[0;31mTypeError\u001b[0m                                 Traceback (most recent call last)",
      "\u001b[0;32m<ipython-input-257-cefd82b51c72>\u001b[0m in \u001b[0;36m<module>\u001b[0;34m()\u001b[0m\n\u001b[0;32m----> 1\u001b[0;31m \u001b[0mimages\u001b[0m\u001b[0;34m=\u001b[0m\u001b[0mcv2\u001b[0m\u001b[0;34m.\u001b[0m\u001b[0mresize\u001b[0m\u001b[0;34m(\u001b[0m\u001b[0mimages\u001b[0m\u001b[0;34m,\u001b[0m\u001b[0;34m(\u001b[0m\u001b[0;36m300\u001b[0m\u001b[0;34m,\u001b[0m\u001b[0;36m300\u001b[0m\u001b[0;34m)\u001b[0m\u001b[0;34m)\u001b[0m\u001b[0;34m\u001b[0m\u001b[0;34m\u001b[0m\u001b[0m\n\u001b[0m",
      "\u001b[0;31mTypeError\u001b[0m: src is not a numpy array, neither a scalar"
     ],
     "output_type": "error"
    }
   ],
   "source": [
    "# images=cv2.resize(images,(300,300))"
   ]
  },
  {
   "cell_type": "code",
   "execution_count": 24,
   "metadata": {
    "id": "STL8Tn5DOIgT",
    "colab_type": "code",
    "outputId": "6db4f383-7c2e-42f7-dee6-e0f53a68f02f",
    "executionInfo": {
     "status": "ok",
     "timestamp": 1.546077193384E12,
     "user_tz": -330.0,
     "elapsed": 895.0,
     "user": {
      "displayName": "Kavitha V",
      "photoUrl": "",
      "userId": "00448912820684317706"
     }
    },
    "colab": {
     "base_uri": "https://localhost:8080/",
     "height": 34.0
    }
   },
   "outputs": [
    {
     "data": {
      "text/plain": [
       "(300, 300, 3)"
      ]
     },
     "execution_count": 24,
     "metadata": {
      "tags": []
     },
     "output_type": "execute_result"
    }
   ],
   "source": [
    "image.shape\n"
   ]
  },
  {
   "cell_type": "code",
   "execution_count": 25,
   "metadata": {
    "id": "a-cRThyxOfCZ",
    "colab_type": "code",
    "outputId": "b122f19a-04e1-43f5-c58b-0569ed8b6e50",
    "executionInfo": {
     "status": "ok",
     "timestamp": 1.546077194417E12,
     "user_tz": -330.0,
     "elapsed": 979.0,
     "user": {
      "displayName": "Kavitha V",
      "photoUrl": "",
      "userId": "00448912820684317706"
     }
    },
    "colab": {
     "base_uri": "https://localhost:8080/",
     "height": 34.0
    }
   },
   "outputs": [
    {
     "data": {
      "text/plain": [
       "numpy.ndarray"
      ]
     },
     "execution_count": 25,
     "metadata": {
      "tags": []
     },
     "output_type": "execute_result"
    }
   ],
   "source": [
    "type(image)"
   ]
  },
  {
   "cell_type": "code",
   "execution_count": 0,
   "metadata": {
    "id": "5GsAyLJnOiPN",
    "colab_type": "code",
    "colab": {}
   },
   "outputs": [],
   "source": [
    "#converting images to arrays\n",
    "image=np.array(image)\n",
    "label=np.array(label)\n"
   ]
  },
  {
   "cell_type": "code",
   "execution_count": 27,
   "metadata": {
    "id": "AEH8K9AyO2NK",
    "colab_type": "code",
    "outputId": "9fd94e2e-7c66-4560-bead-17ac3f8043f3",
    "executionInfo": {
     "status": "ok",
     "timestamp": 1.546077196862E12,
     "user_tz": -330.0,
     "elapsed": 586.0,
     "user": {
      "displayName": "Kavitha V",
      "photoUrl": "",
      "userId": "00448912820684317706"
     }
    },
    "colab": {
     "base_uri": "https://localhost:8080/",
     "height": 34.0
    }
   },
   "outputs": [
    {
     "data": {
      "text/plain": [
       "(300, 300, 3)"
      ]
     },
     "execution_count": 27,
     "metadata": {
      "tags": []
     },
     "output_type": "execute_result"
    }
   ],
   "source": [
    "image.shape"
   ]
  },
  {
   "cell_type": "code",
   "execution_count": 0,
   "metadata": {
    "id": "wUZFtgylaihF",
    "colab_type": "code",
    "colab": {}
   },
   "outputs": [],
   "source": [
    "# image=image.reshape(-1,300,300,3)"
   ]
  },
  {
   "cell_type": "code",
   "execution_count": 28,
   "metadata": {
    "id": "Cx9nhIcpauMf",
    "colab_type": "code",
    "outputId": "ef856f93-2af3-4c8d-c26f-687f0b2bba77",
    "executionInfo": {
     "status": "ok",
     "timestamp": 1.546077201143E12,
     "user_tz": -330.0,
     "elapsed": 822.0,
     "user": {
      "displayName": "Kavitha V",
      "photoUrl": "",
      "userId": "00448912820684317706"
     }
    },
    "colab": {
     "base_uri": "https://localhost:8080/",
     "height": 34.0
    }
   },
   "outputs": [
    {
     "data": {
      "text/plain": [
       "numpy.ndarray"
      ]
     },
     "execution_count": 28,
     "metadata": {
      "tags": []
     },
     "output_type": "execute_result"
    }
   ],
   "source": [
    "type(image)"
   ]
  },
  {
   "cell_type": "code",
   "execution_count": 29,
   "metadata": {
    "id": "zR_YIZk0axUE",
    "colab_type": "code",
    "outputId": "984c2e73-55de-416e-f403-1e0a33ce637e",
    "executionInfo": {
     "status": "ok",
     "timestamp": 1.546077202181E12,
     "user_tz": -330.0,
     "elapsed": 524.0,
     "user": {
      "displayName": "Kavitha V",
      "photoUrl": "",
      "userId": "00448912820684317706"
     }
    },
    "colab": {
     "base_uri": "https://localhost:8080/",
     "height": 34.0
    }
   },
   "outputs": [
    {
     "data": {
      "text/plain": [
       "(300, 300, 3)"
      ]
     },
     "execution_count": 29,
     "metadata": {
      "tags": []
     },
     "output_type": "execute_result"
    }
   ],
   "source": [
    "image.shape"
   ]
  },
  {
   "cell_type": "code",
   "execution_count": 30,
   "metadata": {
    "id": "jkjnmiK-O2RL",
    "colab_type": "code",
    "outputId": "b01da887-4a0b-443e-dd78-b172d6aa756a",
    "executionInfo": {
     "status": "ok",
     "timestamp": 1.54607720394E12,
     "user_tz": -330.0,
     "elapsed": 1020.0,
     "user": {
      "displayName": "Kavitha V",
      "photoUrl": "",
      "userId": "00448912820684317706"
     }
    },
    "colab": {
     "base_uri": "https://localhost:8080/",
     "height": 34.0
    }
   },
   "outputs": [
    {
     "data": {
      "text/plain": [
       "numpy.ndarray"
      ]
     },
     "execution_count": 30,
     "metadata": {
      "tags": []
     },
     "output_type": "execute_result"
    }
   ],
   "source": [
    "type(image)"
   ]
  },
  {
   "cell_type": "code",
   "execution_count": 31,
   "metadata": {
    "id": "Bh6fYu00OiSa",
    "colab_type": "code",
    "outputId": "2422a86d-22db-43ff-a1a4-1e4452f23447",
    "executionInfo": {
     "status": "ok",
     "timestamp": 1.546077205101E12,
     "user_tz": -330.0,
     "elapsed": 1202.0,
     "user": {
      "displayName": "Kavitha V",
      "photoUrl": "",
      "userId": "00448912820684317706"
     }
    },
    "colab": {
     "base_uri": "https://localhost:8080/",
     "height": 34.0
    }
   },
   "outputs": [
    {
     "data": {
      "text/plain": [
       "(2,)"
      ]
     },
     "execution_count": 31,
     "metadata": {
      "tags": []
     },
     "output_type": "execute_result"
    }
   ],
   "source": [
    "label.shape"
   ]
  },
  {
   "cell_type": "code",
   "execution_count": 32,
   "metadata": {
    "id": "DILx9ZHxOiVv",
    "colab_type": "code",
    "outputId": "c58a1cc5-c373-4846-d449-c422e07fb347",
    "executionInfo": {
     "status": "ok",
     "timestamp": 1.546077208844E12,
     "user_tz": -330.0,
     "elapsed": 841.0,
     "user": {
      "displayName": "Kavitha V",
      "photoUrl": "",
      "userId": "00448912820684317706"
     }
    },
    "colab": {
     "base_uri": "https://localhost:8080/",
     "height": 34.0
    }
   },
   "outputs": [
    {
     "data": {
      "text/plain": [
       "numpy.ndarray"
      ]
     },
     "execution_count": 32,
     "metadata": {
      "tags": []
     },
     "output_type": "execute_result"
    }
   ],
   "source": [
    "\n",
    "type(label)"
   ]
  },
  {
   "cell_type": "code",
   "execution_count": 0,
   "metadata": {
    "id": "iVO3mYgGOiY5",
    "colab_type": "code",
    "colab": {}
   },
   "outputs": [],
   "source": [
    "\n",
    "# Defining the hyperparameters\n",
    "\n",
    "filters=10\n",
    "filtersize=(5,5)\n",
    "\n",
    "epochs =5\n",
    "batchsize=128\n",
    "\n",
    "input_shape=(300,300,3)"
   ]
  },
  {
   "cell_type": "code",
   "execution_count": 0,
   "metadata": {
    "id": "V-gD7oPYWzwb",
    "colab_type": "code",
    "colab": {}
   },
   "outputs": [],
   "source": [
    "# # Defining the hyperparameters\n",
    "\n",
    "# filters=10\n",
    "# filtersize=(5,5)\n",
    "\n",
    "# epochs =5\n",
    "# batchsize=128\n",
    "\n",
    "# input_shape = image.reshape((-1, 300, 300, 3))"
   ]
  },
  {
   "cell_type": "code",
   "execution_count": 0,
   "metadata": {
    "id": "rsuMmZOqVN_H",
    "colab_type": "code",
    "colab": {}
   },
   "outputs": [],
   "source": [
    "# Defining the hyperparameters\n",
    "\n",
    "# filters=10\n",
    "# filtersize=(5,5)\n",
    "\n",
    "# epochs =5\n",
    "# batchsize=128\n",
    "\n",
    "# input_shape=(1,300,300,3)"
   ]
  },
  {
   "cell_type": "code",
   "execution_count": 0,
   "metadata": {
    "id": "-7oxb3eqFJq8",
    "colab_type": "code",
    "colab": {}
   },
   "outputs": [],
   "source": [
    "#Converting the target variable to the required size\n",
    "\n",
    "from keras.utils.np_utils import to_categorical\n",
    "label = to_categorical(label)"
   ]
  },
  {
   "cell_type": "code",
   "execution_count": 0,
   "metadata": {
    "id": "H56cURoRVSu_",
    "colab_type": "code",
    "colab": {}
   },
   "outputs": [],
   "source": [
    "# label.shape"
   ]
  },
  {
   "cell_type": "code",
   "execution_count": 35,
   "metadata": {
    "id": "QeyUCZnLQE19",
    "colab_type": "code",
    "outputId": "f775aa8a-810b-49b4-96cd-5772d4df8f8d",
    "executionInfo": {
     "status": "ok",
     "timestamp": 1.546077217261E12,
     "user_tz": -330.0,
     "elapsed": 522.0,
     "user": {
      "displayName": "Kavitha V",
      "photoUrl": "",
      "userId": "00448912820684317706"
     }
    },
    "colab": {
     "base_uri": "https://localhost:8080/",
     "height": 34.0
    }
   },
   "outputs": [
    {
     "data": {
      "text/plain": [
       "(2, 2)"
      ]
     },
     "execution_count": 35,
     "metadata": {
      "tags": []
     },
     "output_type": "execute_result"
    }
   ],
   "source": [
    "label.shape"
   ]
  },
  {
   "cell_type": "code",
   "execution_count": 36,
   "metadata": {
    "id": "V_CvoMw6QE5E",
    "colab_type": "code",
    "outputId": "821feadc-2131-4fd0-da33-eda0f25032c0",
    "executionInfo": {
     "status": "ok",
     "timestamp": 1.546077218894E12,
     "user_tz": -330.0,
     "elapsed": 816.0,
     "user": {
      "displayName": "Kavitha V",
      "photoUrl": "",
      "userId": "00448912820684317706"
     }
    },
    "colab": {
     "base_uri": "https://localhost:8080/",
     "height": 34.0
    }
   },
   "outputs": [
    {
     "data": {
      "text/plain": [
       "numpy.ndarray"
      ]
     },
     "execution_count": 36,
     "metadata": {
      "tags": []
     },
     "output_type": "execute_result"
    }
   ],
   "source": [
    "type(label)"
   ]
  },
  {
   "cell_type": "code",
   "execution_count": 39,
   "metadata": {
    "id": "emOiRWJcQE8c",
    "colab_type": "code",
    "outputId": "b9af7d1e-b30e-4df1-90ac-e0b6924f44db",
    "executionInfo": {
     "status": "error",
     "timestamp": 1.546077257562E12,
     "user_tz": -330.0,
     "elapsed": 858.0,
     "user": {
      "displayName": "Kavitha V",
      "photoUrl": "",
      "userId": "00448912820684317706"
     }
    },
    "colab": {
     "base_uri": "https://localhost:8080/",
     "height": 608.0
    }
   },
   "outputs": [
    {
     "ename": "ValueError",
     "evalue": "ignored",
     "traceback": [
      "\u001b[0;31m---------------------------------------------------------------------------\u001b[0m",
      "\u001b[0;31mValueError\u001b[0m                                Traceback (most recent call last)",
      "\u001b[0;32m<ipython-input-39-6d9a153a0218>\u001b[0m in \u001b[0;36m<module>\u001b[0;34m()\u001b[0m\n\u001b[1;32m     11\u001b[0m \u001b[0;34m\u001b[0m\u001b[0m\n\u001b[1;32m     12\u001b[0m \u001b[0mmodel\u001b[0m\u001b[0;34m.\u001b[0m\u001b[0mcompile\u001b[0m\u001b[0;34m(\u001b[0m\u001b[0mloss\u001b[0m\u001b[0;34m=\u001b[0m\u001b[0;34m'categorical_crossentropy'\u001b[0m\u001b[0;34m,\u001b[0m \u001b[0moptimizer\u001b[0m\u001b[0;34m=\u001b[0m\u001b[0;34m'adam'\u001b[0m\u001b[0;34m,\u001b[0m \u001b[0mmetrics\u001b[0m\u001b[0;34m=\u001b[0m\u001b[0;34m[\u001b[0m\u001b[0;34m'accuracy'\u001b[0m\u001b[0;34m]\u001b[0m\u001b[0;34m)\u001b[0m\u001b[0;34m\u001b[0m\u001b[0;34m\u001b[0m\u001b[0m\n\u001b[0;32m---> 13\u001b[0;31m \u001b[0mmodel\u001b[0m\u001b[0;34m.\u001b[0m\u001b[0mfit\u001b[0m\u001b[0;34m(\u001b[0m\u001b[0mx\u001b[0m\u001b[0;34m=\u001b[0m\u001b[0mimage\u001b[0m\u001b[0;34m,\u001b[0m \u001b[0my\u001b[0m\u001b[0;34m=\u001b[0m\u001b[0mlabel\u001b[0m\u001b[0;34m,\u001b[0m \u001b[0mepochs\u001b[0m\u001b[0;34m=\u001b[0m\u001b[0mepochs\u001b[0m\u001b[0;34m,\u001b[0m \u001b[0mbatch_size\u001b[0m\u001b[0;34m=\u001b[0m\u001b[0mbatchsize\u001b[0m\u001b[0;34m,\u001b[0m\u001b[0mvalidation_split\u001b[0m\u001b[0;34m=\u001b[0m\u001b[0;36m0.3\u001b[0m\u001b[0;34m)\u001b[0m\u001b[0;34m\u001b[0m\u001b[0;34m\u001b[0m\u001b[0m\n\u001b[0m\u001b[1;32m     14\u001b[0m \u001b[0;34m\u001b[0m\u001b[0m\n\u001b[1;32m     15\u001b[0m \u001b[0mmodel\u001b[0m\u001b[0;34m.\u001b[0m\u001b[0msummary\u001b[0m\u001b[0;34m(\u001b[0m\u001b[0;34m)\u001b[0m\u001b[0;34m\u001b[0m\u001b[0;34m\u001b[0m\u001b[0m\n",
      "\u001b[0;32m/usr/local/lib/python3.6/dist-packages/keras/engine/training.py\u001b[0m in \u001b[0;36mfit\u001b[0;34m(self, x, y, batch_size, epochs, verbose, callbacks, validation_split, validation_data, shuffle, class_weight, sample_weight, initial_epoch, steps_per_epoch, validation_steps, **kwargs)\u001b[0m\n\u001b[1;32m    950\u001b[0m             \u001b[0msample_weight\u001b[0m\u001b[0;34m=\u001b[0m\u001b[0msample_weight\u001b[0m\u001b[0;34m,\u001b[0m\u001b[0;34m\u001b[0m\u001b[0;34m\u001b[0m\u001b[0m\n\u001b[1;32m    951\u001b[0m             \u001b[0mclass_weight\u001b[0m\u001b[0;34m=\u001b[0m\u001b[0mclass_weight\u001b[0m\u001b[0;34m,\u001b[0m\u001b[0;34m\u001b[0m\u001b[0;34m\u001b[0m\u001b[0m\n\u001b[0;32m--> 952\u001b[0;31m             batch_size=batch_size)\n\u001b[0m\u001b[1;32m    953\u001b[0m         \u001b[0;31m# Prepare validation data.\u001b[0m\u001b[0;34m\u001b[0m\u001b[0;34m\u001b[0m\u001b[0;34m\u001b[0m\u001b[0m\n\u001b[1;32m    954\u001b[0m         \u001b[0mdo_validation\u001b[0m \u001b[0;34m=\u001b[0m \u001b[0;32mFalse\u001b[0m\u001b[0;34m\u001b[0m\u001b[0;34m\u001b[0m\u001b[0m\n",
      "\u001b[0;32m/usr/local/lib/python3.6/dist-packages/keras/engine/training.py\u001b[0m in \u001b[0;36m_standardize_user_data\u001b[0;34m(self, x, y, sample_weight, class_weight, check_array_lengths, batch_size)\u001b[0m\n\u001b[1;32m    749\u001b[0m             \u001b[0mfeed_input_shapes\u001b[0m\u001b[0;34m,\u001b[0m\u001b[0;34m\u001b[0m\u001b[0;34m\u001b[0m\u001b[0m\n\u001b[1;32m    750\u001b[0m             \u001b[0mcheck_batch_axis\u001b[0m\u001b[0;34m=\u001b[0m\u001b[0;32mFalse\u001b[0m\u001b[0;34m,\u001b[0m  \u001b[0;31m# Don't enforce the batch size.\u001b[0m\u001b[0;34m\u001b[0m\u001b[0;34m\u001b[0m\u001b[0m\n\u001b[0;32m--> 751\u001b[0;31m             exception_prefix='input')\n\u001b[0m\u001b[1;32m    752\u001b[0m \u001b[0;34m\u001b[0m\u001b[0m\n\u001b[1;32m    753\u001b[0m         \u001b[0;32mif\u001b[0m \u001b[0my\u001b[0m \u001b[0;32mis\u001b[0m \u001b[0;32mnot\u001b[0m \u001b[0;32mNone\u001b[0m\u001b[0;34m:\u001b[0m\u001b[0;34m\u001b[0m\u001b[0;34m\u001b[0m\u001b[0m\n",
      "\u001b[0;32m/usr/local/lib/python3.6/dist-packages/keras/engine/training_utils.py\u001b[0m in \u001b[0;36mstandardize_input_data\u001b[0;34m(data, names, shapes, check_batch_axis, exception_prefix)\u001b[0m\n\u001b[1;32m    126\u001b[0m                         \u001b[0;34m': expected '\u001b[0m \u001b[0;34m+\u001b[0m \u001b[0mnames\u001b[0m\u001b[0;34m[\u001b[0m\u001b[0mi\u001b[0m\u001b[0;34m]\u001b[0m \u001b[0;34m+\u001b[0m \u001b[0;34m' to have '\u001b[0m \u001b[0;34m+\u001b[0m\u001b[0;34m\u001b[0m\u001b[0;34m\u001b[0m\u001b[0m\n\u001b[1;32m    127\u001b[0m                         \u001b[0mstr\u001b[0m\u001b[0;34m(\u001b[0m\u001b[0mlen\u001b[0m\u001b[0;34m(\u001b[0m\u001b[0mshape\u001b[0m\u001b[0;34m)\u001b[0m\u001b[0;34m)\u001b[0m \u001b[0;34m+\u001b[0m \u001b[0;34m' dimensions, but got array '\u001b[0m\u001b[0;34m\u001b[0m\u001b[0;34m\u001b[0m\u001b[0m\n\u001b[0;32m--> 128\u001b[0;31m                         'with shape ' + str(data_shape))\n\u001b[0m\u001b[1;32m    129\u001b[0m                 \u001b[0;32mif\u001b[0m \u001b[0;32mnot\u001b[0m \u001b[0mcheck_batch_axis\u001b[0m\u001b[0;34m:\u001b[0m\u001b[0;34m\u001b[0m\u001b[0;34m\u001b[0m\u001b[0m\n\u001b[1;32m    130\u001b[0m                     \u001b[0mdata_shape\u001b[0m \u001b[0;34m=\u001b[0m \u001b[0mdata_shape\u001b[0m\u001b[0;34m[\u001b[0m\u001b[0;36m1\u001b[0m\u001b[0;34m:\u001b[0m\u001b[0;34m]\u001b[0m\u001b[0;34m\u001b[0m\u001b[0;34m\u001b[0m\u001b[0m\n",
      "\u001b[0;31mValueError\u001b[0m: Error when checking input: expected input_3 to have 4 dimensions, but got array with shape (300, 300, 3)"
     ],
     "output_type": "error"
    }
   ],
   "source": [
    "\n",
    "#Defining the model\n",
    "\n",
    "model = Sequential()\n",
    "\n",
    "model.add(keras.layers.InputLayer(input_shape=input_shape))\n",
    "\n",
    "model.add(keras.layers.convolutional.Conv2D(filters, filtersize, strides=(1, 1), padding='valid', data_format=\"channels_last\", activation='relu'))\n",
    "model.add(keras.layers.MaxPooling2D(pool_size=(2, 2)))\n",
    "model.add(keras.layers.Flatten())\n",
    "\n",
    "model.add(keras.layers.Dense(units=2, input_dim=50,activation='softmax'))\n",
    "\n",
    "model.compile(loss='categorical_crossentropy', optimizer='adam', metrics=['accuracy'])\n",
    "model.fit(x=image, y=label, epochs=epochs, batch_size=batchsize,validation_split=0.3)\n",
    "\n",
    "model.summary()"
   ]
  },
  {
   "cell_type": "code",
   "execution_count": 0,
   "metadata": {
    "id": "xdDZuW6WWNHb",
    "colab_type": "code",
    "outputId": "630145ed-a292-44d9-c061-679d528879a8",
    "executionInfo": {
     "status": "error",
     "timestamp": 1.545894349664E12,
     "user_tz": -330.0,
     "elapsed": 821.0,
     "user": {
      "displayName": "Kavitha V",
      "photoUrl": "",
      "userId": "00448912820684317706"
     }
    },
    "colab": {
     "base_uri": "https://localhost:8080/",
     "height": 608.0
    }
   },
   "outputs": [
    {
     "ename": "ValueError",
     "evalue": "ignored",
     "traceback": [
      "\u001b[0;31m---------------------------------------------------------------------------\u001b[0m",
      "\u001b[0;31mValueError\u001b[0m                                Traceback (most recent call last)",
      "\u001b[0;32m<ipython-input-305-b49e53a0d4f6>\u001b[0m in \u001b[0;36m<module>\u001b[0;34m()\u001b[0m\n\u001b[1;32m     11\u001b[0m \u001b[0;34m\u001b[0m\u001b[0m\n\u001b[1;32m     12\u001b[0m \u001b[0mmodel\u001b[0m\u001b[0;34m.\u001b[0m\u001b[0mcompile\u001b[0m\u001b[0;34m(\u001b[0m\u001b[0mloss\u001b[0m\u001b[0;34m=\u001b[0m\u001b[0;34m'categorical_crossentropy'\u001b[0m\u001b[0;34m,\u001b[0m \u001b[0moptimizer\u001b[0m\u001b[0;34m=\u001b[0m\u001b[0;34m'adam'\u001b[0m\u001b[0;34m,\u001b[0m \u001b[0mmetrics\u001b[0m\u001b[0;34m=\u001b[0m\u001b[0;34m[\u001b[0m\u001b[0;34m'accuracy'\u001b[0m\u001b[0;34m]\u001b[0m\u001b[0;34m)\u001b[0m\u001b[0;34m\u001b[0m\u001b[0;34m\u001b[0m\u001b[0m\n\u001b[0;32m---> 13\u001b[0;31m \u001b[0mmodel\u001b[0m\u001b[0;34m.\u001b[0m\u001b[0mfit\u001b[0m\u001b[0;34m(\u001b[0m\u001b[0mimage\u001b[0m\u001b[0;34m,\u001b[0m \u001b[0mlabel\u001b[0m\u001b[0;34m,\u001b[0m \u001b[0mepochs\u001b[0m\u001b[0;34m=\u001b[0m\u001b[0mepochs\u001b[0m\u001b[0;34m,\u001b[0m \u001b[0mbatch_size\u001b[0m\u001b[0;34m=\u001b[0m\u001b[0mbatchsize\u001b[0m\u001b[0;34m,\u001b[0m\u001b[0mvalidation_split\u001b[0m\u001b[0;34m=\u001b[0m\u001b[0;36m0.3\u001b[0m\u001b[0;34m)\u001b[0m\u001b[0;34m\u001b[0m\u001b[0;34m\u001b[0m\u001b[0m\n\u001b[0m\u001b[1;32m     14\u001b[0m \u001b[0;34m\u001b[0m\u001b[0m\n\u001b[1;32m     15\u001b[0m \u001b[0mmodel\u001b[0m\u001b[0;34m.\u001b[0m\u001b[0msummary\u001b[0m\u001b[0;34m(\u001b[0m\u001b[0;34m)\u001b[0m\u001b[0;34m\u001b[0m\u001b[0;34m\u001b[0m\u001b[0m\n",
      "\u001b[0;32m/usr/local/lib/python3.6/dist-packages/keras/engine/training.py\u001b[0m in \u001b[0;36mfit\u001b[0;34m(self, x, y, batch_size, epochs, verbose, callbacks, validation_split, validation_data, shuffle, class_weight, sample_weight, initial_epoch, steps_per_epoch, validation_steps, **kwargs)\u001b[0m\n\u001b[1;32m    950\u001b[0m             \u001b[0msample_weight\u001b[0m\u001b[0;34m=\u001b[0m\u001b[0msample_weight\u001b[0m\u001b[0;34m,\u001b[0m\u001b[0;34m\u001b[0m\u001b[0;34m\u001b[0m\u001b[0m\n\u001b[1;32m    951\u001b[0m             \u001b[0mclass_weight\u001b[0m\u001b[0;34m=\u001b[0m\u001b[0mclass_weight\u001b[0m\u001b[0;34m,\u001b[0m\u001b[0;34m\u001b[0m\u001b[0;34m\u001b[0m\u001b[0m\n\u001b[0;32m--> 952\u001b[0;31m             batch_size=batch_size)\n\u001b[0m\u001b[1;32m    953\u001b[0m         \u001b[0;31m# Prepare validation data.\u001b[0m\u001b[0;34m\u001b[0m\u001b[0;34m\u001b[0m\u001b[0;34m\u001b[0m\u001b[0m\n\u001b[1;32m    954\u001b[0m         \u001b[0mdo_validation\u001b[0m \u001b[0;34m=\u001b[0m \u001b[0;32mFalse\u001b[0m\u001b[0;34m\u001b[0m\u001b[0;34m\u001b[0m\u001b[0m\n",
      "\u001b[0;32m/usr/local/lib/python3.6/dist-packages/keras/engine/training.py\u001b[0m in \u001b[0;36m_standardize_user_data\u001b[0;34m(self, x, y, sample_weight, class_weight, check_array_lengths, batch_size)\u001b[0m\n\u001b[1;32m    749\u001b[0m             \u001b[0mfeed_input_shapes\u001b[0m\u001b[0;34m,\u001b[0m\u001b[0;34m\u001b[0m\u001b[0;34m\u001b[0m\u001b[0m\n\u001b[1;32m    750\u001b[0m             \u001b[0mcheck_batch_axis\u001b[0m\u001b[0;34m=\u001b[0m\u001b[0;32mFalse\u001b[0m\u001b[0;34m,\u001b[0m  \u001b[0;31m# Don't enforce the batch size.\u001b[0m\u001b[0;34m\u001b[0m\u001b[0;34m\u001b[0m\u001b[0m\n\u001b[0;32m--> 751\u001b[0;31m             exception_prefix='input')\n\u001b[0m\u001b[1;32m    752\u001b[0m \u001b[0;34m\u001b[0m\u001b[0m\n\u001b[1;32m    753\u001b[0m         \u001b[0;32mif\u001b[0m \u001b[0my\u001b[0m \u001b[0;32mis\u001b[0m \u001b[0;32mnot\u001b[0m \u001b[0;32mNone\u001b[0m\u001b[0;34m:\u001b[0m\u001b[0;34m\u001b[0m\u001b[0;34m\u001b[0m\u001b[0m\n",
      "\u001b[0;32m/usr/local/lib/python3.6/dist-packages/keras/engine/training_utils.py\u001b[0m in \u001b[0;36mstandardize_input_data\u001b[0;34m(data, names, shapes, check_batch_axis, exception_prefix)\u001b[0m\n\u001b[1;32m    126\u001b[0m                         \u001b[0;34m': expected '\u001b[0m \u001b[0;34m+\u001b[0m \u001b[0mnames\u001b[0m\u001b[0;34m[\u001b[0m\u001b[0mi\u001b[0m\u001b[0;34m]\u001b[0m \u001b[0;34m+\u001b[0m \u001b[0;34m' to have '\u001b[0m \u001b[0;34m+\u001b[0m\u001b[0;34m\u001b[0m\u001b[0;34m\u001b[0m\u001b[0m\n\u001b[1;32m    127\u001b[0m                         \u001b[0mstr\u001b[0m\u001b[0;34m(\u001b[0m\u001b[0mlen\u001b[0m\u001b[0;34m(\u001b[0m\u001b[0mshape\u001b[0m\u001b[0;34m)\u001b[0m\u001b[0;34m)\u001b[0m \u001b[0;34m+\u001b[0m \u001b[0;34m' dimensions, but got array '\u001b[0m\u001b[0;34m\u001b[0m\u001b[0;34m\u001b[0m\u001b[0m\n\u001b[0;32m--> 128\u001b[0;31m                         'with shape ' + str(data_shape))\n\u001b[0m\u001b[1;32m    129\u001b[0m                 \u001b[0;32mif\u001b[0m \u001b[0;32mnot\u001b[0m \u001b[0mcheck_batch_axis\u001b[0m\u001b[0;34m:\u001b[0m\u001b[0;34m\u001b[0m\u001b[0;34m\u001b[0m\u001b[0m\n\u001b[1;32m    130\u001b[0m                     \u001b[0mdata_shape\u001b[0m \u001b[0;34m=\u001b[0m \u001b[0mdata_shape\u001b[0m\u001b[0;34m[\u001b[0m\u001b[0;36m1\u001b[0m\u001b[0;34m:\u001b[0m\u001b[0;34m]\u001b[0m\u001b[0;34m\u001b[0m\u001b[0;34m\u001b[0m\u001b[0m\n",
      "\u001b[0;31mValueError\u001b[0m: Error when checking input: expected input_16 to have 4 dimensions, but got array with shape (300, 300, 3)"
     ],
     "output_type": "error"
    }
   ],
   "source": [
    "#Defining the model\n",
    "\n",
    "model = Sequential()\n",
    "\n",
    "model.add(keras.layers.InputLayer(input_shape=input_shape))\n",
    "\n",
    "model.add(keras.layers.convolutional.Conv2D(filters, filtersize, strides=(1, 1), padding='valid', data_format=\"channels_last\", activation='relu'))\n",
    "model.add(keras.layers.MaxPooling2D(pool_size=(2, 2)))\n",
    "model.add(keras.layers.Flatten())\n",
    "\n",
    "model.add(keras.layers.Dense(units=2, input_dim=50,activation='softmax'))\n",
    "\n",
    "model.compile(loss='categorical_crossentropy', optimizer='adam', metrics=['accuracy'])\n",
    "model.fit(image, label, epochs=epochs, batch_size=batchsize,validation_split=0.3)\n",
    "\n",
    "model.summary()"
   ]
  }
 ],
 "metadata": {
  "colab": {
   "name": "dogscats.keras.ipynb",
   "version": "0.3.2",
   "provenance": []
  },
  "kernelspec": {
   "name": "python3",
   "display_name": "Python 3"
  },
  "accelerator": "GPU"
 },
 "nbformat": 4,
 "nbformat_minor": 0
}
