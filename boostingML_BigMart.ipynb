{
 "cells": [
  {
   "cell_type": "code",
   "execution_count": 1,
   "metadata": {
    "id": "wg1ZB7WXl-C9",
    "colab_type": "code",
    "outputId": "892d0128-4338-4eb2-9f87-4d1b23399fb8",
    "executionInfo": {
     "status": "ok",
     "timestamp": 1.540301658582E12,
     "user_tz": -330.0,
     "elapsed": 5587.0,
     "user": {
      "displayName": "Kavitha V",
      "photoUrl": "",
      "userId": "00448912820684317706"
     }
    },
    "colab": {
     "base_uri": "https://localhost:8080/",
     "height": 34.0
    }
   },
   "outputs": [
    {
     "name": "stdout",
     "output_type": "stream",
     "text": [
      "Requirement already satisfied: numpy in /usr/local/lib/python3.6/dist-packages (1.14.6)\n"
     ]
    }
   ],
   "source": [
    "!pip install numpy"
   ]
  },
  {
   "cell_type": "code",
   "execution_count": 2,
   "metadata": {
    "id": "q0wtiqP5mZgu",
    "colab_type": "code",
    "outputId": "ec57fe71-9e0f-4cb0-87e2-798228aa62d8",
    "executionInfo": {
     "status": "ok",
     "timestamp": 1.540301659967E12,
     "user_tz": -330.0,
     "elapsed": 1344.0,
     "user": {
      "displayName": "Kavitha V",
      "photoUrl": "",
      "userId": "00448912820684317706"
     }
    },
    "colab": {
     "base_uri": "https://localhost:8080/",
     "height": 34.0
    }
   },
   "outputs": [
    {
     "name": "stdout",
     "output_type": "stream",
     "text": [
      "Hello\n"
     ]
    }
   ],
   "source": [
    "print(\"Hello\")"
   ]
  },
  {
   "cell_type": "code",
   "execution_count": 3,
   "metadata": {
    "id": "w2zUjmnPmiEW",
    "colab_type": "code",
    "outputId": "457b0953-dab7-4905-9c72-3822e266da6b",
    "executionInfo": {
     "status": "ok",
     "timestamp": 1.54030167995E12,
     "user_tz": -330.0,
     "elapsed": 5588.0,
     "user": {
      "displayName": "Kavitha V",
      "photoUrl": "",
      "userId": "00448912820684317706"
     }
    },
    "colab": {
     "base_uri": "https://localhost:8080/",
     "height": 170.0
    }
   },
   "outputs": [
    {
     "name": "stdout",
     "output_type": "stream",
     "text": [
      "Collecting sklearn\n",
      "  Downloading https://files.pythonhosted.org/packages/1e/7a/dbb3be0ce9bd5c8b7e3d87328e79063f8b263b2b1bfa4774cb1147bfcd3f/sklearn-0.0.tar.gz\n",
      "Requirement already satisfied: scikit-learn in /usr/local/lib/python3.6/dist-packages (from sklearn) (0.19.2)\n",
      "Building wheels for collected packages: sklearn\n",
      "  Running setup.py bdist_wheel for sklearn ... \u001b[?25l-\b \bdone\n",
      "\u001b[?25h  Stored in directory: /root/.cache/pip/wheels/76/03/bb/589d421d27431bcd2c6da284d5f2286c8e3b2ea3cf1594c074\n",
      "Successfully built sklearn\n",
      "Installing collected packages: sklearn\n",
      "Successfully installed sklearn-0.0\n"
     ]
    }
   ],
   "source": [
    "!pip install sklearn"
   ]
  },
  {
   "cell_type": "code",
   "execution_count": 4,
   "metadata": {
    "id": "Qj_EJu6hnJ2p",
    "colab_type": "code",
    "outputId": "08248de3-1941-46e7-df72-bc82a8f484e5",
    "executionInfo": {
     "status": "ok",
     "timestamp": 1.540301686835E12,
     "user_tz": -330.0,
     "elapsed": 4039.0,
     "user": {
      "displayName": "Kavitha V",
      "photoUrl": "",
      "userId": "00448912820684317706"
     }
    },
    "colab": {
     "base_uri": "https://localhost:8080/",
     "height": 102.0
    }
   },
   "outputs": [
    {
     "name": "stdout",
     "output_type": "stream",
     "text": [
      "Requirement already satisfied: pandas in /usr/local/lib/python3.6/dist-packages (0.22.0)\n",
      "Requirement already satisfied: python-dateutil>=2 in /usr/local/lib/python3.6/dist-packages (from pandas) (2.5.3)\n",
      "Requirement already satisfied: numpy>=1.9.0 in /usr/local/lib/python3.6/dist-packages (from pandas) (1.14.6)\n",
      "Requirement already satisfied: pytz>=2011k in /usr/local/lib/python3.6/dist-packages (from pandas) (2018.5)\n",
      "Requirement already satisfied: six>=1.5 in /usr/local/lib/python3.6/dist-packages (from python-dateutil>=2->pandas) (1.11.0)\n"
     ]
    }
   ],
   "source": [
    "!pip install pandas"
   ]
  },
  {
   "cell_type": "code",
   "execution_count": 0,
   "metadata": {
    "id": "5EgOYQ9ZnY_m",
    "colab_type": "code",
    "colab": {}
   },
   "outputs": [],
   "source": [
    "import numpy as np\n",
    "import pandas as pd\n"
   ]
  },
  {
   "cell_type": "code",
   "execution_count": 7,
   "metadata": {
    "id": "AblRUuWvoVWX",
    "colab_type": "code",
    "outputId": "3e1136d6-bcde-4806-9693-c9fafffb27c5",
    "executionInfo": {
     "status": "ok",
     "timestamp": 1.540301734636E12,
     "user_tz": -330.0,
     "elapsed": 36553.0,
     "user": {
      "displayName": "Kavitha V",
      "photoUrl": "",
      "userId": "00448912820684317706"
     }
    },
    "colab": {
     "base_uri": "https://localhost:8080/",
     "height": 122.0
    }
   },
   "outputs": [
    {
     "name": "stdout",
     "output_type": "stream",
     "text": [
      "Go to this URL in a browser: https://accounts.google.com/o/oauth2/auth?client_id=947318989803-6bn6qk8qdgf4n4g3pfee6491hc0brc4i.apps.googleusercontent.com&redirect_uri=urn%3Aietf%3Awg%3Aoauth%3A2.0%3Aoob&scope=email%20https%3A%2F%2Fwww.googleapis.com%2Fauth%2Fdocs.test%20https%3A%2F%2Fwww.googleapis.com%2Fauth%2Fdrive%20https%3A%2F%2Fwww.googleapis.com%2Fauth%2Fdrive.photos.readonly%20https%3A%2F%2Fwww.googleapis.com%2Fauth%2Fpeopleapi.readonly&response_type=code\n",
      "\n",
      "Enter your authorization code:\n",
      "··········\n",
      "Mounted at /content/gdrive\n"
     ]
    }
   ],
   "source": [
    "from google.colab import drive\n",
    "drive.mount('/content/gdrive')"
   ]
  },
  {
   "cell_type": "code",
   "execution_count": 0,
   "metadata": {
    "id": "Bd7f6uP8pz5z",
    "colab_type": "code",
    "colab": {}
   },
   "outputs": [],
   "source": [
    "import os\n",
    "os.chdir(\"/content/gdrive/My Drive/ML\")\n"
   ]
  },
  {
   "cell_type": "code",
   "execution_count": 0,
   "metadata": {
    "id": "1GwqyQpyPiAr",
    "colab_type": "code",
    "colab": {}
   },
   "outputs": [],
   "source": [
    ""
   ]
  },
  {
   "cell_type": "code",
   "execution_count": 9,
   "metadata": {
    "id": "4WvXWraWp_dI",
    "colab_type": "code",
    "outputId": "fe9ad555-d7a4-470d-d018-ec6a1dd62021",
    "executionInfo": {
     "status": "ok",
     "timestamp": 1.540301766001E12,
     "user_tz": -330.0,
     "elapsed": 3570.0,
     "user": {
      "displayName": "Kavitha V",
      "photoUrl": "",
      "userId": "00448912820684317706"
     }
    },
    "colab": {
     "base_uri": "https://localhost:8080/",
     "height": 68.0
    }
   },
   "outputs": [
    {
     "name": "stdout",
     "output_type": "stream",
     "text": [
      "boostingML_BigMart.ipynb     \u001b[0m\u001b[01;34mLoan_Prediction_Classification\u001b[0m/  Untitled1.ipynb\n",
      "gridsearch                   training.csv\n",
      "KavithabigmartsalesML.ipynb  Untitled0.ipynb\n"
     ]
    }
   ],
   "source": [
    "ls"
   ]
  },
  {
   "cell_type": "code",
   "execution_count": 0,
   "metadata": {
    "id": "m-xKuj1VnNVh",
    "colab_type": "code",
    "colab": {}
   },
   "outputs": [],
   "source": [
    "X_TRAIN=pd.read_csv(\"training.csv\")"
   ]
  },
  {
   "cell_type": "code",
   "execution_count": 11,
   "metadata": {
    "id": "n5xU11m4mt_0",
    "colab_type": "code",
    "outputId": "4ca082dd-9613-41b3-9576-a91f4b14f5b6",
    "executionInfo": {
     "status": "ok",
     "timestamp": 1.540301785862E12,
     "user_tz": -330.0,
     "elapsed": 1613.0,
     "user": {
      "displayName": "Kavitha V",
      "photoUrl": "",
      "userId": "00448912820684317706"
     }
    },
    "colab": {
     "base_uri": "https://localhost:8080/",
     "height": 2006.0
    }
   },
   "outputs": [
    {
     "data": {
      "text/html": [
       "<div>\n",
       "<style scoped>\n",
       "    .dataframe tbody tr th:only-of-type {\n",
       "        vertical-align: middle;\n",
       "    }\n",
       "\n",
       "    .dataframe tbody tr th {\n",
       "        vertical-align: top;\n",
       "    }\n",
       "\n",
       "    .dataframe thead th {\n",
       "        text-align: right;\n",
       "    }\n",
       "</style>\n",
       "<table border=\"1\" class=\"dataframe\">\n",
       "  <thead>\n",
       "    <tr style=\"text-align: right;\">\n",
       "      <th></th>\n",
       "      <th>Unnamed: 0</th>\n",
       "      <th>Item_Weight</th>\n",
       "      <th>Item_Visibility</th>\n",
       "      <th>Item_MRP</th>\n",
       "      <th>Outlet_Establishment_Year</th>\n",
       "      <th>Item_Outlet_Sales</th>\n",
       "      <th>Item_Identifier_DRA12</th>\n",
       "      <th>Item_Identifier_DRA24</th>\n",
       "      <th>Item_Identifier_DRA59</th>\n",
       "      <th>Item_Identifier_DRB01</th>\n",
       "      <th>...</th>\n",
       "      <th>Outlet_Size_High</th>\n",
       "      <th>Outlet_Size_Medium</th>\n",
       "      <th>Outlet_Size_Small</th>\n",
       "      <th>Outlet_Location_Type_Tier 1</th>\n",
       "      <th>Outlet_Location_Type_Tier 2</th>\n",
       "      <th>Outlet_Location_Type_Tier 3</th>\n",
       "      <th>Outlet_Type_Grocery Store</th>\n",
       "      <th>Outlet_Type_Supermarket Type1</th>\n",
       "      <th>Outlet_Type_Supermarket Type2</th>\n",
       "      <th>Outlet_Type_Supermarket Type3</th>\n",
       "    </tr>\n",
       "  </thead>\n",
       "  <tbody>\n",
       "    <tr>\n",
       "      <th>0</th>\n",
       "      <td>0</td>\n",
       "      <td>9.300000</td>\n",
       "      <td>0.016047</td>\n",
       "      <td>249.8092</td>\n",
       "      <td>14</td>\n",
       "      <td>3735.1380</td>\n",
       "      <td>0</td>\n",
       "      <td>0</td>\n",
       "      <td>0</td>\n",
       "      <td>0</td>\n",
       "      <td>...</td>\n",
       "      <td>0</td>\n",
       "      <td>1</td>\n",
       "      <td>0</td>\n",
       "      <td>1</td>\n",
       "      <td>0</td>\n",
       "      <td>0</td>\n",
       "      <td>0</td>\n",
       "      <td>1</td>\n",
       "      <td>0</td>\n",
       "      <td>0</td>\n",
       "    </tr>\n",
       "    <tr>\n",
       "      <th>1</th>\n",
       "      <td>1</td>\n",
       "      <td>5.920000</td>\n",
       "      <td>0.019278</td>\n",
       "      <td>48.2692</td>\n",
       "      <td>4</td>\n",
       "      <td>443.4228</td>\n",
       "      <td>0</td>\n",
       "      <td>0</td>\n",
       "      <td>0</td>\n",
       "      <td>0</td>\n",
       "      <td>...</td>\n",
       "      <td>0</td>\n",
       "      <td>1</td>\n",
       "      <td>0</td>\n",
       "      <td>0</td>\n",
       "      <td>0</td>\n",
       "      <td>1</td>\n",
       "      <td>0</td>\n",
       "      <td>0</td>\n",
       "      <td>1</td>\n",
       "      <td>0</td>\n",
       "    </tr>\n",
       "    <tr>\n",
       "      <th>2</th>\n",
       "      <td>2</td>\n",
       "      <td>17.500000</td>\n",
       "      <td>0.016760</td>\n",
       "      <td>141.6180</td>\n",
       "      <td>14</td>\n",
       "      <td>2097.2700</td>\n",
       "      <td>0</td>\n",
       "      <td>0</td>\n",
       "      <td>0</td>\n",
       "      <td>0</td>\n",
       "      <td>...</td>\n",
       "      <td>0</td>\n",
       "      <td>1</td>\n",
       "      <td>0</td>\n",
       "      <td>1</td>\n",
       "      <td>0</td>\n",
       "      <td>0</td>\n",
       "      <td>0</td>\n",
       "      <td>1</td>\n",
       "      <td>0</td>\n",
       "      <td>0</td>\n",
       "    </tr>\n",
       "    <tr>\n",
       "      <th>3</th>\n",
       "      <td>3</td>\n",
       "      <td>19.200000</td>\n",
       "      <td>0.066132</td>\n",
       "      <td>182.0950</td>\n",
       "      <td>15</td>\n",
       "      <td>732.3800</td>\n",
       "      <td>0</td>\n",
       "      <td>0</td>\n",
       "      <td>0</td>\n",
       "      <td>0</td>\n",
       "      <td>...</td>\n",
       "      <td>0</td>\n",
       "      <td>0</td>\n",
       "      <td>1</td>\n",
       "      <td>0</td>\n",
       "      <td>0</td>\n",
       "      <td>1</td>\n",
       "      <td>1</td>\n",
       "      <td>0</td>\n",
       "      <td>0</td>\n",
       "      <td>0</td>\n",
       "    </tr>\n",
       "    <tr>\n",
       "      <th>4</th>\n",
       "      <td>4</td>\n",
       "      <td>8.930000</td>\n",
       "      <td>0.066132</td>\n",
       "      <td>53.8614</td>\n",
       "      <td>26</td>\n",
       "      <td>994.7052</td>\n",
       "      <td>0</td>\n",
       "      <td>0</td>\n",
       "      <td>0</td>\n",
       "      <td>0</td>\n",
       "      <td>...</td>\n",
       "      <td>1</td>\n",
       "      <td>0</td>\n",
       "      <td>0</td>\n",
       "      <td>0</td>\n",
       "      <td>0</td>\n",
       "      <td>1</td>\n",
       "      <td>0</td>\n",
       "      <td>1</td>\n",
       "      <td>0</td>\n",
       "      <td>0</td>\n",
       "    </tr>\n",
       "    <tr>\n",
       "      <th>5</th>\n",
       "      <td>5</td>\n",
       "      <td>10.395000</td>\n",
       "      <td>0.066132</td>\n",
       "      <td>51.4008</td>\n",
       "      <td>4</td>\n",
       "      <td>556.6088</td>\n",
       "      <td>0</td>\n",
       "      <td>0</td>\n",
       "      <td>0</td>\n",
       "      <td>0</td>\n",
       "      <td>...</td>\n",
       "      <td>0</td>\n",
       "      <td>1</td>\n",
       "      <td>0</td>\n",
       "      <td>0</td>\n",
       "      <td>0</td>\n",
       "      <td>1</td>\n",
       "      <td>0</td>\n",
       "      <td>0</td>\n",
       "      <td>1</td>\n",
       "      <td>0</td>\n",
       "    </tr>\n",
       "    <tr>\n",
       "      <th>6</th>\n",
       "      <td>6</td>\n",
       "      <td>13.650000</td>\n",
       "      <td>0.012741</td>\n",
       "      <td>57.6588</td>\n",
       "      <td>26</td>\n",
       "      <td>343.5528</td>\n",
       "      <td>0</td>\n",
       "      <td>0</td>\n",
       "      <td>0</td>\n",
       "      <td>0</td>\n",
       "      <td>...</td>\n",
       "      <td>1</td>\n",
       "      <td>0</td>\n",
       "      <td>0</td>\n",
       "      <td>0</td>\n",
       "      <td>0</td>\n",
       "      <td>1</td>\n",
       "      <td>0</td>\n",
       "      <td>1</td>\n",
       "      <td>0</td>\n",
       "      <td>0</td>\n",
       "    </tr>\n",
       "    <tr>\n",
       "      <th>7</th>\n",
       "      <td>7</td>\n",
       "      <td>12.857645</td>\n",
       "      <td>0.127470</td>\n",
       "      <td>107.7622</td>\n",
       "      <td>28</td>\n",
       "      <td>4022.7636</td>\n",
       "      <td>0</td>\n",
       "      <td>0</td>\n",
       "      <td>0</td>\n",
       "      <td>0</td>\n",
       "      <td>...</td>\n",
       "      <td>0</td>\n",
       "      <td>1</td>\n",
       "      <td>0</td>\n",
       "      <td>0</td>\n",
       "      <td>0</td>\n",
       "      <td>1</td>\n",
       "      <td>0</td>\n",
       "      <td>0</td>\n",
       "      <td>0</td>\n",
       "      <td>1</td>\n",
       "    </tr>\n",
       "    <tr>\n",
       "      <th>8</th>\n",
       "      <td>8</td>\n",
       "      <td>16.200000</td>\n",
       "      <td>0.016687</td>\n",
       "      <td>96.9726</td>\n",
       "      <td>11</td>\n",
       "      <td>1076.5986</td>\n",
       "      <td>0</td>\n",
       "      <td>0</td>\n",
       "      <td>0</td>\n",
       "      <td>0</td>\n",
       "      <td>...</td>\n",
       "      <td>0</td>\n",
       "      <td>0</td>\n",
       "      <td>1</td>\n",
       "      <td>0</td>\n",
       "      <td>1</td>\n",
       "      <td>0</td>\n",
       "      <td>0</td>\n",
       "      <td>1</td>\n",
       "      <td>0</td>\n",
       "      <td>0</td>\n",
       "    </tr>\n",
       "    <tr>\n",
       "      <th>9</th>\n",
       "      <td>9</td>\n",
       "      <td>19.200000</td>\n",
       "      <td>0.094450</td>\n",
       "      <td>187.8214</td>\n",
       "      <td>6</td>\n",
       "      <td>4710.5350</td>\n",
       "      <td>0</td>\n",
       "      <td>0</td>\n",
       "      <td>0</td>\n",
       "      <td>0</td>\n",
       "      <td>...</td>\n",
       "      <td>0</td>\n",
       "      <td>0</td>\n",
       "      <td>1</td>\n",
       "      <td>0</td>\n",
       "      <td>1</td>\n",
       "      <td>0</td>\n",
       "      <td>0</td>\n",
       "      <td>1</td>\n",
       "      <td>0</td>\n",
       "      <td>0</td>\n",
       "    </tr>\n",
       "    <tr>\n",
       "      <th>10</th>\n",
       "      <td>10</td>\n",
       "      <td>11.800000</td>\n",
       "      <td>0.066132</td>\n",
       "      <td>45.5402</td>\n",
       "      <td>14</td>\n",
       "      <td>1516.0266</td>\n",
       "      <td>0</td>\n",
       "      <td>0</td>\n",
       "      <td>0</td>\n",
       "      <td>0</td>\n",
       "      <td>...</td>\n",
       "      <td>0</td>\n",
       "      <td>1</td>\n",
       "      <td>0</td>\n",
       "      <td>1</td>\n",
       "      <td>0</td>\n",
       "      <td>0</td>\n",
       "      <td>0</td>\n",
       "      <td>1</td>\n",
       "      <td>0</td>\n",
       "      <td>0</td>\n",
       "    </tr>\n",
       "    <tr>\n",
       "      <th>11</th>\n",
       "      <td>11</td>\n",
       "      <td>18.500000</td>\n",
       "      <td>0.045464</td>\n",
       "      <td>144.1102</td>\n",
       "      <td>16</td>\n",
       "      <td>2187.1530</td>\n",
       "      <td>0</td>\n",
       "      <td>0</td>\n",
       "      <td>0</td>\n",
       "      <td>0</td>\n",
       "      <td>...</td>\n",
       "      <td>0</td>\n",
       "      <td>0</td>\n",
       "      <td>1</td>\n",
       "      <td>1</td>\n",
       "      <td>0</td>\n",
       "      <td>0</td>\n",
       "      <td>0</td>\n",
       "      <td>1</td>\n",
       "      <td>0</td>\n",
       "      <td>0</td>\n",
       "    </tr>\n",
       "    <tr>\n",
       "      <th>12</th>\n",
       "      <td>12</td>\n",
       "      <td>15.100000</td>\n",
       "      <td>0.100014</td>\n",
       "      <td>145.4786</td>\n",
       "      <td>14</td>\n",
       "      <td>1589.2646</td>\n",
       "      <td>0</td>\n",
       "      <td>0</td>\n",
       "      <td>0</td>\n",
       "      <td>0</td>\n",
       "      <td>...</td>\n",
       "      <td>0</td>\n",
       "      <td>1</td>\n",
       "      <td>0</td>\n",
       "      <td>1</td>\n",
       "      <td>0</td>\n",
       "      <td>0</td>\n",
       "      <td>0</td>\n",
       "      <td>1</td>\n",
       "      <td>0</td>\n",
       "      <td>0</td>\n",
       "    </tr>\n",
       "    <tr>\n",
       "      <th>13</th>\n",
       "      <td>13</td>\n",
       "      <td>17.600000</td>\n",
       "      <td>0.047257</td>\n",
       "      <td>119.6782</td>\n",
       "      <td>16</td>\n",
       "      <td>2145.2076</td>\n",
       "      <td>0</td>\n",
       "      <td>0</td>\n",
       "      <td>0</td>\n",
       "      <td>0</td>\n",
       "      <td>...</td>\n",
       "      <td>0</td>\n",
       "      <td>0</td>\n",
       "      <td>1</td>\n",
       "      <td>1</td>\n",
       "      <td>0</td>\n",
       "      <td>0</td>\n",
       "      <td>0</td>\n",
       "      <td>1</td>\n",
       "      <td>0</td>\n",
       "      <td>0</td>\n",
       "    </tr>\n",
       "    <tr>\n",
       "      <th>14</th>\n",
       "      <td>14</td>\n",
       "      <td>16.350000</td>\n",
       "      <td>0.068024</td>\n",
       "      <td>196.4426</td>\n",
       "      <td>26</td>\n",
       "      <td>1977.4260</td>\n",
       "      <td>0</td>\n",
       "      <td>0</td>\n",
       "      <td>0</td>\n",
       "      <td>0</td>\n",
       "      <td>...</td>\n",
       "      <td>1</td>\n",
       "      <td>0</td>\n",
       "      <td>0</td>\n",
       "      <td>0</td>\n",
       "      <td>0</td>\n",
       "      <td>1</td>\n",
       "      <td>0</td>\n",
       "      <td>1</td>\n",
       "      <td>0</td>\n",
       "      <td>0</td>\n",
       "    </tr>\n",
       "    <tr>\n",
       "      <th>15</th>\n",
       "      <td>15</td>\n",
       "      <td>9.000000</td>\n",
       "      <td>0.069089</td>\n",
       "      <td>56.3614</td>\n",
       "      <td>16</td>\n",
       "      <td>1547.3192</td>\n",
       "      <td>0</td>\n",
       "      <td>0</td>\n",
       "      <td>0</td>\n",
       "      <td>0</td>\n",
       "      <td>...</td>\n",
       "      <td>0</td>\n",
       "      <td>0</td>\n",
       "      <td>1</td>\n",
       "      <td>1</td>\n",
       "      <td>0</td>\n",
       "      <td>0</td>\n",
       "      <td>0</td>\n",
       "      <td>1</td>\n",
       "      <td>0</td>\n",
       "      <td>0</td>\n",
       "    </tr>\n",
       "    <tr>\n",
       "      <th>16</th>\n",
       "      <td>16</td>\n",
       "      <td>11.800000</td>\n",
       "      <td>0.008596</td>\n",
       "      <td>115.3492</td>\n",
       "      <td>4</td>\n",
       "      <td>1621.8888</td>\n",
       "      <td>0</td>\n",
       "      <td>0</td>\n",
       "      <td>0</td>\n",
       "      <td>0</td>\n",
       "      <td>...</td>\n",
       "      <td>0</td>\n",
       "      <td>1</td>\n",
       "      <td>0</td>\n",
       "      <td>0</td>\n",
       "      <td>0</td>\n",
       "      <td>1</td>\n",
       "      <td>0</td>\n",
       "      <td>0</td>\n",
       "      <td>1</td>\n",
       "      <td>0</td>\n",
       "    </tr>\n",
       "    <tr>\n",
       "      <th>17</th>\n",
       "      <td>17</td>\n",
       "      <td>9.000000</td>\n",
       "      <td>0.069196</td>\n",
       "      <td>54.3614</td>\n",
       "      <td>14</td>\n",
       "      <td>718.3982</td>\n",
       "      <td>0</td>\n",
       "      <td>0</td>\n",
       "      <td>0</td>\n",
       "      <td>0</td>\n",
       "      <td>...</td>\n",
       "      <td>0</td>\n",
       "      <td>1</td>\n",
       "      <td>0</td>\n",
       "      <td>1</td>\n",
       "      <td>0</td>\n",
       "      <td>0</td>\n",
       "      <td>0</td>\n",
       "      <td>1</td>\n",
       "      <td>0</td>\n",
       "      <td>0</td>\n",
       "    </tr>\n",
       "    <tr>\n",
       "      <th>18</th>\n",
       "      <td>18</td>\n",
       "      <td>12.857645</td>\n",
       "      <td>0.034238</td>\n",
       "      <td>113.2834</td>\n",
       "      <td>28</td>\n",
       "      <td>2303.6680</td>\n",
       "      <td>0</td>\n",
       "      <td>0</td>\n",
       "      <td>0</td>\n",
       "      <td>0</td>\n",
       "      <td>...</td>\n",
       "      <td>0</td>\n",
       "      <td>1</td>\n",
       "      <td>0</td>\n",
       "      <td>0</td>\n",
       "      <td>0</td>\n",
       "      <td>1</td>\n",
       "      <td>0</td>\n",
       "      <td>0</td>\n",
       "      <td>0</td>\n",
       "      <td>1</td>\n",
       "    </tr>\n",
       "    <tr>\n",
       "      <th>19</th>\n",
       "      <td>19</td>\n",
       "      <td>13.350000</td>\n",
       "      <td>0.102492</td>\n",
       "      <td>230.5352</td>\n",
       "      <td>9</td>\n",
       "      <td>2748.4224</td>\n",
       "      <td>0</td>\n",
       "      <td>0</td>\n",
       "      <td>0</td>\n",
       "      <td>0</td>\n",
       "      <td>...</td>\n",
       "      <td>0</td>\n",
       "      <td>0</td>\n",
       "      <td>1</td>\n",
       "      <td>0</td>\n",
       "      <td>1</td>\n",
       "      <td>0</td>\n",
       "      <td>0</td>\n",
       "      <td>1</td>\n",
       "      <td>0</td>\n",
       "      <td>0</td>\n",
       "    </tr>\n",
       "    <tr>\n",
       "      <th>20</th>\n",
       "      <td>20</td>\n",
       "      <td>18.850000</td>\n",
       "      <td>0.138190</td>\n",
       "      <td>250.8724</td>\n",
       "      <td>26</td>\n",
       "      <td>3775.0860</td>\n",
       "      <td>0</td>\n",
       "      <td>0</td>\n",
       "      <td>0</td>\n",
       "      <td>0</td>\n",
       "      <td>...</td>\n",
       "      <td>1</td>\n",
       "      <td>0</td>\n",
       "      <td>0</td>\n",
       "      <td>0</td>\n",
       "      <td>0</td>\n",
       "      <td>1</td>\n",
       "      <td>0</td>\n",
       "      <td>1</td>\n",
       "      <td>0</td>\n",
       "      <td>0</td>\n",
       "    </tr>\n",
       "    <tr>\n",
       "      <th>21</th>\n",
       "      <td>21</td>\n",
       "      <td>12.857645</td>\n",
       "      <td>0.035400</td>\n",
       "      <td>144.5444</td>\n",
       "      <td>28</td>\n",
       "      <td>4064.0432</td>\n",
       "      <td>0</td>\n",
       "      <td>0</td>\n",
       "      <td>0</td>\n",
       "      <td>0</td>\n",
       "      <td>...</td>\n",
       "      <td>0</td>\n",
       "      <td>1</td>\n",
       "      <td>0</td>\n",
       "      <td>0</td>\n",
       "      <td>0</td>\n",
       "      <td>1</td>\n",
       "      <td>0</td>\n",
       "      <td>0</td>\n",
       "      <td>0</td>\n",
       "      <td>1</td>\n",
       "    </tr>\n",
       "    <tr>\n",
       "      <th>22</th>\n",
       "      <td>22</td>\n",
       "      <td>14.600000</td>\n",
       "      <td>0.025698</td>\n",
       "      <td>196.5084</td>\n",
       "      <td>9</td>\n",
       "      <td>1587.2672</td>\n",
       "      <td>0</td>\n",
       "      <td>0</td>\n",
       "      <td>0</td>\n",
       "      <td>0</td>\n",
       "      <td>...</td>\n",
       "      <td>0</td>\n",
       "      <td>0</td>\n",
       "      <td>1</td>\n",
       "      <td>0</td>\n",
       "      <td>1</td>\n",
       "      <td>0</td>\n",
       "      <td>0</td>\n",
       "      <td>1</td>\n",
       "      <td>0</td>\n",
       "      <td>0</td>\n",
       "    </tr>\n",
       "    <tr>\n",
       "      <th>23</th>\n",
       "      <td>23</td>\n",
       "      <td>12.857645</td>\n",
       "      <td>0.057557</td>\n",
       "      <td>107.6938</td>\n",
       "      <td>28</td>\n",
       "      <td>214.3876</td>\n",
       "      <td>0</td>\n",
       "      <td>0</td>\n",
       "      <td>0</td>\n",
       "      <td>0</td>\n",
       "      <td>...</td>\n",
       "      <td>0</td>\n",
       "      <td>0</td>\n",
       "      <td>1</td>\n",
       "      <td>1</td>\n",
       "      <td>0</td>\n",
       "      <td>0</td>\n",
       "      <td>1</td>\n",
       "      <td>0</td>\n",
       "      <td>0</td>\n",
       "      <td>0</td>\n",
       "    </tr>\n",
       "    <tr>\n",
       "      <th>24</th>\n",
       "      <td>24</td>\n",
       "      <td>13.850000</td>\n",
       "      <td>0.025896</td>\n",
       "      <td>165.0210</td>\n",
       "      <td>16</td>\n",
       "      <td>4078.0250</td>\n",
       "      <td>0</td>\n",
       "      <td>0</td>\n",
       "      <td>0</td>\n",
       "      <td>0</td>\n",
       "      <td>...</td>\n",
       "      <td>0</td>\n",
       "      <td>0</td>\n",
       "      <td>1</td>\n",
       "      <td>1</td>\n",
       "      <td>0</td>\n",
       "      <td>0</td>\n",
       "      <td>0</td>\n",
       "      <td>1</td>\n",
       "      <td>0</td>\n",
       "      <td>0</td>\n",
       "    </tr>\n",
       "    <tr>\n",
       "      <th>25</th>\n",
       "      <td>25</td>\n",
       "      <td>13.000000</td>\n",
       "      <td>0.099887</td>\n",
       "      <td>45.9060</td>\n",
       "      <td>6</td>\n",
       "      <td>838.9080</td>\n",
       "      <td>0</td>\n",
       "      <td>0</td>\n",
       "      <td>0</td>\n",
       "      <td>0</td>\n",
       "      <td>...</td>\n",
       "      <td>0</td>\n",
       "      <td>0</td>\n",
       "      <td>1</td>\n",
       "      <td>0</td>\n",
       "      <td>1</td>\n",
       "      <td>0</td>\n",
       "      <td>0</td>\n",
       "      <td>1</td>\n",
       "      <td>0</td>\n",
       "      <td>0</td>\n",
       "    </tr>\n",
       "    <tr>\n",
       "      <th>26</th>\n",
       "      <td>26</td>\n",
       "      <td>7.645000</td>\n",
       "      <td>0.066693</td>\n",
       "      <td>42.3112</td>\n",
       "      <td>9</td>\n",
       "      <td>1065.2800</td>\n",
       "      <td>0</td>\n",
       "      <td>0</td>\n",
       "      <td>0</td>\n",
       "      <td>0</td>\n",
       "      <td>...</td>\n",
       "      <td>0</td>\n",
       "      <td>0</td>\n",
       "      <td>1</td>\n",
       "      <td>0</td>\n",
       "      <td>1</td>\n",
       "      <td>0</td>\n",
       "      <td>0</td>\n",
       "      <td>1</td>\n",
       "      <td>0</td>\n",
       "      <td>0</td>\n",
       "    </tr>\n",
       "    <tr>\n",
       "      <th>27</th>\n",
       "      <td>27</td>\n",
       "      <td>11.650000</td>\n",
       "      <td>0.019356</td>\n",
       "      <td>39.1164</td>\n",
       "      <td>26</td>\n",
       "      <td>308.9312</td>\n",
       "      <td>0</td>\n",
       "      <td>0</td>\n",
       "      <td>0</td>\n",
       "      <td>0</td>\n",
       "      <td>...</td>\n",
       "      <td>1</td>\n",
       "      <td>0</td>\n",
       "      <td>0</td>\n",
       "      <td>0</td>\n",
       "      <td>0</td>\n",
       "      <td>1</td>\n",
       "      <td>0</td>\n",
       "      <td>1</td>\n",
       "      <td>0</td>\n",
       "      <td>0</td>\n",
       "    </tr>\n",
       "    <tr>\n",
       "      <th>28</th>\n",
       "      <td>28</td>\n",
       "      <td>5.925000</td>\n",
       "      <td>0.161467</td>\n",
       "      <td>45.5086</td>\n",
       "      <td>15</td>\n",
       "      <td>178.4344</td>\n",
       "      <td>0</td>\n",
       "      <td>0</td>\n",
       "      <td>0</td>\n",
       "      <td>0</td>\n",
       "      <td>...</td>\n",
       "      <td>0</td>\n",
       "      <td>0</td>\n",
       "      <td>1</td>\n",
       "      <td>0</td>\n",
       "      <td>0</td>\n",
       "      <td>1</td>\n",
       "      <td>1</td>\n",
       "      <td>0</td>\n",
       "      <td>0</td>\n",
       "      <td>0</td>\n",
       "    </tr>\n",
       "    <tr>\n",
       "      <th>29</th>\n",
       "      <td>29</td>\n",
       "      <td>12.857645</td>\n",
       "      <td>0.072222</td>\n",
       "      <td>43.6454</td>\n",
       "      <td>28</td>\n",
       "      <td>125.8362</td>\n",
       "      <td>0</td>\n",
       "      <td>0</td>\n",
       "      <td>0</td>\n",
       "      <td>0</td>\n",
       "      <td>...</td>\n",
       "      <td>0</td>\n",
       "      <td>0</td>\n",
       "      <td>1</td>\n",
       "      <td>1</td>\n",
       "      <td>0</td>\n",
       "      <td>0</td>\n",
       "      <td>1</td>\n",
       "      <td>0</td>\n",
       "      <td>0</td>\n",
       "      <td>0</td>\n",
       "    </tr>\n",
       "    <tr>\n",
       "      <th>...</th>\n",
       "      <td>...</td>\n",
       "      <td>...</td>\n",
       "      <td>...</td>\n",
       "      <td>...</td>\n",
       "      <td>...</td>\n",
       "      <td>...</td>\n",
       "      <td>...</td>\n",
       "      <td>...</td>\n",
       "      <td>...</td>\n",
       "      <td>...</td>\n",
       "      <td>...</td>\n",
       "      <td>...</td>\n",
       "      <td>...</td>\n",
       "      <td>...</td>\n",
       "      <td>...</td>\n",
       "      <td>...</td>\n",
       "      <td>...</td>\n",
       "      <td>...</td>\n",
       "      <td>...</td>\n",
       "      <td>...</td>\n",
       "      <td>...</td>\n",
       "    </tr>\n",
       "    <tr>\n",
       "      <th>8493</th>\n",
       "      <td>8493</td>\n",
       "      <td>7.420000</td>\n",
       "      <td>0.025886</td>\n",
       "      <td>189.1872</td>\n",
       "      <td>6</td>\n",
       "      <td>4727.1800</td>\n",
       "      <td>0</td>\n",
       "      <td>0</td>\n",
       "      <td>0</td>\n",
       "      <td>0</td>\n",
       "      <td>...</td>\n",
       "      <td>0</td>\n",
       "      <td>0</td>\n",
       "      <td>1</td>\n",
       "      <td>0</td>\n",
       "      <td>1</td>\n",
       "      <td>0</td>\n",
       "      <td>0</td>\n",
       "      <td>1</td>\n",
       "      <td>0</td>\n",
       "      <td>0</td>\n",
       "    </tr>\n",
       "    <tr>\n",
       "      <th>8494</th>\n",
       "      <td>8494</td>\n",
       "      <td>15.200000</td>\n",
       "      <td>0.066132</td>\n",
       "      <td>110.4912</td>\n",
       "      <td>6</td>\n",
       "      <td>1637.8680</td>\n",
       "      <td>0</td>\n",
       "      <td>0</td>\n",
       "      <td>0</td>\n",
       "      <td>0</td>\n",
       "      <td>...</td>\n",
       "      <td>0</td>\n",
       "      <td>0</td>\n",
       "      <td>1</td>\n",
       "      <td>0</td>\n",
       "      <td>1</td>\n",
       "      <td>0</td>\n",
       "      <td>0</td>\n",
       "      <td>1</td>\n",
       "      <td>0</td>\n",
       "      <td>0</td>\n",
       "    </tr>\n",
       "    <tr>\n",
       "      <th>8495</th>\n",
       "      <td>8495</td>\n",
       "      <td>9.695000</td>\n",
       "      <td>0.029567</td>\n",
       "      <td>160.4920</td>\n",
       "      <td>9</td>\n",
       "      <td>4314.3840</td>\n",
       "      <td>0</td>\n",
       "      <td>0</td>\n",
       "      <td>0</td>\n",
       "      <td>0</td>\n",
       "      <td>...</td>\n",
       "      <td>0</td>\n",
       "      <td>0</td>\n",
       "      <td>1</td>\n",
       "      <td>0</td>\n",
       "      <td>1</td>\n",
       "      <td>0</td>\n",
       "      <td>0</td>\n",
       "      <td>1</td>\n",
       "      <td>0</td>\n",
       "      <td>0</td>\n",
       "    </tr>\n",
       "    <tr>\n",
       "      <th>8496</th>\n",
       "      <td>8496</td>\n",
       "      <td>7.420000</td>\n",
       "      <td>0.021696</td>\n",
       "      <td>185.3582</td>\n",
       "      <td>6</td>\n",
       "      <td>3715.1640</td>\n",
       "      <td>0</td>\n",
       "      <td>0</td>\n",
       "      <td>0</td>\n",
       "      <td>0</td>\n",
       "      <td>...</td>\n",
       "      <td>0</td>\n",
       "      <td>0</td>\n",
       "      <td>1</td>\n",
       "      <td>0</td>\n",
       "      <td>1</td>\n",
       "      <td>0</td>\n",
       "      <td>0</td>\n",
       "      <td>1</td>\n",
       "      <td>0</td>\n",
       "      <td>0</td>\n",
       "    </tr>\n",
       "    <tr>\n",
       "      <th>8497</th>\n",
       "      <td>8497</td>\n",
       "      <td>13.650000</td>\n",
       "      <td>0.049209</td>\n",
       "      <td>150.0050</td>\n",
       "      <td>9</td>\n",
       "      <td>2247.0750</td>\n",
       "      <td>0</td>\n",
       "      <td>0</td>\n",
       "      <td>0</td>\n",
       "      <td>0</td>\n",
       "      <td>...</td>\n",
       "      <td>0</td>\n",
       "      <td>0</td>\n",
       "      <td>1</td>\n",
       "      <td>0</td>\n",
       "      <td>1</td>\n",
       "      <td>0</td>\n",
       "      <td>0</td>\n",
       "      <td>1</td>\n",
       "      <td>0</td>\n",
       "      <td>0</td>\n",
       "    </tr>\n",
       "    <tr>\n",
       "      <th>8498</th>\n",
       "      <td>8498</td>\n",
       "      <td>15.350000</td>\n",
       "      <td>0.035293</td>\n",
       "      <td>124.5730</td>\n",
       "      <td>4</td>\n",
       "      <td>1601.2490</td>\n",
       "      <td>0</td>\n",
       "      <td>0</td>\n",
       "      <td>0</td>\n",
       "      <td>0</td>\n",
       "      <td>...</td>\n",
       "      <td>0</td>\n",
       "      <td>1</td>\n",
       "      <td>0</td>\n",
       "      <td>0</td>\n",
       "      <td>0</td>\n",
       "      <td>1</td>\n",
       "      <td>0</td>\n",
       "      <td>0</td>\n",
       "      <td>1</td>\n",
       "      <td>0</td>\n",
       "    </tr>\n",
       "    <tr>\n",
       "      <th>8499</th>\n",
       "      <td>8499</td>\n",
       "      <td>11.600000</td>\n",
       "      <td>0.037574</td>\n",
       "      <td>100.0042</td>\n",
       "      <td>9</td>\n",
       "      <td>2976.1260</td>\n",
       "      <td>0</td>\n",
       "      <td>0</td>\n",
       "      <td>0</td>\n",
       "      <td>0</td>\n",
       "      <td>...</td>\n",
       "      <td>0</td>\n",
       "      <td>0</td>\n",
       "      <td>1</td>\n",
       "      <td>0</td>\n",
       "      <td>1</td>\n",
       "      <td>0</td>\n",
       "      <td>0</td>\n",
       "      <td>1</td>\n",
       "      <td>0</td>\n",
       "      <td>0</td>\n",
       "    </tr>\n",
       "    <tr>\n",
       "      <th>8500</th>\n",
       "      <td>8500</td>\n",
       "      <td>20.350000</td>\n",
       "      <td>0.066132</td>\n",
       "      <td>125.1678</td>\n",
       "      <td>6</td>\n",
       "      <td>1907.5170</td>\n",
       "      <td>0</td>\n",
       "      <td>0</td>\n",
       "      <td>0</td>\n",
       "      <td>0</td>\n",
       "      <td>...</td>\n",
       "      <td>0</td>\n",
       "      <td>0</td>\n",
       "      <td>1</td>\n",
       "      <td>0</td>\n",
       "      <td>1</td>\n",
       "      <td>0</td>\n",
       "      <td>0</td>\n",
       "      <td>1</td>\n",
       "      <td>0</td>\n",
       "      <td>0</td>\n",
       "    </tr>\n",
       "    <tr>\n",
       "      <th>8501</th>\n",
       "      <td>8501</td>\n",
       "      <td>5.340000</td>\n",
       "      <td>0.005998</td>\n",
       "      <td>100.4358</td>\n",
       "      <td>6</td>\n",
       "      <td>1508.0370</td>\n",
       "      <td>0</td>\n",
       "      <td>0</td>\n",
       "      <td>0</td>\n",
       "      <td>0</td>\n",
       "      <td>...</td>\n",
       "      <td>0</td>\n",
       "      <td>0</td>\n",
       "      <td>1</td>\n",
       "      <td>0</td>\n",
       "      <td>1</td>\n",
       "      <td>0</td>\n",
       "      <td>0</td>\n",
       "      <td>1</td>\n",
       "      <td>0</td>\n",
       "      <td>0</td>\n",
       "    </tr>\n",
       "    <tr>\n",
       "      <th>8502</th>\n",
       "      <td>8502</td>\n",
       "      <td>8.420000</td>\n",
       "      <td>0.070712</td>\n",
       "      <td>216.4192</td>\n",
       "      <td>11</td>\n",
       "      <td>3020.0688</td>\n",
       "      <td>0</td>\n",
       "      <td>0</td>\n",
       "      <td>0</td>\n",
       "      <td>0</td>\n",
       "      <td>...</td>\n",
       "      <td>0</td>\n",
       "      <td>0</td>\n",
       "      <td>1</td>\n",
       "      <td>0</td>\n",
       "      <td>1</td>\n",
       "      <td>0</td>\n",
       "      <td>0</td>\n",
       "      <td>1</td>\n",
       "      <td>0</td>\n",
       "      <td>0</td>\n",
       "    </tr>\n",
       "    <tr>\n",
       "      <th>8503</th>\n",
       "      <td>8503</td>\n",
       "      <td>20.500000</td>\n",
       "      <td>0.036133</td>\n",
       "      <td>120.1756</td>\n",
       "      <td>9</td>\n",
       "      <td>3392.9168</td>\n",
       "      <td>0</td>\n",
       "      <td>0</td>\n",
       "      <td>0</td>\n",
       "      <td>0</td>\n",
       "      <td>...</td>\n",
       "      <td>0</td>\n",
       "      <td>0</td>\n",
       "      <td>1</td>\n",
       "      <td>0</td>\n",
       "      <td>1</td>\n",
       "      <td>0</td>\n",
       "      <td>0</td>\n",
       "      <td>1</td>\n",
       "      <td>0</td>\n",
       "      <td>0</td>\n",
       "    </tr>\n",
       "    <tr>\n",
       "      <th>8504</th>\n",
       "      <td>8504</td>\n",
       "      <td>12.857645</td>\n",
       "      <td>0.124111</td>\n",
       "      <td>111.7544</td>\n",
       "      <td>28</td>\n",
       "      <td>4138.6128</td>\n",
       "      <td>0</td>\n",
       "      <td>0</td>\n",
       "      <td>0</td>\n",
       "      <td>0</td>\n",
       "      <td>...</td>\n",
       "      <td>0</td>\n",
       "      <td>1</td>\n",
       "      <td>0</td>\n",
       "      <td>0</td>\n",
       "      <td>0</td>\n",
       "      <td>1</td>\n",
       "      <td>0</td>\n",
       "      <td>0</td>\n",
       "      <td>0</td>\n",
       "      <td>1</td>\n",
       "    </tr>\n",
       "    <tr>\n",
       "      <th>8505</th>\n",
       "      <td>8505</td>\n",
       "      <td>10.500000</td>\n",
       "      <td>0.094146</td>\n",
       "      <td>210.8244</td>\n",
       "      <td>4</td>\n",
       "      <td>2117.2440</td>\n",
       "      <td>0</td>\n",
       "      <td>0</td>\n",
       "      <td>0</td>\n",
       "      <td>0</td>\n",
       "      <td>...</td>\n",
       "      <td>0</td>\n",
       "      <td>1</td>\n",
       "      <td>0</td>\n",
       "      <td>0</td>\n",
       "      <td>0</td>\n",
       "      <td>1</td>\n",
       "      <td>0</td>\n",
       "      <td>0</td>\n",
       "      <td>1</td>\n",
       "      <td>0</td>\n",
       "    </tr>\n",
       "    <tr>\n",
       "      <th>8506</th>\n",
       "      <td>8506</td>\n",
       "      <td>17.250000</td>\n",
       "      <td>0.084676</td>\n",
       "      <td>263.1910</td>\n",
       "      <td>4</td>\n",
       "      <td>3944.8650</td>\n",
       "      <td>0</td>\n",
       "      <td>0</td>\n",
       "      <td>0</td>\n",
       "      <td>0</td>\n",
       "      <td>...</td>\n",
       "      <td>0</td>\n",
       "      <td>1</td>\n",
       "      <td>0</td>\n",
       "      <td>0</td>\n",
       "      <td>0</td>\n",
       "      <td>1</td>\n",
       "      <td>0</td>\n",
       "      <td>0</td>\n",
       "      <td>1</td>\n",
       "      <td>0</td>\n",
       "    </tr>\n",
       "    <tr>\n",
       "      <th>8507</th>\n",
       "      <td>8507</td>\n",
       "      <td>5.880000</td>\n",
       "      <td>0.030242</td>\n",
       "      <td>101.7990</td>\n",
       "      <td>9</td>\n",
       "      <td>515.9950</td>\n",
       "      <td>0</td>\n",
       "      <td>0</td>\n",
       "      <td>0</td>\n",
       "      <td>0</td>\n",
       "      <td>...</td>\n",
       "      <td>0</td>\n",
       "      <td>0</td>\n",
       "      <td>1</td>\n",
       "      <td>0</td>\n",
       "      <td>1</td>\n",
       "      <td>0</td>\n",
       "      <td>0</td>\n",
       "      <td>1</td>\n",
       "      <td>0</td>\n",
       "      <td>0</td>\n",
       "    </tr>\n",
       "    <tr>\n",
       "      <th>8508</th>\n",
       "      <td>8508</td>\n",
       "      <td>11.350000</td>\n",
       "      <td>0.043246</td>\n",
       "      <td>199.4742</td>\n",
       "      <td>11</td>\n",
       "      <td>2587.9646</td>\n",
       "      <td>0</td>\n",
       "      <td>0</td>\n",
       "      <td>0</td>\n",
       "      <td>0</td>\n",
       "      <td>...</td>\n",
       "      <td>0</td>\n",
       "      <td>0</td>\n",
       "      <td>1</td>\n",
       "      <td>0</td>\n",
       "      <td>1</td>\n",
       "      <td>0</td>\n",
       "      <td>0</td>\n",
       "      <td>1</td>\n",
       "      <td>0</td>\n",
       "      <td>0</td>\n",
       "    </tr>\n",
       "    <tr>\n",
       "      <th>8509</th>\n",
       "      <td>8509</td>\n",
       "      <td>8.100000</td>\n",
       "      <td>0.214306</td>\n",
       "      <td>213.9902</td>\n",
       "      <td>15</td>\n",
       "      <td>424.7804</td>\n",
       "      <td>0</td>\n",
       "      <td>0</td>\n",
       "      <td>0</td>\n",
       "      <td>0</td>\n",
       "      <td>...</td>\n",
       "      <td>0</td>\n",
       "      <td>0</td>\n",
       "      <td>1</td>\n",
       "      <td>0</td>\n",
       "      <td>0</td>\n",
       "      <td>1</td>\n",
       "      <td>1</td>\n",
       "      <td>0</td>\n",
       "      <td>0</td>\n",
       "      <td>0</td>\n",
       "    </tr>\n",
       "    <tr>\n",
       "      <th>8510</th>\n",
       "      <td>8510</td>\n",
       "      <td>13.800000</td>\n",
       "      <td>0.056862</td>\n",
       "      <td>231.5984</td>\n",
       "      <td>9</td>\n",
       "      <td>7182.6504</td>\n",
       "      <td>0</td>\n",
       "      <td>0</td>\n",
       "      <td>0</td>\n",
       "      <td>0</td>\n",
       "      <td>...</td>\n",
       "      <td>0</td>\n",
       "      <td>0</td>\n",
       "      <td>1</td>\n",
       "      <td>0</td>\n",
       "      <td>1</td>\n",
       "      <td>0</td>\n",
       "      <td>0</td>\n",
       "      <td>1</td>\n",
       "      <td>0</td>\n",
       "      <td>0</td>\n",
       "    </tr>\n",
       "    <tr>\n",
       "      <th>8511</th>\n",
       "      <td>8511</td>\n",
       "      <td>17.500000</td>\n",
       "      <td>0.026980</td>\n",
       "      <td>262.5910</td>\n",
       "      <td>4</td>\n",
       "      <td>4207.8560</td>\n",
       "      <td>0</td>\n",
       "      <td>0</td>\n",
       "      <td>0</td>\n",
       "      <td>0</td>\n",
       "      <td>...</td>\n",
       "      <td>0</td>\n",
       "      <td>1</td>\n",
       "      <td>0</td>\n",
       "      <td>0</td>\n",
       "      <td>0</td>\n",
       "      <td>1</td>\n",
       "      <td>0</td>\n",
       "      <td>0</td>\n",
       "      <td>1</td>\n",
       "      <td>0</td>\n",
       "    </tr>\n",
       "    <tr>\n",
       "      <th>8512</th>\n",
       "      <td>8512</td>\n",
       "      <td>20.700000</td>\n",
       "      <td>0.042801</td>\n",
       "      <td>178.3028</td>\n",
       "      <td>26</td>\n",
       "      <td>2479.4392</td>\n",
       "      <td>0</td>\n",
       "      <td>0</td>\n",
       "      <td>0</td>\n",
       "      <td>0</td>\n",
       "      <td>...</td>\n",
       "      <td>1</td>\n",
       "      <td>0</td>\n",
       "      <td>0</td>\n",
       "      <td>0</td>\n",
       "      <td>0</td>\n",
       "      <td>1</td>\n",
       "      <td>0</td>\n",
       "      <td>1</td>\n",
       "      <td>0</td>\n",
       "      <td>0</td>\n",
       "    </tr>\n",
       "    <tr>\n",
       "      <th>8513</th>\n",
       "      <td>8513</td>\n",
       "      <td>12.000000</td>\n",
       "      <td>0.020407</td>\n",
       "      <td>99.9042</td>\n",
       "      <td>9</td>\n",
       "      <td>595.2252</td>\n",
       "      <td>0</td>\n",
       "      <td>0</td>\n",
       "      <td>0</td>\n",
       "      <td>0</td>\n",
       "      <td>...</td>\n",
       "      <td>0</td>\n",
       "      <td>0</td>\n",
       "      <td>1</td>\n",
       "      <td>0</td>\n",
       "      <td>1</td>\n",
       "      <td>0</td>\n",
       "      <td>0</td>\n",
       "      <td>1</td>\n",
       "      <td>0</td>\n",
       "      <td>0</td>\n",
       "    </tr>\n",
       "    <tr>\n",
       "      <th>8514</th>\n",
       "      <td>8514</td>\n",
       "      <td>15.000000</td>\n",
       "      <td>0.054489</td>\n",
       "      <td>57.5904</td>\n",
       "      <td>11</td>\n",
       "      <td>468.7232</td>\n",
       "      <td>0</td>\n",
       "      <td>0</td>\n",
       "      <td>0</td>\n",
       "      <td>0</td>\n",
       "      <td>...</td>\n",
       "      <td>0</td>\n",
       "      <td>0</td>\n",
       "      <td>1</td>\n",
       "      <td>0</td>\n",
       "      <td>1</td>\n",
       "      <td>0</td>\n",
       "      <td>0</td>\n",
       "      <td>1</td>\n",
       "      <td>0</td>\n",
       "      <td>0</td>\n",
       "    </tr>\n",
       "    <tr>\n",
       "      <th>8515</th>\n",
       "      <td>8515</td>\n",
       "      <td>20.700000</td>\n",
       "      <td>0.021518</td>\n",
       "      <td>157.5288</td>\n",
       "      <td>4</td>\n",
       "      <td>1571.2880</td>\n",
       "      <td>0</td>\n",
       "      <td>0</td>\n",
       "      <td>0</td>\n",
       "      <td>0</td>\n",
       "      <td>...</td>\n",
       "      <td>0</td>\n",
       "      <td>1</td>\n",
       "      <td>0</td>\n",
       "      <td>0</td>\n",
       "      <td>0</td>\n",
       "      <td>1</td>\n",
       "      <td>0</td>\n",
       "      <td>0</td>\n",
       "      <td>1</td>\n",
       "      <td>0</td>\n",
       "    </tr>\n",
       "    <tr>\n",
       "      <th>8516</th>\n",
       "      <td>8516</td>\n",
       "      <td>18.600000</td>\n",
       "      <td>0.118661</td>\n",
       "      <td>58.7588</td>\n",
       "      <td>4</td>\n",
       "      <td>858.8820</td>\n",
       "      <td>0</td>\n",
       "      <td>0</td>\n",
       "      <td>0</td>\n",
       "      <td>0</td>\n",
       "      <td>...</td>\n",
       "      <td>0</td>\n",
       "      <td>1</td>\n",
       "      <td>0</td>\n",
       "      <td>0</td>\n",
       "      <td>0</td>\n",
       "      <td>1</td>\n",
       "      <td>0</td>\n",
       "      <td>0</td>\n",
       "      <td>1</td>\n",
       "      <td>0</td>\n",
       "    </tr>\n",
       "    <tr>\n",
       "      <th>8517</th>\n",
       "      <td>8517</td>\n",
       "      <td>20.750000</td>\n",
       "      <td>0.083607</td>\n",
       "      <td>178.8318</td>\n",
       "      <td>16</td>\n",
       "      <td>3608.6360</td>\n",
       "      <td>0</td>\n",
       "      <td>0</td>\n",
       "      <td>0</td>\n",
       "      <td>0</td>\n",
       "      <td>...</td>\n",
       "      <td>0</td>\n",
       "      <td>0</td>\n",
       "      <td>1</td>\n",
       "      <td>1</td>\n",
       "      <td>0</td>\n",
       "      <td>0</td>\n",
       "      <td>0</td>\n",
       "      <td>1</td>\n",
       "      <td>0</td>\n",
       "      <td>0</td>\n",
       "    </tr>\n",
       "    <tr>\n",
       "      <th>8518</th>\n",
       "      <td>8518</td>\n",
       "      <td>6.865000</td>\n",
       "      <td>0.056783</td>\n",
       "      <td>214.5218</td>\n",
       "      <td>26</td>\n",
       "      <td>2778.3834</td>\n",
       "      <td>0</td>\n",
       "      <td>0</td>\n",
       "      <td>0</td>\n",
       "      <td>0</td>\n",
       "      <td>...</td>\n",
       "      <td>1</td>\n",
       "      <td>0</td>\n",
       "      <td>0</td>\n",
       "      <td>0</td>\n",
       "      <td>0</td>\n",
       "      <td>1</td>\n",
       "      <td>0</td>\n",
       "      <td>1</td>\n",
       "      <td>0</td>\n",
       "      <td>0</td>\n",
       "    </tr>\n",
       "    <tr>\n",
       "      <th>8519</th>\n",
       "      <td>8519</td>\n",
       "      <td>8.380000</td>\n",
       "      <td>0.046982</td>\n",
       "      <td>108.1570</td>\n",
       "      <td>11</td>\n",
       "      <td>549.2850</td>\n",
       "      <td>0</td>\n",
       "      <td>0</td>\n",
       "      <td>0</td>\n",
       "      <td>0</td>\n",
       "      <td>...</td>\n",
       "      <td>0</td>\n",
       "      <td>0</td>\n",
       "      <td>1</td>\n",
       "      <td>0</td>\n",
       "      <td>1</td>\n",
       "      <td>0</td>\n",
       "      <td>0</td>\n",
       "      <td>1</td>\n",
       "      <td>0</td>\n",
       "      <td>0</td>\n",
       "    </tr>\n",
       "    <tr>\n",
       "      <th>8520</th>\n",
       "      <td>8520</td>\n",
       "      <td>10.600000</td>\n",
       "      <td>0.035186</td>\n",
       "      <td>85.1224</td>\n",
       "      <td>9</td>\n",
       "      <td>1193.1136</td>\n",
       "      <td>0</td>\n",
       "      <td>0</td>\n",
       "      <td>0</td>\n",
       "      <td>0</td>\n",
       "      <td>...</td>\n",
       "      <td>0</td>\n",
       "      <td>0</td>\n",
       "      <td>1</td>\n",
       "      <td>0</td>\n",
       "      <td>1</td>\n",
       "      <td>0</td>\n",
       "      <td>0</td>\n",
       "      <td>1</td>\n",
       "      <td>0</td>\n",
       "      <td>0</td>\n",
       "    </tr>\n",
       "    <tr>\n",
       "      <th>8521</th>\n",
       "      <td>8521</td>\n",
       "      <td>7.210000</td>\n",
       "      <td>0.145221</td>\n",
       "      <td>103.1332</td>\n",
       "      <td>4</td>\n",
       "      <td>1845.5976</td>\n",
       "      <td>0</td>\n",
       "      <td>0</td>\n",
       "      <td>0</td>\n",
       "      <td>0</td>\n",
       "      <td>...</td>\n",
       "      <td>0</td>\n",
       "      <td>1</td>\n",
       "      <td>0</td>\n",
       "      <td>0</td>\n",
       "      <td>0</td>\n",
       "      <td>1</td>\n",
       "      <td>0</td>\n",
       "      <td>0</td>\n",
       "      <td>1</td>\n",
       "      <td>0</td>\n",
       "    </tr>\n",
       "    <tr>\n",
       "      <th>8522</th>\n",
       "      <td>8522</td>\n",
       "      <td>14.800000</td>\n",
       "      <td>0.044878</td>\n",
       "      <td>75.4670</td>\n",
       "      <td>16</td>\n",
       "      <td>765.6700</td>\n",
       "      <td>0</td>\n",
       "      <td>0</td>\n",
       "      <td>0</td>\n",
       "      <td>0</td>\n",
       "      <td>...</td>\n",
       "      <td>0</td>\n",
       "      <td>0</td>\n",
       "      <td>1</td>\n",
       "      <td>1</td>\n",
       "      <td>0</td>\n",
       "      <td>0</td>\n",
       "      <td>0</td>\n",
       "      <td>1</td>\n",
       "      <td>0</td>\n",
       "      <td>0</td>\n",
       "    </tr>\n",
       "  </tbody>\n",
       "</table>\n",
       "<p>8523 rows × 1606 columns</p>\n",
       "</div>"
      ],
      "text/plain": [
       "      Unnamed: 0  Item_Weight  Item_Visibility  Item_MRP  \\\n",
       "0              0     9.300000         0.016047  249.8092   \n",
       "1              1     5.920000         0.019278   48.2692   \n",
       "2              2    17.500000         0.016760  141.6180   \n",
       "3              3    19.200000         0.066132  182.0950   \n",
       "4              4     8.930000         0.066132   53.8614   \n",
       "5              5    10.395000         0.066132   51.4008   \n",
       "6              6    13.650000         0.012741   57.6588   \n",
       "7              7    12.857645         0.127470  107.7622   \n",
       "8              8    16.200000         0.016687   96.9726   \n",
       "9              9    19.200000         0.094450  187.8214   \n",
       "10            10    11.800000         0.066132   45.5402   \n",
       "11            11    18.500000         0.045464  144.1102   \n",
       "12            12    15.100000         0.100014  145.4786   \n",
       "13            13    17.600000         0.047257  119.6782   \n",
       "14            14    16.350000         0.068024  196.4426   \n",
       "15            15     9.000000         0.069089   56.3614   \n",
       "16            16    11.800000         0.008596  115.3492   \n",
       "17            17     9.000000         0.069196   54.3614   \n",
       "18            18    12.857645         0.034238  113.2834   \n",
       "19            19    13.350000         0.102492  230.5352   \n",
       "20            20    18.850000         0.138190  250.8724   \n",
       "21            21    12.857645         0.035400  144.5444   \n",
       "22            22    14.600000         0.025698  196.5084   \n",
       "23            23    12.857645         0.057557  107.6938   \n",
       "24            24    13.850000         0.025896  165.0210   \n",
       "25            25    13.000000         0.099887   45.9060   \n",
       "26            26     7.645000         0.066693   42.3112   \n",
       "27            27    11.650000         0.019356   39.1164   \n",
       "28            28     5.925000         0.161467   45.5086   \n",
       "29            29    12.857645         0.072222   43.6454   \n",
       "...          ...          ...              ...       ...   \n",
       "8493        8493     7.420000         0.025886  189.1872   \n",
       "8494        8494    15.200000         0.066132  110.4912   \n",
       "8495        8495     9.695000         0.029567  160.4920   \n",
       "8496        8496     7.420000         0.021696  185.3582   \n",
       "8497        8497    13.650000         0.049209  150.0050   \n",
       "8498        8498    15.350000         0.035293  124.5730   \n",
       "8499        8499    11.600000         0.037574  100.0042   \n",
       "8500        8500    20.350000         0.066132  125.1678   \n",
       "8501        8501     5.340000         0.005998  100.4358   \n",
       "8502        8502     8.420000         0.070712  216.4192   \n",
       "8503        8503    20.500000         0.036133  120.1756   \n",
       "8504        8504    12.857645         0.124111  111.7544   \n",
       "8505        8505    10.500000         0.094146  210.8244   \n",
       "8506        8506    17.250000         0.084676  263.1910   \n",
       "8507        8507     5.880000         0.030242  101.7990   \n",
       "8508        8508    11.350000         0.043246  199.4742   \n",
       "8509        8509     8.100000         0.214306  213.9902   \n",
       "8510        8510    13.800000         0.056862  231.5984   \n",
       "8511        8511    17.500000         0.026980  262.5910   \n",
       "8512        8512    20.700000         0.042801  178.3028   \n",
       "8513        8513    12.000000         0.020407   99.9042   \n",
       "8514        8514    15.000000         0.054489   57.5904   \n",
       "8515        8515    20.700000         0.021518  157.5288   \n",
       "8516        8516    18.600000         0.118661   58.7588   \n",
       "8517        8517    20.750000         0.083607  178.8318   \n",
       "8518        8518     6.865000         0.056783  214.5218   \n",
       "8519        8519     8.380000         0.046982  108.1570   \n",
       "8520        8520    10.600000         0.035186   85.1224   \n",
       "8521        8521     7.210000         0.145221  103.1332   \n",
       "8522        8522    14.800000         0.044878   75.4670   \n",
       "\n",
       "      Outlet_Establishment_Year  Item_Outlet_Sales  Item_Identifier_DRA12  \\\n",
       "0                            14          3735.1380                      0   \n",
       "1                             4           443.4228                      0   \n",
       "2                            14          2097.2700                      0   \n",
       "3                            15           732.3800                      0   \n",
       "4                            26           994.7052                      0   \n",
       "5                             4           556.6088                      0   \n",
       "6                            26           343.5528                      0   \n",
       "7                            28          4022.7636                      0   \n",
       "8                            11          1076.5986                      0   \n",
       "9                             6          4710.5350                      0   \n",
       "10                           14          1516.0266                      0   \n",
       "11                           16          2187.1530                      0   \n",
       "12                           14          1589.2646                      0   \n",
       "13                           16          2145.2076                      0   \n",
       "14                           26          1977.4260                      0   \n",
       "15                           16          1547.3192                      0   \n",
       "16                            4          1621.8888                      0   \n",
       "17                           14           718.3982                      0   \n",
       "18                           28          2303.6680                      0   \n",
       "19                            9          2748.4224                      0   \n",
       "20                           26          3775.0860                      0   \n",
       "21                           28          4064.0432                      0   \n",
       "22                            9          1587.2672                      0   \n",
       "23                           28           214.3876                      0   \n",
       "24                           16          4078.0250                      0   \n",
       "25                            6           838.9080                      0   \n",
       "26                            9          1065.2800                      0   \n",
       "27                           26           308.9312                      0   \n",
       "28                           15           178.4344                      0   \n",
       "29                           28           125.8362                      0   \n",
       "...                         ...                ...                    ...   \n",
       "8493                          6          4727.1800                      0   \n",
       "8494                          6          1637.8680                      0   \n",
       "8495                          9          4314.3840                      0   \n",
       "8496                          6          3715.1640                      0   \n",
       "8497                          9          2247.0750                      0   \n",
       "8498                          4          1601.2490                      0   \n",
       "8499                          9          2976.1260                      0   \n",
       "8500                          6          1907.5170                      0   \n",
       "8501                          6          1508.0370                      0   \n",
       "8502                         11          3020.0688                      0   \n",
       "8503                          9          3392.9168                      0   \n",
       "8504                         28          4138.6128                      0   \n",
       "8505                          4          2117.2440                      0   \n",
       "8506                          4          3944.8650                      0   \n",
       "8507                          9           515.9950                      0   \n",
       "8508                         11          2587.9646                      0   \n",
       "8509                         15           424.7804                      0   \n",
       "8510                          9          7182.6504                      0   \n",
       "8511                          4          4207.8560                      0   \n",
       "8512                         26          2479.4392                      0   \n",
       "8513                          9           595.2252                      0   \n",
       "8514                         11           468.7232                      0   \n",
       "8515                          4          1571.2880                      0   \n",
       "8516                          4           858.8820                      0   \n",
       "8517                         16          3608.6360                      0   \n",
       "8518                         26          2778.3834                      0   \n",
       "8519                         11           549.2850                      0   \n",
       "8520                          9          1193.1136                      0   \n",
       "8521                          4          1845.5976                      0   \n",
       "8522                         16           765.6700                      0   \n",
       "\n",
       "      Item_Identifier_DRA24  Item_Identifier_DRA59  Item_Identifier_DRB01  \\\n",
       "0                         0                      0                      0   \n",
       "1                         0                      0                      0   \n",
       "2                         0                      0                      0   \n",
       "3                         0                      0                      0   \n",
       "4                         0                      0                      0   \n",
       "5                         0                      0                      0   \n",
       "6                         0                      0                      0   \n",
       "7                         0                      0                      0   \n",
       "8                         0                      0                      0   \n",
       "9                         0                      0                      0   \n",
       "10                        0                      0                      0   \n",
       "11                        0                      0                      0   \n",
       "12                        0                      0                      0   \n",
       "13                        0                      0                      0   \n",
       "14                        0                      0                      0   \n",
       "15                        0                      0                      0   \n",
       "16                        0                      0                      0   \n",
       "17                        0                      0                      0   \n",
       "18                        0                      0                      0   \n",
       "19                        0                      0                      0   \n",
       "20                        0                      0                      0   \n",
       "21                        0                      0                      0   \n",
       "22                        0                      0                      0   \n",
       "23                        0                      0                      0   \n",
       "24                        0                      0                      0   \n",
       "25                        0                      0                      0   \n",
       "26                        0                      0                      0   \n",
       "27                        0                      0                      0   \n",
       "28                        0                      0                      0   \n",
       "29                        0                      0                      0   \n",
       "...                     ...                    ...                    ...   \n",
       "8493                      0                      0                      0   \n",
       "8494                      0                      0                      0   \n",
       "8495                      0                      0                      0   \n",
       "8496                      0                      0                      0   \n",
       "8497                      0                      0                      0   \n",
       "8498                      0                      0                      0   \n",
       "8499                      0                      0                      0   \n",
       "8500                      0                      0                      0   \n",
       "8501                      0                      0                      0   \n",
       "8502                      0                      0                      0   \n",
       "8503                      0                      0                      0   \n",
       "8504                      0                      0                      0   \n",
       "8505                      0                      0                      0   \n",
       "8506                      0                      0                      0   \n",
       "8507                      0                      0                      0   \n",
       "8508                      0                      0                      0   \n",
       "8509                      0                      0                      0   \n",
       "8510                      0                      0                      0   \n",
       "8511                      0                      0                      0   \n",
       "8512                      0                      0                      0   \n",
       "8513                      0                      0                      0   \n",
       "8514                      0                      0                      0   \n",
       "8515                      0                      0                      0   \n",
       "8516                      0                      0                      0   \n",
       "8517                      0                      0                      0   \n",
       "8518                      0                      0                      0   \n",
       "8519                      0                      0                      0   \n",
       "8520                      0                      0                      0   \n",
       "8521                      0                      0                      0   \n",
       "8522                      0                      0                      0   \n",
       "\n",
       "                  ...                Outlet_Size_High  Outlet_Size_Medium  \\\n",
       "0                 ...                               0                   1   \n",
       "1                 ...                               0                   1   \n",
       "2                 ...                               0                   1   \n",
       "3                 ...                               0                   0   \n",
       "4                 ...                               1                   0   \n",
       "5                 ...                               0                   1   \n",
       "6                 ...                               1                   0   \n",
       "7                 ...                               0                   1   \n",
       "8                 ...                               0                   0   \n",
       "9                 ...                               0                   0   \n",
       "10                ...                               0                   1   \n",
       "11                ...                               0                   0   \n",
       "12                ...                               0                   1   \n",
       "13                ...                               0                   0   \n",
       "14                ...                               1                   0   \n",
       "15                ...                               0                   0   \n",
       "16                ...                               0                   1   \n",
       "17                ...                               0                   1   \n",
       "18                ...                               0                   1   \n",
       "19                ...                               0                   0   \n",
       "20                ...                               1                   0   \n",
       "21                ...                               0                   1   \n",
       "22                ...                               0                   0   \n",
       "23                ...                               0                   0   \n",
       "24                ...                               0                   0   \n",
       "25                ...                               0                   0   \n",
       "26                ...                               0                   0   \n",
       "27                ...                               1                   0   \n",
       "28                ...                               0                   0   \n",
       "29                ...                               0                   0   \n",
       "...               ...                             ...                 ...   \n",
       "8493              ...                               0                   0   \n",
       "8494              ...                               0                   0   \n",
       "8495              ...                               0                   0   \n",
       "8496              ...                               0                   0   \n",
       "8497              ...                               0                   0   \n",
       "8498              ...                               0                   1   \n",
       "8499              ...                               0                   0   \n",
       "8500              ...                               0                   0   \n",
       "8501              ...                               0                   0   \n",
       "8502              ...                               0                   0   \n",
       "8503              ...                               0                   0   \n",
       "8504              ...                               0                   1   \n",
       "8505              ...                               0                   1   \n",
       "8506              ...                               0                   1   \n",
       "8507              ...                               0                   0   \n",
       "8508              ...                               0                   0   \n",
       "8509              ...                               0                   0   \n",
       "8510              ...                               0                   0   \n",
       "8511              ...                               0                   1   \n",
       "8512              ...                               1                   0   \n",
       "8513              ...                               0                   0   \n",
       "8514              ...                               0                   0   \n",
       "8515              ...                               0                   1   \n",
       "8516              ...                               0                   1   \n",
       "8517              ...                               0                   0   \n",
       "8518              ...                               1                   0   \n",
       "8519              ...                               0                   0   \n",
       "8520              ...                               0                   0   \n",
       "8521              ...                               0                   1   \n",
       "8522              ...                               0                   0   \n",
       "\n",
       "      Outlet_Size_Small  Outlet_Location_Type_Tier 1  \\\n",
       "0                     0                            1   \n",
       "1                     0                            0   \n",
       "2                     0                            1   \n",
       "3                     1                            0   \n",
       "4                     0                            0   \n",
       "5                     0                            0   \n",
       "6                     0                            0   \n",
       "7                     0                            0   \n",
       "8                     1                            0   \n",
       "9                     1                            0   \n",
       "10                    0                            1   \n",
       "11                    1                            1   \n",
       "12                    0                            1   \n",
       "13                    1                            1   \n",
       "14                    0                            0   \n",
       "15                    1                            1   \n",
       "16                    0                            0   \n",
       "17                    0                            1   \n",
       "18                    0                            0   \n",
       "19                    1                            0   \n",
       "20                    0                            0   \n",
       "21                    0                            0   \n",
       "22                    1                            0   \n",
       "23                    1                            1   \n",
       "24                    1                            1   \n",
       "25                    1                            0   \n",
       "26                    1                            0   \n",
       "27                    0                            0   \n",
       "28                    1                            0   \n",
       "29                    1                            1   \n",
       "...                 ...                          ...   \n",
       "8493                  1                            0   \n",
       "8494                  1                            0   \n",
       "8495                  1                            0   \n",
       "8496                  1                            0   \n",
       "8497                  1                            0   \n",
       "8498                  0                            0   \n",
       "8499                  1                            0   \n",
       "8500                  1                            0   \n",
       "8501                  1                            0   \n",
       "8502                  1                            0   \n",
       "8503                  1                            0   \n",
       "8504                  0                            0   \n",
       "8505                  0                            0   \n",
       "8506                  0                            0   \n",
       "8507                  1                            0   \n",
       "8508                  1                            0   \n",
       "8509                  1                            0   \n",
       "8510                  1                            0   \n",
       "8511                  0                            0   \n",
       "8512                  0                            0   \n",
       "8513                  1                            0   \n",
       "8514                  1                            0   \n",
       "8515                  0                            0   \n",
       "8516                  0                            0   \n",
       "8517                  1                            1   \n",
       "8518                  0                            0   \n",
       "8519                  1                            0   \n",
       "8520                  1                            0   \n",
       "8521                  0                            0   \n",
       "8522                  1                            1   \n",
       "\n",
       "      Outlet_Location_Type_Tier 2  Outlet_Location_Type_Tier 3  \\\n",
       "0                               0                            0   \n",
       "1                               0                            1   \n",
       "2                               0                            0   \n",
       "3                               0                            1   \n",
       "4                               0                            1   \n",
       "5                               0                            1   \n",
       "6                               0                            1   \n",
       "7                               0                            1   \n",
       "8                               1                            0   \n",
       "9                               1                            0   \n",
       "10                              0                            0   \n",
       "11                              0                            0   \n",
       "12                              0                            0   \n",
       "13                              0                            0   \n",
       "14                              0                            1   \n",
       "15                              0                            0   \n",
       "16                              0                            1   \n",
       "17                              0                            0   \n",
       "18                              0                            1   \n",
       "19                              1                            0   \n",
       "20                              0                            1   \n",
       "21                              0                            1   \n",
       "22                              1                            0   \n",
       "23                              0                            0   \n",
       "24                              0                            0   \n",
       "25                              1                            0   \n",
       "26                              1                            0   \n",
       "27                              0                            1   \n",
       "28                              0                            1   \n",
       "29                              0                            0   \n",
       "...                           ...                          ...   \n",
       "8493                            1                            0   \n",
       "8494                            1                            0   \n",
       "8495                            1                            0   \n",
       "8496                            1                            0   \n",
       "8497                            1                            0   \n",
       "8498                            0                            1   \n",
       "8499                            1                            0   \n",
       "8500                            1                            0   \n",
       "8501                            1                            0   \n",
       "8502                            1                            0   \n",
       "8503                            1                            0   \n",
       "8504                            0                            1   \n",
       "8505                            0                            1   \n",
       "8506                            0                            1   \n",
       "8507                            1                            0   \n",
       "8508                            1                            0   \n",
       "8509                            0                            1   \n",
       "8510                            1                            0   \n",
       "8511                            0                            1   \n",
       "8512                            0                            1   \n",
       "8513                            1                            0   \n",
       "8514                            1                            0   \n",
       "8515                            0                            1   \n",
       "8516                            0                            1   \n",
       "8517                            0                            0   \n",
       "8518                            0                            1   \n",
       "8519                            1                            0   \n",
       "8520                            1                            0   \n",
       "8521                            0                            1   \n",
       "8522                            0                            0   \n",
       "\n",
       "      Outlet_Type_Grocery Store  Outlet_Type_Supermarket Type1  \\\n",
       "0                             0                              1   \n",
       "1                             0                              0   \n",
       "2                             0                              1   \n",
       "3                             1                              0   \n",
       "4                             0                              1   \n",
       "5                             0                              0   \n",
       "6                             0                              1   \n",
       "7                             0                              0   \n",
       "8                             0                              1   \n",
       "9                             0                              1   \n",
       "10                            0                              1   \n",
       "11                            0                              1   \n",
       "12                            0                              1   \n",
       "13                            0                              1   \n",
       "14                            0                              1   \n",
       "15                            0                              1   \n",
       "16                            0                              0   \n",
       "17                            0                              1   \n",
       "18                            0                              0   \n",
       "19                            0                              1   \n",
       "20                            0                              1   \n",
       "21                            0                              0   \n",
       "22                            0                              1   \n",
       "23                            1                              0   \n",
       "24                            0                              1   \n",
       "25                            0                              1   \n",
       "26                            0                              1   \n",
       "27                            0                              1   \n",
       "28                            1                              0   \n",
       "29                            1                              0   \n",
       "...                         ...                            ...   \n",
       "8493                          0                              1   \n",
       "8494                          0                              1   \n",
       "8495                          0                              1   \n",
       "8496                          0                              1   \n",
       "8497                          0                              1   \n",
       "8498                          0                              0   \n",
       "8499                          0                              1   \n",
       "8500                          0                              1   \n",
       "8501                          0                              1   \n",
       "8502                          0                              1   \n",
       "8503                          0                              1   \n",
       "8504                          0                              0   \n",
       "8505                          0                              0   \n",
       "8506                          0                              0   \n",
       "8507                          0                              1   \n",
       "8508                          0                              1   \n",
       "8509                          1                              0   \n",
       "8510                          0                              1   \n",
       "8511                          0                              0   \n",
       "8512                          0                              1   \n",
       "8513                          0                              1   \n",
       "8514                          0                              1   \n",
       "8515                          0                              0   \n",
       "8516                          0                              0   \n",
       "8517                          0                              1   \n",
       "8518                          0                              1   \n",
       "8519                          0                              1   \n",
       "8520                          0                              1   \n",
       "8521                          0                              0   \n",
       "8522                          0                              1   \n",
       "\n",
       "      Outlet_Type_Supermarket Type2  Outlet_Type_Supermarket Type3  \n",
       "0                                 0                              0  \n",
       "1                                 1                              0  \n",
       "2                                 0                              0  \n",
       "3                                 0                              0  \n",
       "4                                 0                              0  \n",
       "5                                 1                              0  \n",
       "6                                 0                              0  \n",
       "7                                 0                              1  \n",
       "8                                 0                              0  \n",
       "9                                 0                              0  \n",
       "10                                0                              0  \n",
       "11                                0                              0  \n",
       "12                                0                              0  \n",
       "13                                0                              0  \n",
       "14                                0                              0  \n",
       "15                                0                              0  \n",
       "16                                1                              0  \n",
       "17                                0                              0  \n",
       "18                                0                              1  \n",
       "19                                0                              0  \n",
       "20                                0                              0  \n",
       "21                                0                              1  \n",
       "22                                0                              0  \n",
       "23                                0                              0  \n",
       "24                                0                              0  \n",
       "25                                0                              0  \n",
       "26                                0                              0  \n",
       "27                                0                              0  \n",
       "28                                0                              0  \n",
       "29                                0                              0  \n",
       "...                             ...                            ...  \n",
       "8493                              0                              0  \n",
       "8494                              0                              0  \n",
       "8495                              0                              0  \n",
       "8496                              0                              0  \n",
       "8497                              0                              0  \n",
       "8498                              1                              0  \n",
       "8499                              0                              0  \n",
       "8500                              0                              0  \n",
       "8501                              0                              0  \n",
       "8502                              0                              0  \n",
       "8503                              0                              0  \n",
       "8504                              0                              1  \n",
       "8505                              1                              0  \n",
       "8506                              1                              0  \n",
       "8507                              0                              0  \n",
       "8508                              0                              0  \n",
       "8509                              0                              0  \n",
       "8510                              0                              0  \n",
       "8511                              1                              0  \n",
       "8512                              0                              0  \n",
       "8513                              0                              0  \n",
       "8514                              0                              0  \n",
       "8515                              1                              0  \n",
       "8516                              1                              0  \n",
       "8517                              0                              0  \n",
       "8518                              0                              0  \n",
       "8519                              0                              0  \n",
       "8520                              0                              0  \n",
       "8521                              1                              0  \n",
       "8522                              0                              0  \n",
       "\n",
       "[8523 rows x 1606 columns]"
      ]
     },
     "execution_count": 11,
     "metadata": {
      "tags": []
     },
     "output_type": "execute_result"
    }
   ],
   "source": [
    "X_TRAIN\n"
   ]
  },
  {
   "cell_type": "code",
   "execution_count": 0,
   "metadata": {
    "id": "I-y16PppqWaL",
    "colab_type": "code",
    "colab": {}
   },
   "outputs": [],
   "source": [
    "Y=X_TRAIN['Item_Outlet_Sales']\n",
    "X=X_TRAIN.drop('Item_Outlet_Sales',axis=1)\n",
    "from sklearn.model_selection import train_test_split\n",
    "x_train,x_test,y_train,y_test=train_test_split(X,Y,random_state=33,test_size=0.3)"
   ]
  },
  {
   "cell_type": "code",
   "execution_count": 0,
   "metadata": {
    "id": "lkT-32w6FzBH",
    "colab_type": "code",
    "colab": {}
   },
   "outputs": [],
   "source": [
    "from sklearn.model_selection import GridSearchCV"
   ]
  },
  {
   "cell_type": "code",
   "execution_count": 0,
   "metadata": {
    "id": "fqjZrqMrFy8M",
    "colab_type": "code",
    "colab": {}
   },
   "outputs": [],
   "source": [
    "param_grid={'n_estimators':[200,300,350,500,1500],\n",
    "             'max_depth':(2,3,4,5),\n",
    "             'min_samples_split':[100,125,200,250,300],\n",
    "             'min_samples_leaf':[25,50,75,100],\n",
    "             'loss':['ls','lad','huber','quantile']}"
   ]
  },
  {
   "cell_type": "code",
   "execution_count": 0,
   "metadata": {
    "id": "zGOrSA0eLTw9",
    "colab_type": "code",
    "colab": {}
   },
   "outputs": [],
   "source": [
    "from sklearn.ensemble import GradientBoostingRegressor"
   ]
  },
  {
   "cell_type": "code",
   "execution_count": 0,
   "metadata": {
    "id": "8HIXAzdWFy3u",
    "colab_type": "code",
    "colab": {}
   },
   "outputs": [],
   "source": [
    "modelobjGBR=GradientBoostingRegressor()"
   ]
  },
  {
   "cell_type": "code",
   "execution_count": 0,
   "metadata": {
    "id": "VnkkqTRMFy0K",
    "colab_type": "code",
    "colab": {}
   },
   "outputs": [],
   "source": [
    "gcv=GridSearchCV(estimator=modelobjGBR,param_grid=param_grid)"
   ]
  },
  {
   "cell_type": "code",
   "execution_count": 0,
   "metadata": {
    "id": "kaqnFCXqFyuR",
    "colab_type": "code",
    "colab": {}
   },
   "outputs": [],
   "source": [
    "gcv.fit(x_train,y_train)"
   ]
  },
  {
   "cell_type": "code",
   "execution_count": 0,
   "metadata": {
    "id": "QNtABDP-Fyo5",
    "colab_type": "code",
    "colab": {}
   },
   "outputs": [],
   "source": [
    "predict_gcv_y_test=gcv.predict(x_test)"
   ]
  },
  {
   "cell_type": "code",
   "execution_count": 0,
   "metadata": {
    "id": "NWPpfJHJL4eI",
    "colab_type": "code",
    "colab": {}
   },
   "outputs": [],
   "source": [
    "predict_gcv_y_train=gcv.predict(x_train)"
   ]
  },
  {
   "cell_type": "code",
   "execution_count": 0,
   "metadata": {
    "id": "OYD020MEMCnq",
    "colab_type": "code",
    "colab": {}
   },
   "outputs": [],
   "source": [
    "mse_test_gcv=mean_squared_error(y_test,pred_gcv_y_test)"
   ]
  },
  {
   "cell_type": "code",
   "execution_count": 0,
   "metadata": {
    "id": "nmdJ3Zj9MTzg",
    "colab_type": "code",
    "colab": {}
   },
   "outputs": [],
   "source": [
    "mse_train_gcv=mean_squared_error(y_train,pred_gcv_y_train)"
   ]
  },
  {
   "cell_type": "code",
   "execution_count": 0,
   "metadata": {
    "id": "5Y_KIAQ2MUAS",
    "colab_type": "code",
    "colab": {}
   },
   "outputs": [],
   "source": [
    "model.score(x_train,y_train)"
   ]
  },
  {
   "cell_type": "code",
   "execution_count": 0,
   "metadata": {
    "id": "ljUJz1TeMUNA",
    "colab_type": "code",
    "colab": {}
   },
   "outputs": [],
   "source": [
    "model.score(x_test,y_test)"
   ]
  },
  {
   "cell_type": "code",
   "execution_count": 0,
   "metadata": {
    "id": "ZTt4Fb-Utx2Q",
    "colab_type": "code",
    "colab": {}
   },
   "outputs": [],
   "source": [
    "import xgboost as xgb\n",
    "model=xgb.XGBRegressor()"
   ]
  },
  {
   "cell_type": "code",
   "execution_count": 34,
   "metadata": {
    "id": "mmgpdnfjt_GV",
    "colab_type": "code",
    "colab": {
     "base_uri": "https://localhost:8080/",
     "height": 119.0
    },
    "outputId": "9ca6f70a-c5dc-4c1c-a7d5-71d5fdf88aee",
    "executionInfo": {
     "status": "ok",
     "timestamp": 1.540194042733E12,
     "user_tz": -330.0,
     "elapsed": 1620.0,
     "user": {
      "displayName": "Kavitha V",
      "photoUrl": "",
      "userId": "00448912820684317706"
     }
    }
   },
   "outputs": [
    {
     "data": {
      "text/plain": [
       "XGBRegressor(base_score=0.5, booster='gbtree', colsample_bylevel=1,\n",
       "       colsample_bytree=1, gamma=0, learning_rate=0.1, max_delta_step=0,\n",
       "       max_depth=3, min_child_weight=1, missing=None, n_estimators=100,\n",
       "       n_jobs=1, nthread=None, objective='reg:linear', random_state=0,\n",
       "       reg_alpha=0, reg_lambda=1, scale_pos_weight=1, seed=None,\n",
       "       silent=True, subsample=1)"
      ]
     },
     "execution_count": 34,
     "metadata": {
      "tags": []
     },
     "output_type": "execute_result"
    }
   ],
   "source": [
    "\n",
    "model"
   ]
  },
  {
   "cell_type": "code",
   "execution_count": 36,
   "metadata": {
    "id": "g8i4HkjAumST",
    "colab_type": "code",
    "colab": {
     "base_uri": "https://localhost:8080/",
     "height": 119.0
    },
    "outputId": "9d27670c-ec5e-4459-80d8-ef7c5b918e6f",
    "executionInfo": {
     "status": "ok",
     "timestamp": 1.540194244427E12,
     "user_tz": -330.0,
     "elapsed": 18965.0,
     "user": {
      "displayName": "Kavitha V",
      "photoUrl": "",
      "userId": "00448912820684317706"
     }
    }
   },
   "outputs": [
    {
     "data": {
      "text/plain": [
       "XGBRegressor(base_score=0.5, booster='gbtree', colsample_bylevel=1,\n",
       "       colsample_bytree=1, gamma=0, learning_rate=0.1, max_delta_step=0,\n",
       "       max_depth=3, min_child_weight=1, missing=None, n_estimators=100,\n",
       "       n_jobs=1, nthread=None, objective='reg:linear', random_state=0,\n",
       "       reg_alpha=0, reg_lambda=1, scale_pos_weight=1, seed=None,\n",
       "       silent=True, subsample=1)"
      ]
     },
     "execution_count": 36,
     "metadata": {
      "tags": []
     },
     "output_type": "execute_result"
    }
   ],
   "source": [
    "model.fit(x_train,y_train)"
   ]
  },
  {
   "cell_type": "code",
   "execution_count": 37,
   "metadata": {
    "id": "uodyDvazu1ne",
    "colab_type": "code",
    "colab": {
     "base_uri": "https://localhost:8080/",
     "height": 34.0
    },
    "outputId": "407794d1-eda7-4457-ecdb-3986aff12af8",
    "executionInfo": {
     "status": "ok",
     "timestamp": 1.540194273826E12,
     "user_tz": -330.0,
     "elapsed": 1129.0,
     "user": {
      "displayName": "Kavitha V",
      "photoUrl": "",
      "userId": "00448912820684317706"
     }
    }
   },
   "outputs": [
    {
     "data": {
      "text/plain": [
       "0.6366501110552257"
      ]
     },
     "execution_count": 37,
     "metadata": {
      "tags": []
     },
     "output_type": "execute_result"
    }
   ],
   "source": [
    "model.score(x_train,y_train)"
   ]
  },
  {
   "cell_type": "code",
   "execution_count": 0,
   "metadata": {
    "id": "NwTocYKZu_yN",
    "colab_type": "code",
    "colab": {}
   },
   "outputs": [],
   "source": [
    "train_pred_xgboost=model.predict(x_train)"
   ]
  },
  {
   "cell_type": "code",
   "execution_count": 0,
   "metadata": {
    "id": "bIhkG-Fsvmxv",
    "colab_type": "code",
    "colab": {}
   },
   "outputs": [],
   "source": [
    "test_pred_xgboost=model.predict(x_test)"
   ]
  },
  {
   "cell_type": "code",
   "execution_count": 0,
   "metadata": {
    "id": "66JbhYuRvta6",
    "colab_type": "code",
    "colab": {}
   },
   "outputs": [],
   "source": [
    "mse_test_xgboost=mean_squared_error(y_test,test_pred_xgboost)"
   ]
  },
  {
   "cell_type": "code",
   "execution_count": 46,
   "metadata": {
    "id": "G-aYRxKfv1xY",
    "colab_type": "code",
    "colab": {
     "base_uri": "https://localhost:8080/",
     "height": 34.0
    },
    "outputId": "8ef3fabe-147a-4717-a153-0b71cb797dd4",
    "executionInfo": {
     "status": "ok",
     "timestamp": 1.540194528653E12,
     "user_tz": -330.0,
     "elapsed": 1650.0,
     "user": {
      "displayName": "Kavitha V",
      "photoUrl": "",
      "userId": "00448912820684317706"
     }
    }
   },
   "outputs": [
    {
     "data": {
      "text/plain": [
       "1179372.5968025168"
      ]
     },
     "execution_count": 46,
     "metadata": {
      "tags": []
     },
     "output_type": "execute_result"
    }
   ],
   "source": [
    "mse_test_xgboost"
   ]
  },
  {
   "cell_type": "code",
   "execution_count": 0,
   "metadata": {
    "id": "4S5sUh0kvI_8",
    "colab_type": "code",
    "colab": {}
   },
   "outputs": [],
   "source": [
    "from sklearn.metrics import mean_squared_error"
   ]
  },
  {
   "cell_type": "code",
   "execution_count": 0,
   "metadata": {
    "id": "KLgRpCFHvPRJ",
    "colab_type": "code",
    "colab": {}
   },
   "outputs": [],
   "source": [
    "mse_train_xgboost=mean_squared_error(y_train,train_pred_xgboost)"
   ]
  },
  {
   "cell_type": "code",
   "execution_count": 43,
   "metadata": {
    "id": "6jpRRd8PvkGq",
    "colab_type": "code",
    "colab": {
     "base_uri": "https://localhost:8080/",
     "height": 34.0
    },
    "outputId": "9f853b77-4297-4932-aa29-82bdf9a05605",
    "executionInfo": {
     "status": "ok",
     "timestamp": 1.54019445558E12,
     "user_tz": -330.0,
     "elapsed": 1146.0,
     "user": {
      "displayName": "Kavitha V",
      "photoUrl": "",
      "userId": "00448912820684317706"
     }
    }
   },
   "outputs": [
    {
     "data": {
      "text/plain": [
       "1061373.4142013434"
      ]
     },
     "execution_count": 43,
     "metadata": {
      "tags": []
     },
     "output_type": "execute_result"
    }
   ],
   "source": [
    "mse_train_xgboost"
   ]
  },
  {
   "cell_type": "code",
   "execution_count": 38,
   "metadata": {
    "id": "u-FWMnWgu57z",
    "colab_type": "code",
    "colab": {
     "base_uri": "https://localhost:8080/",
     "height": 34.0
    },
    "outputId": "07a8a4ed-a25a-417b-84d5-77ae82cde666",
    "executionInfo": {
     "status": "ok",
     "timestamp": 1.540194291201E12,
     "user_tz": -330.0,
     "elapsed": 1666.0,
     "user": {
      "displayName": "Kavitha V",
      "photoUrl": "",
      "userId": "00448912820684317706"
     }
    }
   },
   "outputs": [
    {
     "data": {
      "text/plain": [
       "0.5917937897609871"
      ]
     },
     "execution_count": 38,
     "metadata": {
      "tags": []
     },
     "output_type": "execute_result"
    }
   ],
   "source": [
    "model.score(x_test,y_test)"
   ]
  },
  {
   "cell_type": "code",
   "execution_count": 0,
   "metadata": {
    "id": "9aQlzjzLwDvk",
    "colab_type": "code",
    "colab": {}
   },
   "outputs": [],
   "source": [
    ""
   ]
  },
  {
   "cell_type": "code",
   "execution_count": 0,
   "metadata": {
    "id": "oUkGsun_wD9w",
    "colab_type": "code",
    "colab": {}
   },
   "outputs": [],
   "source": [
    "xgb2=xgb.XGBRegressor(min_child_weight=10,n_estimators=1000)"
   ]
  },
  {
   "cell_type": "code",
   "execution_count": 0,
   "metadata": {
    "id": "oZq1AJVZH5Z7",
    "colab_type": "code",
    "colab": {}
   },
   "outputs": [],
   "source": [
    "xgb3=xgb.XGBRegressor(min_child_weight=10,n_estimators=1000,learning_rate=0.01,eta=0.01)"
   ]
  },
  {
   "cell_type": "code",
   "execution_count": 0,
   "metadata": {
    "id": "7hyCHtbLViZ4",
    "colab_type": "code",
    "colab": {}
   },
   "outputs": [],
   "source": [
    "xgb4=xgb.XGBRegressor(min_child_weight=10,n_estimators=1000,learning_rate=0.05,eta=0.01,max_depth=6)"
   ]
  },
  {
   "cell_type": "code",
   "execution_count": 0,
   "metadata": {
    "id": "7VRcFBJpYxJD",
    "colab_type": "code",
    "colab": {}
   },
   "outputs": [],
   "source": [
    "xgb5=xgb.XGBRegressor(min_child_weight=10,n_estimators=1000,learning_rate=0.05,eta=0.01,max_depth=5,reg_lambda=0.5)"
   ]
  },
  {
   "cell_type": "code",
   "execution_count": 0,
   "metadata": {
    "id": "oVY0wl8wd0EH",
    "colab_type": "code",
    "colab": {}
   },
   "outputs": [],
   "source": [
    "xgb6=xgb.XGBRegressor(min_child_weight=10,n_estimators=1000,learning_rate=0.05,eta=0.01,max_depth=5,reg_lambda=0.5,reg_alpha=1)"
   ]
  },
  {
   "cell_type": "code",
   "execution_count": 0,
   "metadata": {
    "id": "z5uD-14qf37h",
    "colab_type": "code",
    "colab": {}
   },
   "outputs": [],
   "source": [
    "xgb7=xgb.XGBRegressor(min_child_weight=50,n_estimators=1000,learning_rate=0.05,eta=0.01,max_depth=5,reg_lambda=0.5,reg_alpha=0.5)"
   ]
  },
  {
   "cell_type": "code",
   "execution_count": 0,
   "metadata": {
    "id": "PIw3RsXyo4Sd",
    "colab_type": "code",
    "colab": {}
   },
   "outputs": [],
   "source": [
    "xgb8=xgb.XGBRegressor(min_child_weight=50,n_estimators=1000,learning_rate=0.05,eta=0.01,max_depth=5,reg_lambda=0.5,reg_alpha=0.5)"
   ]
  },
  {
   "cell_type": "code",
   "execution_count": 0,
   "metadata": {
    "id": "jUc0WXWbt_3R",
    "colab_type": "code",
    "colab": {}
   },
   "outputs": [],
   "source": [
    "xgb10=xgb.XGBRegressor(min_child_weight=75,n_estimators=1500,learning_rate=0.05,eta=0.01,max_depth=5,reg_lambda=0.5,reg_alpha=0.5)"
   ]
  },
  {
   "cell_type": "code",
   "execution_count": 51,
   "metadata": {
    "id": "z25bDNYVxqvy",
    "colab_type": "code",
    "colab": {
     "base_uri": "https://localhost:8080/",
     "height": 119.0
    },
    "outputId": "d04c0a36-5b14-45be-e831-446d88f3d9f9",
    "executionInfo": {
     "status": "ok",
     "timestamp": 1.540279310515E12,
     "user_tz": -330.0,
     "elapsed": 402535.0,
     "user": {
      "displayName": "Kavitha V",
      "photoUrl": "",
      "userId": "00448912820684317706"
     }
    }
   },
   "outputs": [
    {
     "data": {
      "text/plain": [
       "XGBRegressor(base_score=0.5, booster='gbtree', colsample_bylevel=1,\n",
       "       colsample_bytree=1, eta=0.01, gamma=0, learning_rate=0.05,\n",
       "       max_delta_step=0, max_depth=5, min_child_weight=75, missing=None,\n",
       "       n_estimators=1500, n_jobs=1, nthread=None, objective='reg:linear',\n",
       "       random_state=0, reg_alpha=0.5, reg_lambda=0.5, scale_pos_weight=1,\n",
       "       seed=None, silent=True, subsample=1)"
      ]
     },
     "execution_count": 51,
     "metadata": {
      "tags": []
     },
     "output_type": "execute_result"
    }
   ],
   "source": [
    "xgb10.fit(x_train,y_train)"
   ]
  },
  {
   "cell_type": "code",
   "execution_count": 52,
   "metadata": {
    "id": "J1kg1Ltx20a_",
    "colab_type": "code",
    "colab": {
     "base_uri": "https://localhost:8080/",
     "height": 34.0
    },
    "outputId": "0b9d0be2-f98b-4992-82a8-1e98f59388c2",
    "executionInfo": {
     "status": "ok",
     "timestamp": 1.540280251443E12,
     "user_tz": -330.0,
     "elapsed": 1119.0,
     "user": {
      "displayName": "Kavitha V",
      "photoUrl": "",
      "userId": "00448912820684317706"
     }
    }
   },
   "outputs": [
    {
     "data": {
      "text/plain": [
       "0.5626116768540903"
      ]
     },
     "execution_count": 52,
     "metadata": {
      "tags": []
     },
     "output_type": "execute_result"
    }
   ],
   "source": [
    "xgb10.score(x_test,y_test)"
   ]
  },
  {
   "cell_type": "code",
   "execution_count": 46,
   "metadata": {
    "id": "dZL8rEf1ubsc",
    "colab_type": "code",
    "colab": {
     "base_uri": "https://localhost:8080/",
     "height": 119.0
    },
    "outputId": "4c641348-bffb-4785-c3f0-6cccdd338c33",
    "executionInfo": {
     "status": "ok",
     "timestamp": 1.540278678985E12,
     "user_tz": -330.0,
     "elapsed": 567643.0,
     "user": {
      "displayName": "Kavitha V",
      "photoUrl": "",
      "userId": "00448912820684317706"
     }
    }
   },
   "outputs": [
    {
     "data": {
      "text/plain": [
       "XGBRegressor(base_score=0.5, booster='gbtree', colsample_bylevel=1,\n",
       "       colsample_bytree=1, eta=0.01, gamma=0, learning_rate=0.05,\n",
       "       max_delta_step=0, max_depth=5, min_child_weight=100, missing=None,\n",
       "       n_estimators=2000, n_jobs=1, nthread=None, objective='reg:linear',\n",
       "       random_state=0, reg_alpha=0.5, reg_lambda=0.5, scale_pos_weight=1,\n",
       "       seed=None, silent=True, subsample=1)"
      ]
     },
     "execution_count": 46,
     "metadata": {
      "tags": []
     },
     "output_type": "execute_result"
    }
   ],
   "source": [
    "xgb9.fit(x_train,y_train)"
   ]
  },
  {
   "cell_type": "code",
   "execution_count": 47,
   "metadata": {
    "id": "HTNNgy6QxSA3",
    "colab_type": "code",
    "colab": {
     "base_uri": "https://localhost:8080/",
     "height": 34.0
    },
    "outputId": "8b19cbc6-fce8-460a-97fa-8716b02509eb",
    "executionInfo": {
     "status": "ok",
     "timestamp": 1.540278805532E12,
     "user_tz": -330.0,
     "elapsed": 1169.0,
     "user": {
      "displayName": "Kavitha V",
      "photoUrl": "",
      "userId": "00448912820684317706"
     }
    }
   },
   "outputs": [
    {
     "data": {
      "text/plain": [
       "0.5634308832627686"
      ]
     },
     "execution_count": 47,
     "metadata": {
      "tags": []
     },
     "output_type": "execute_result"
    }
   ],
   "source": [
    "xgb9.score(x_test,y_test)"
   ]
  },
  {
   "cell_type": "code",
   "execution_count": 48,
   "metadata": {
    "id": "izJszkc1xcHt",
    "colab_type": "code",
    "colab": {
     "base_uri": "https://localhost:8080/",
     "height": 34.0
    },
    "outputId": "9bb8c23b-d66e-48f0-9581-cfde16c0d5a9",
    "executionInfo": {
     "status": "ok",
     "timestamp": 1.540278845335E12,
     "user_tz": -330.0,
     "elapsed": 1866.0,
     "user": {
      "displayName": "Kavitha V",
      "photoUrl": "",
      "userId": "00448912820684317706"
     }
    }
   },
   "outputs": [
    {
     "data": {
      "text/plain": [
       "0.7465179453625361"
      ]
     },
     "execution_count": 48,
     "metadata": {
      "tags": []
     },
     "output_type": "execute_result"
    }
   ],
   "source": [
    "xgb9.score(x_train,y_train)"
   ]
  },
  {
   "cell_type": "code",
   "execution_count": 41,
   "metadata": {
    "id": "D_Ft8uOKo7Nh",
    "colab_type": "code",
    "colab": {
     "base_uri": "https://localhost:8080/",
     "height": 119.0
    },
    "outputId": "bb28513e-42f8-43e9-9cff-e8db75fbc27b",
    "executionInfo": {
     "status": "ok",
     "timestamp": 1.540276928872E12,
     "user_tz": -330.0,
     "elapsed": 320839.0,
     "user": {
      "displayName": "Kavitha V",
      "photoUrl": "",
      "userId": "00448912820684317706"
     }
    }
   },
   "outputs": [
    {
     "data": {
      "text/plain": [
       "XGBRegressor(base_score=0.5, booster='gbtree', colsample_bylevel=1,\n",
       "       colsample_bytree=1, eta=0.01, gamma=0, learning_rate=0.05,\n",
       "       max_delta_step=0, max_depth=5, min_child_weight=50, missing=None,\n",
       "       n_estimators=1000, n_jobs=1, nthread=None, objective='reg:linear',\n",
       "       random_state=0, reg_alpha=0.5, reg_lambda=0.5, scale_pos_weight=1,\n",
       "       seed=None, silent=True, subsample=1)"
      ]
     },
     "execution_count": 41,
     "metadata": {
      "tags": []
     },
     "output_type": "execute_result"
    }
   ],
   "source": [
    "xgb8.fit(x_train,y_train)"
   ]
  },
  {
   "cell_type": "code",
   "execution_count": 42,
   "metadata": {
    "id": "pCw9bRFytuOf",
    "colab_type": "code",
    "colab": {
     "base_uri": "https://localhost:8080/",
     "height": 34.0
    },
    "outputId": "61ece6f2-7e2f-43b8-8180-9fad42b1dec7",
    "executionInfo": {
     "status": "ok",
     "timestamp": 1.540277869671E12,
     "user_tz": -330.0,
     "elapsed": 1101.0,
     "user": {
      "displayName": "Kavitha V",
      "photoUrl": "",
      "userId": "00448912820684317706"
     }
    }
   },
   "outputs": [
    {
     "data": {
      "text/plain": [
       "0.5639272222511056"
      ]
     },
     "execution_count": 42,
     "metadata": {
      "tags": []
     },
     "output_type": "execute_result"
    }
   ],
   "source": [
    "xgb8.score(x_test,y_test)"
   ]
  },
  {
   "cell_type": "code",
   "execution_count": 43,
   "metadata": {
    "id": "TRB5fPr_t1c3",
    "colab_type": "code",
    "colab": {
     "base_uri": "https://localhost:8080/",
     "height": 34.0
    },
    "outputId": "d56a6cb7-a7a9-466e-f2d0-4d8856ea0000",
    "executionInfo": {
     "status": "ok",
     "timestamp": 1.540277899822E12,
     "user_tz": -330.0,
     "elapsed": 1956.0,
     "user": {
      "displayName": "Kavitha V",
      "photoUrl": "",
      "userId": "00448912820684317706"
     }
    }
   },
   "outputs": [
    {
     "data": {
      "text/plain": [
       "0.7504925704902284"
      ]
     },
     "execution_count": 43,
     "metadata": {
      "tags": []
     },
     "output_type": "execute_result"
    }
   ],
   "source": [
    "xgb8.score(x_train,y_train)"
   ]
  },
  {
   "cell_type": "code",
   "execution_count": 37,
   "metadata": {
    "id": "0qjcMamUgFO5",
    "colab_type": "code",
    "colab": {
     "base_uri": "https://localhost:8080/",
     "height": 119.0
    },
    "outputId": "213e3f21-1be9-4501-9070-65452909d8b9",
    "executionInfo": {
     "status": "ok",
     "timestamp": 1.540274832172E12,
     "user_tz": -330.0,
     "elapsed": 371660.0,
     "user": {
      "displayName": "Kavitha V",
      "photoUrl": "",
      "userId": "00448912820684317706"
     }
    }
   },
   "outputs": [
    {
     "data": {
      "text/plain": [
       "XGBRegressor(base_score=0.5, booster='gbtree', colsample_bylevel=1,\n",
       "       colsample_bytree=1, eta=0.01, gamma=0, learning_rate=0.05,\n",
       "       max_delta_step=0, max_depth=5, min_child_weight=10, missing=None,\n",
       "       n_estimators=1000, n_jobs=1, nthread=None, objective='reg:linear',\n",
       "       random_state=0, reg_alpha=0.5, reg_lambda=0.5, scale_pos_weight=1,\n",
       "       seed=None, silent=True, subsample=1)"
      ]
     },
     "execution_count": 37,
     "metadata": {
      "tags": []
     },
     "output_type": "execute_result"
    }
   ],
   "source": [
    "xgb7.fit(x_train,y_train)"
   ]
  },
  {
   "cell_type": "code",
   "execution_count": 38,
   "metadata": {
    "id": "ONf3_EYLokAZ",
    "colab_type": "code",
    "colab": {
     "base_uri": "https://localhost:8080/",
     "height": 34.0
    },
    "outputId": "626229e3-b1a6-47b0-8002-9097c2b3ec38",
    "executionInfo": {
     "status": "ok",
     "timestamp": 1.540276518276E12,
     "user_tz": -330.0,
     "elapsed": 1134.0,
     "user": {
      "displayName": "Kavitha V",
      "photoUrl": "",
      "userId": "00448912820684317706"
     }
    }
   },
   "outputs": [
    {
     "data": {
      "text/plain": [
       "0.547856410062876"
      ]
     },
     "execution_count": 38,
     "metadata": {
      "tags": []
     },
     "output_type": "execute_result"
    }
   ],
   "source": [
    "xgb7.score(x_test,y_test)"
   ]
  },
  {
   "cell_type": "code",
   "execution_count": 32,
   "metadata": {
    "id": "NZr1xQ-Id6ge",
    "colab_type": "code",
    "colab": {
     "base_uri": "https://localhost:8080/",
     "height": 119.0
    },
    "outputId": "6d567ee9-8561-4904-a7df-9bfde0cde013",
    "executionInfo": {
     "status": "ok",
     "timestamp": 1.540274063932E12,
     "user_tz": -330.0,
     "elapsed": 342545.0,
     "user": {
      "displayName": "Kavitha V",
      "photoUrl": "",
      "userId": "00448912820684317706"
     }
    }
   },
   "outputs": [
    {
     "data": {
      "text/plain": [
       "XGBRegressor(base_score=0.5, booster='gbtree', colsample_bylevel=1,\n",
       "       colsample_bytree=1, eta=0.01, gamma=0, learning_rate=0.05,\n",
       "       max_delta_step=0, max_depth=5, min_child_weight=10, missing=None,\n",
       "       n_estimators=1000, n_jobs=1, nthread=None, objective='reg:linear',\n",
       "       random_state=0, reg_alpha=1, reg_lambda=0.5, scale_pos_weight=1,\n",
       "       seed=None, silent=True, subsample=1)"
      ]
     },
     "execution_count": 32,
     "metadata": {
      "tags": []
     },
     "output_type": "execute_result"
    }
   ],
   "source": [
    "xgb6.fit(x_train,y_train)"
   ]
  },
  {
   "cell_type": "code",
   "execution_count": 33,
   "metadata": {
    "id": "-xtdzMNLfb5A",
    "colab_type": "code",
    "colab": {
     "base_uri": "https://localhost:8080/",
     "height": 34.0
    },
    "outputId": "b53ce9d9-33b4-400c-9407-e5431261d4dd",
    "executionInfo": {
     "status": "ok",
     "timestamp": 1.540274120436E12,
     "user_tz": -330.0,
     "elapsed": 1117.0,
     "user": {
      "displayName": "Kavitha V",
      "photoUrl": "",
      "userId": "00448912820684317706"
     }
    }
   },
   "outputs": [
    {
     "data": {
      "text/plain": [
       "0.5428259729425419"
      ]
     },
     "execution_count": 33,
     "metadata": {
      "tags": []
     },
     "output_type": "execute_result"
    }
   ],
   "source": [
    "xgb6.score(x_test,y_test)"
   ]
  },
  {
   "cell_type": "code",
   "execution_count": 34,
   "metadata": {
    "id": "JmnPSMJJfff8",
    "colab_type": "code",
    "colab": {
     "base_uri": "https://localhost:8080/",
     "height": 34.0
    },
    "outputId": "777c3142-a1e4-40bf-8fbf-d47460418861",
    "executionInfo": {
     "status": "ok",
     "timestamp": 1.54027414495E12,
     "user_tz": -330.0,
     "elapsed": 1704.0,
     "user": {
      "displayName": "Kavitha V",
      "photoUrl": "",
      "userId": "00448912820684317706"
     }
    }
   },
   "outputs": [
    {
     "data": {
      "text/plain": [
       "0.8274723745615382"
      ]
     },
     "execution_count": 34,
     "metadata": {
      "tags": []
     },
     "output_type": "execute_result"
    }
   ],
   "source": [
    "xgb6.score(x_train,y_train)"
   ]
  },
  {
   "cell_type": "code",
   "execution_count": 28,
   "metadata": {
    "id": "focHue2ZcIjA",
    "colab_type": "code",
    "colab": {
     "base_uri": "https://localhost:8080/",
     "height": 119.0
    },
    "outputId": "cc2d6e87-aaee-4f77-bb6a-a69357e9af53",
    "executionInfo": {
     "status": "ok",
     "timestamp": 1.54027358194E12,
     "user_tz": -330.0,
     "elapsed": 328266.0,
     "user": {
      "displayName": "Kavitha V",
      "photoUrl": "",
      "userId": "00448912820684317706"
     }
    }
   },
   "outputs": [
    {
     "data": {
      "text/plain": [
       "XGBRegressor(base_score=0.5, booster='gbtree', colsample_bylevel=1,\n",
       "       colsample_bytree=1, eta=0.01, gamma=0, learning_rate=0.05,\n",
       "       max_delta_step=0, max_depth=5, min_child_weight=10, missing=None,\n",
       "       n_estimators=1000, n_jobs=1, nthread=None, objective='reg:linear',\n",
       "       random_state=0, reg_alpha=0, reg_lambda=0.5, scale_pos_weight=1,\n",
       "       seed=None, silent=True, subsample=1)"
      ]
     },
     "execution_count": 28,
     "metadata": {
      "tags": []
     },
     "output_type": "execute_result"
    }
   ],
   "source": [
    "xgb5.fit(x_train,y_train)"
   ]
  },
  {
   "cell_type": "code",
   "execution_count": 29,
   "metadata": {
    "id": "6oCFbEd_dfe7",
    "colab_type": "code",
    "colab": {
     "base_uri": "https://localhost:8080/",
     "height": 34.0
    },
    "outputId": "e34d6a8f-d2d4-4426-ec19-d8721e619b5f",
    "executionInfo": {
     "status": "ok",
     "timestamp": 1.540273631385E12,
     "user_tz": -330.0,
     "elapsed": 2013.0,
     "user": {
      "displayName": "Kavitha V",
      "photoUrl": "",
      "userId": "00448912820684317706"
     }
    }
   },
   "outputs": [
    {
     "data": {
      "text/plain": [
       "0.8281099887413192"
      ]
     },
     "execution_count": 29,
     "metadata": {
      "tags": []
     },
     "output_type": "execute_result"
    }
   ],
   "source": [
    "xgb5.score(x_train,y_train)"
   ]
  },
  {
   "cell_type": "code",
   "execution_count": 30,
   "metadata": {
    "id": "VRSa5VQmdnrz",
    "colab_type": "code",
    "colab": {
     "base_uri": "https://localhost:8080/",
     "height": 34.0
    },
    "outputId": "2dbe98dc-7e73-4233-d412-58896a6ae82d",
    "executionInfo": {
     "status": "ok",
     "timestamp": 1.540273649279E12,
     "user_tz": -330.0,
     "elapsed": 1013.0,
     "user": {
      "displayName": "Kavitha V",
      "photoUrl": "",
      "userId": "00448912820684317706"
     }
    }
   },
   "outputs": [
    {
     "data": {
      "text/plain": [
       "0.546010528422098"
      ]
     },
     "execution_count": 30,
     "metadata": {
      "tags": []
     },
     "output_type": "execute_result"
    }
   ],
   "source": [
    "xgb5.score(x_test,y_test)"
   ]
  },
  {
   "cell_type": "code",
   "execution_count": 24,
   "metadata": {
    "id": "L3fBEgiuVsmd",
    "colab_type": "code",
    "colab": {
     "base_uri": "https://localhost:8080/",
     "height": 119.0
    },
    "outputId": "3b7661da-87c7-407a-9467-619bd047ebce",
    "executionInfo": {
     "status": "ok",
     "timestamp": 1.54027194759E12,
     "user_tz": -330.0,
     "elapsed": 374427.0,
     "user": {
      "displayName": "Kavitha V",
      "photoUrl": "",
      "userId": "00448912820684317706"
     }
    }
   },
   "outputs": [
    {
     "data": {
      "text/plain": [
       "XGBRegressor(base_score=0.5, booster='gbtree', colsample_bylevel=1,\n",
       "       colsample_bytree=1, eta=0.01, gamma=0, learning_rate=0.05,\n",
       "       max_delta_step=0, max_depth=6, min_child_weight=10, missing=None,\n",
       "       n_estimators=1000, n_jobs=1, nthread=None, objective='reg:linear',\n",
       "       random_state=0, reg_alpha=0, reg_lambda=1, scale_pos_weight=1,\n",
       "       seed=None, silent=True, subsample=1)"
      ]
     },
     "execution_count": 24,
     "metadata": {
      "tags": []
     },
     "output_type": "execute_result"
    }
   ],
   "source": [
    "xgb4.fit(x_train,y_train)"
   ]
  },
  {
   "cell_type": "code",
   "execution_count": 25,
   "metadata": {
    "id": "9by4ybkwYEq2",
    "colab_type": "code",
    "colab": {
     "base_uri": "https://localhost:8080/",
     "height": 34.0
    },
    "outputId": "047df40d-b3a6-4608-9bea-133cbac12a04",
    "executionInfo": {
     "status": "ok",
     "timestamp": 1.540272200763E12,
     "user_tz": -330.0,
     "elapsed": 1967.0,
     "user": {
      "displayName": "Kavitha V",
      "photoUrl": "",
      "userId": "00448912820684317706"
     }
    }
   },
   "outputs": [
    {
     "data": {
      "text/plain": [
       "0.8759282109517464"
      ]
     },
     "execution_count": 25,
     "metadata": {
      "tags": []
     },
     "output_type": "execute_result"
    }
   ],
   "source": [
    "xgb4.score(x_train,y_train)"
   ]
  },
  {
   "cell_type": "code",
   "execution_count": 26,
   "metadata": {
    "id": "-NYEa0OiYLFq",
    "colab_type": "code",
    "colab": {
     "base_uri": "https://localhost:8080/",
     "height": 34.0
    },
    "outputId": "c1f0b877-34ec-45b3-e3a4-23bd17879b16",
    "executionInfo": {
     "status": "ok",
     "timestamp": 1.540272227546E12,
     "user_tz": -330.0,
     "elapsed": 1357.0,
     "user": {
      "displayName": "Kavitha V",
      "photoUrl": "",
      "userId": "00448912820684317706"
     }
    }
   },
   "outputs": [
    {
     "data": {
      "text/plain": [
       "0.5371664110451349"
      ]
     },
     "execution_count": 26,
     "metadata": {
      "tags": []
     },
     "output_type": "execute_result"
    }
   ],
   "source": [
    "xgb4.score(x_test,y_test)"
   ]
  },
  {
   "cell_type": "code",
   "execution_count": 20,
   "metadata": {
    "id": "78J8bWkPwD5G",
    "colab_type": "code",
    "colab": {
     "base_uri": "https://localhost:8080/",
     "height": 119.0
    },
    "outputId": "ec216024-d73b-478b-d813-12189d393480",
    "executionInfo": {
     "status": "ok",
     "timestamp": 1.540270687769E12,
     "user_tz": -330.0,
     "elapsed": 188081.0,
     "user": {
      "displayName": "Kavitha V",
      "photoUrl": "",
      "userId": "00448912820684317706"
     }
    }
   },
   "outputs": [
    {
     "data": {
      "text/plain": [
       "XGBRegressor(base_score=0.5, booster='gbtree', colsample_bylevel=1,\n",
       "       colsample_bytree=1, eta=0.01, gamma=0, learning_rate=0.01,\n",
       "       max_delta_step=0, max_depth=3, min_child_weight=10, missing=None,\n",
       "       n_estimators=1000, n_jobs=1, nthread=None, objective='reg:linear',\n",
       "       random_state=0, reg_alpha=0, reg_lambda=1, scale_pos_weight=1,\n",
       "       seed=None, silent=True, subsample=1)"
      ]
     },
     "execution_count": 20,
     "metadata": {
      "tags": []
     },
     "output_type": "execute_result"
    }
   ],
   "source": [
    "xgb3.fit(x_train,y_train)"
   ]
  },
  {
   "cell_type": "code",
   "execution_count": 17,
   "metadata": {
    "id": "sxVbj_SEQ1qj",
    "colab_type": "code",
    "colab": {
     "base_uri": "https://localhost:8080/",
     "height": 34.0
    },
    "outputId": "abbe3f2a-6214-41f5-8d86-09b8d40dd7c1",
    "executionInfo": {
     "status": "ok",
     "timestamp": 1.540270300897E12,
     "user_tz": -330.0,
     "elapsed": 1821.0,
     "user": {
      "displayName": "Kavitha V",
      "photoUrl": "",
      "userId": "00448912820684317706"
     }
    }
   },
   "outputs": [
    {
     "data": {
      "text/plain": [
       "0.6383150632975574"
      ]
     },
     "execution_count": 17,
     "metadata": {
      "tags": []
     },
     "output_type": "execute_result"
    }
   ],
   "source": [
    "xgb3.score(x_train,y_train)"
   ]
  },
  {
   "cell_type": "code",
   "execution_count": 21,
   "metadata": {
    "id": "YX-0p8BESmeA",
    "colab_type": "code",
    "colab": {
     "base_uri": "https://localhost:8080/",
     "height": 34.0
    },
    "outputId": "aa2251a6-8484-405b-8fd2-0209102ceb24",
    "executionInfo": {
     "status": "ok",
     "timestamp": 1.540270752883E12,
     "user_tz": -330.0,
     "elapsed": 1318.0,
     "user": {
      "displayName": "Kavitha V",
      "photoUrl": "",
      "userId": "00448912820684317706"
     }
    }
   },
   "outputs": [
    {
     "data": {
      "text/plain": [
       "0.6383150632975574"
      ]
     },
     "execution_count": 21,
     "metadata": {
      "tags": []
     },
     "output_type": "execute_result"
    }
   ],
   "source": [
    "xgb3.score(x_train,y_train)"
   ]
  },
  {
   "cell_type": "code",
   "execution_count": 18,
   "metadata": {
    "id": "9Gy7XP8TQ64T",
    "colab_type": "code",
    "colab": {
     "base_uri": "https://localhost:8080/",
     "height": 34.0
    },
    "outputId": "dd68eba9-cea8-436e-eb70-5ad063610514",
    "executionInfo": {
     "status": "ok",
     "timestamp": 1.540270318093E12,
     "user_tz": -330.0,
     "elapsed": 901.0,
     "user": {
      "displayName": "Kavitha V",
      "photoUrl": "",
      "userId": "00448912820684317706"
     }
    }
   },
   "outputs": [
    {
     "data": {
      "text/plain": [
       "0.5985808991857875"
      ]
     },
     "execution_count": 18,
     "metadata": {
      "tags": []
     },
     "output_type": "execute_result"
    }
   ],
   "source": [
    "xgb3.score(x_test,y_test)"
   ]
  },
  {
   "cell_type": "code",
   "execution_count": 22,
   "metadata": {
    "id": "5vSv_cEQSr2U",
    "colab_type": "code",
    "colab": {
     "base_uri": "https://localhost:8080/",
     "height": 34.0
    },
    "outputId": "c8a1d03c-0847-4cf1-fdbb-22acee92cfbf",
    "executionInfo": {
     "status": "ok",
     "timestamp": 1.540270771817E12,
     "user_tz": -330.0,
     "elapsed": 988.0,
     "user": {
      "displayName": "Kavitha V",
      "photoUrl": "",
      "userId": "00448912820684317706"
     }
    }
   },
   "outputs": [
    {
     "data": {
      "text/plain": [
       "0.5985808991857875"
      ]
     },
     "execution_count": 22,
     "metadata": {
      "tags": []
     },
     "output_type": "execute_result"
    }
   ],
   "source": [
    "xgb3.score(x_test,y_test)"
   ]
  },
  {
   "cell_type": "code",
   "execution_count": 0,
   "metadata": {
    "id": "sB5F33PWRGpB",
    "colab_type": "code",
    "colab": {}
   },
   "outputs": [],
   "source": [
    ""
   ]
  },
  {
   "cell_type": "code",
   "execution_count": 11,
   "metadata": {
    "id": "T39vEK3oE72t",
    "colab_type": "code",
    "colab": {
     "base_uri": "https://localhost:8080/",
     "height": 34.0
    },
    "outputId": "6a3cede6-b438-42d8-b8d1-ce501c041a79",
    "executionInfo": {
     "status": "ok",
     "timestamp": 1.54026780217E12,
     "user_tz": -330.0,
     "elapsed": 1803.0,
     "user": {
      "displayName": "Kavitha V",
      "photoUrl": "",
      "userId": "00448912820684317706"
     }
    }
   },
   "outputs": [
    {
     "data": {
      "text/plain": [
       "0.7718873133831057"
      ]
     },
     "execution_count": 11,
     "metadata": {
      "tags": []
     },
     "output_type": "execute_result"
    }
   ],
   "source": [
    "xgb2.score(x_train,y_train)"
   ]
  },
  {
   "cell_type": "code",
   "execution_count": 13,
   "metadata": {
    "id": "b1StoOLjHYtu",
    "colab_type": "code",
    "colab": {
     "base_uri": "https://localhost:8080/",
     "height": 34.0
    },
    "outputId": "9f4199ef-d6b0-4689-84b3-ca07ac797bc8",
    "executionInfo": {
     "status": "ok",
     "timestamp": 1.540267832914E12,
     "user_tz": -330.0,
     "elapsed": 1011.0,
     "user": {
      "displayName": "Kavitha V",
      "photoUrl": "",
      "userId": "00448912820684317706"
     }
    }
   },
   "outputs": [
    {
     "data": {
      "text/plain": [
       "0.5505796146733812"
      ]
     },
     "execution_count": 13,
     "metadata": {
      "tags": []
     },
     "output_type": "execute_result"
    }
   ],
   "source": [
    "xgb2.score(x_test,y_test)"
   ]
  },
  {
   "cell_type": "code",
   "execution_count": 0,
   "metadata": {
    "id": "7AF6_WgsCmCn",
    "colab_type": "code",
    "colab": {}
   },
   "outputs": [],
   "source": [
    "from sklearn.ensemble import GradientBoostingRegressor"
   ]
  },
  {
   "cell_type": "code",
   "execution_count": 0,
   "metadata": {
    "id": "8piRLlTnCuyo",
    "colab_type": "code",
    "colab": {}
   },
   "outputs": [],
   "source": [
    "clf_GBM = GradientBoostingRegressor(n_estimators=100, learning_rate=1.0, max_depth=1)"
   ]
  },
  {
   "cell_type": "code",
   "execution_count": 136,
   "metadata": {
    "id": "ZTev_cvcDCxc",
    "colab_type": "code",
    "colab": {
     "base_uri": "https://localhost:8080/",
     "height": 136.0
    },
    "outputId": "f6e33e6a-79f0-42e5-80f9-b5871e8b7c72",
    "executionInfo": {
     "status": "ok",
     "timestamp": 1.540138427392E12,
     "user_tz": -330.0,
     "elapsed": 4858.0,
     "user": {
      "displayName": "Kavitha V",
      "photoUrl": "",
      "userId": "00448912820684317706"
     }
    }
   },
   "outputs": [
    {
     "data": {
      "text/plain": [
       "GradientBoostingRegressor(alpha=0.9, criterion='friedman_mse', init=None,\n",
       "             learning_rate=1.0, loss='ls', max_depth=1, max_features=None,\n",
       "             max_leaf_nodes=None, min_impurity_decrease=0.0,\n",
       "             min_impurity_split=None, min_samples_leaf=1,\n",
       "             min_samples_split=2, min_weight_fraction_leaf=0.0,\n",
       "             n_estimators=100, presort='auto', random_state=None,\n",
       "             subsample=1.0, verbose=0, warm_start=False)"
      ]
     },
     "execution_count": 136,
     "metadata": {
      "tags": []
     },
     "output_type": "execute_result"
    }
   ],
   "source": [
    "clf_GBM.fit(x_train, y_train)"
   ]
  },
  {
   "cell_type": "code",
   "execution_count": 0,
   "metadata": {
    "id": "tMW4OWfdDm8E",
    "colab_type": "code",
    "colab": {}
   },
   "outputs": [],
   "source": [
    "from sklearn.metrics import mean_squared_error"
   ]
  },
  {
   "cell_type": "code",
   "execution_count": 0,
   "metadata": {
    "id": "nnwBQej5DtbB",
    "colab_type": "code",
    "colab": {}
   },
   "outputs": [],
   "source": [
    "y_pred_GBM=clf_GBM.predict(x_test)#(n_estimators=100, learning_rate=1.0, max_depth=1)"
   ]
  },
  {
   "cell_type": "code",
   "execution_count": 0,
   "metadata": {
    "id": "2UrSTXMuFpjO",
    "colab_type": "code",
    "colab": {}
   },
   "outputs": [],
   "source": [
    "y_pred_treain_GBM=clf_GBM.predict(x_train)#(n_estimators=100, learning_rate=1.0, max_depth=1)"
   ]
  },
  {
   "cell_type": "code",
   "execution_count": 0,
   "metadata": {
    "id": "yK83Kn-9F2Bw",
    "colab_type": "code",
    "colab": {}
   },
   "outputs": [],
   "source": [
    "MSE_GBM_train=mean_squared_error#(y_train,y_pred_treain_GBM)(n_estimators=100, learning_rate=1.0, max_depth=1)"
   ]
  },
  {
   "cell_type": "code",
   "execution_count": 141,
   "metadata": {
    "id": "O726hkMtGI-G",
    "colab_type": "code",
    "colab": {
     "base_uri": "https://localhost:8080/",
     "height": 34.0
    },
    "outputId": "a007cd2a-4605-4866-ab08-983182d99ae3",
    "executionInfo": {
     "status": "ok",
     "timestamp": 1.540138441887E12,
     "user_tz": -330.0,
     "elapsed": 1188.0,
     "user": {
      "displayName": "Kavitha V",
      "photoUrl": "",
      "userId": "00448912820684317706"
     }
    }
   },
   "outputs": [
    {
     "data": {
      "text/plain": [
       "<function sklearn.metrics.regression.mean_squared_error>"
      ]
     },
     "execution_count": 141,
     "metadata": {
      "tags": []
     },
     "output_type": "execute_result"
    }
   ],
   "source": [
    "MSE_GBM_train#(n_estimators=100, learning_rate=1.0, max_depth=1)"
   ]
  },
  {
   "cell_type": "code",
   "execution_count": 0,
   "metadata": {
    "id": "MzttOL6pFK8a",
    "colab_type": "code",
    "colab": {}
   },
   "outputs": [],
   "source": [
    "mse_GBM_x_test=mean_squared_error(y_test,y_pred_GBM)#(n_estimators=100, learning_rate=1.0, max_depth=1)\n"
   ]
  },
  {
   "cell_type": "code",
   "execution_count": 143,
   "metadata": {
    "id": "KAD1uBfKFaEK",
    "colab_type": "code",
    "colab": {
     "base_uri": "https://localhost:8080/",
     "height": 34.0
    },
    "outputId": "a712572d-80c1-4489-cff0-09bd98b154c5",
    "executionInfo": {
     "status": "ok",
     "timestamp": 1.540138451806E12,
     "user_tz": -330.0,
     "elapsed": 1349.0,
     "user": {
      "displayName": "Kavitha V",
      "photoUrl": "",
      "userId": "00448912820684317706"
     }
    }
   },
   "outputs": [
    {
     "data": {
      "text/plain": [
       "1451422.057588705"
      ]
     },
     "execution_count": 143,
     "metadata": {
      "tags": []
     },
     "output_type": "execute_result"
    }
   ],
   "source": [
    "mse_GBM_x_test#(n_estimators=100, learning_rate=1.0, max_depth=1)"
   ]
  },
  {
   "cell_type": "code",
   "execution_count": 0,
   "metadata": {
    "id": "S6TRirqTGjdU",
    "colab_type": "code",
    "colab": {}
   },
   "outputs": [],
   "source": [
    "# New GBM model"
   ]
  },
  {
   "cell_type": "code",
   "execution_count": 0,
   "metadata": {
    "id": "IEr07jrtGjka",
    "colab_type": "code",
    "colab": {}
   },
   "outputs": [],
   "source": [
    "clf_GBM2 = GradientBoostingRegressor(n_estimators=1000, learning_rate=1.0, max_depth=5,min_samples_split=150,min_samples_leaf=50)"
   ]
  },
  {
   "cell_type": "code",
   "execution_count": 0,
   "metadata": {
    "id": "-cRb9lrHGjuV",
    "colab_type": "code",
    "colab": {}
   },
   "outputs": [],
   "source": [
    "clf_GBM2.fit(x_train,y_train)"
   ]
  },
  {
   "cell_type": "code",
   "execution_count": 0,
   "metadata": {
    "id": "hhMpL0t5JYEm",
    "colab_type": "code",
    "colab": {}
   },
   "outputs": [],
   "source": [
    "y_test_pred_GBM2=clf_GBM2.predict(x_test)"
   ]
  },
  {
   "cell_type": "code",
   "execution_count": 0,
   "metadata": {
    "id": "ORMCaR80Gjz-",
    "colab_type": "code",
    "colab": {}
   },
   "outputs": [],
   "source": [
    "mse_test_GBM2=mean_squared_error(y_test,y_test_pred_GBM2)"
   ]
  },
  {
   "cell_type": "code",
   "execution_count": 83,
   "metadata": {
    "id": "sfn-4_rAGjq1",
    "colab_type": "code",
    "colab": {
     "base_uri": "https://localhost:8080/",
     "height": 34.0
    },
    "outputId": "3d1f5a69-ab34-4fc4-eb69-5d59aa046a75",
    "executionInfo": {
     "status": "ok",
     "timestamp": 1.540126934089E12,
     "user_tz": -330.0,
     "elapsed": 1613.0,
     "user": {
      "displayName": "Kavitha V",
      "photoUrl": "",
      "userId": "00448912820684317706"
     }
    }
   },
   "outputs": [
    {
     "data": {
      "text/plain": [
       "1977901.0357496054"
      ]
     },
     "execution_count": 83,
     "metadata": {
      "tags": []
     },
     "output_type": "execute_result"
    }
   ],
   "source": [
    "mse_test_GBM2"
   ]
  },
  {
   "cell_type": "code",
   "execution_count": 0,
   "metadata": {
    "id": "cBHp5JjuGjov",
    "colab_type": "code",
    "colab": {}
   },
   "outputs": [],
   "source": [
    "y_train_pred_GBM2=clf_GBM2.predict(x_train)"
   ]
  },
  {
   "cell_type": "code",
   "execution_count": 0,
   "metadata": {
    "id": "YErTii5tKW1y",
    "colab_type": "code",
    "colab": {}
   },
   "outputs": [],
   "source": [
    ""
   ]
  },
  {
   "cell_type": "code",
   "execution_count": 0,
   "metadata": {
    "id": "UvsDro9oGjhs",
    "colab_type": "code",
    "colab": {}
   },
   "outputs": [],
   "source": [
    "mse_train_GBM2=mean_squared_error(y_train,y_train_pred_GBM2)"
   ]
  },
  {
   "cell_type": "code",
   "execution_count": 86,
   "metadata": {
    "id": "GHSCG9m0Khgl",
    "colab_type": "code",
    "colab": {
     "base_uri": "https://localhost:8080/",
     "height": 34.0
    },
    "outputId": "65b1239a-9322-4b78-e85d-6c39d3d5dc39",
    "executionInfo": {
     "status": "ok",
     "timestamp": 1.540126945745E12,
     "user_tz": -330.0,
     "elapsed": 1170.0,
     "user": {
      "displayName": "Kavitha V",
      "photoUrl": "",
      "userId": "00448912820684317706"
     }
    }
   },
   "outputs": [
    {
     "data": {
      "text/plain": [
       "20234.509139760314"
      ]
     },
     "execution_count": 86,
     "metadata": {
      "tags": []
     },
     "output_type": "execute_result"
    }
   ],
   "source": [
    "mse_train_GBM2"
   ]
  },
  {
   "cell_type": "code",
   "execution_count": 0,
   "metadata": {
    "id": "oGKj9138K2Gw",
    "colab_type": "code",
    "colab": {}
   },
   "outputs": [],
   "source": [
    ""
   ]
  },
  {
   "cell_type": "code",
   "execution_count": 0,
   "metadata": {
    "id": "COHiKazWK2Ly",
    "colab_type": "code",
    "colab": {}
   },
   "outputs": [],
   "source": [
    "clf_GBM3 = GradientBoostingRegressor(n_estimators=250, max_depth=3,min_samples_split=150,min_samples_leaf=50)"
   ]
  },
  {
   "cell_type": "code",
   "execution_count": 88,
   "metadata": {
    "id": "HlR6mveILFrp",
    "colab_type": "code",
    "colab": {
     "base_uri": "https://localhost:8080/",
     "height": 136.0
    },
    "outputId": "fbf6a3a7-a31c-415b-9165-2d5d8e7b9a63",
    "executionInfo": {
     "status": "ok",
     "timestamp": 1.540126998735E12,
     "user_tz": -330.0,
     "elapsed": 41847.0,
     "user": {
      "displayName": "Kavitha V",
      "photoUrl": "",
      "userId": "00448912820684317706"
     }
    }
   },
   "outputs": [
    {
     "data": {
      "text/plain": [
       "GradientBoostingRegressor(alpha=0.9, criterion='friedman_mse', init=None,\n",
       "             learning_rate=0.1, loss='ls', max_depth=3, max_features=None,\n",
       "             max_leaf_nodes=None, min_impurity_decrease=0.0,\n",
       "             min_impurity_split=None, min_samples_leaf=50,\n",
       "             min_samples_split=150, min_weight_fraction_leaf=0.0,\n",
       "             n_estimators=250, presort='auto', random_state=None,\n",
       "             subsample=1.0, verbose=0, warm_start=False)"
      ]
     },
     "execution_count": 88,
     "metadata": {
      "tags": []
     },
     "output_type": "execute_result"
    }
   ],
   "source": [
    "clf_GBM3.fit(x_train,y_train)"
   ]
  },
  {
   "cell_type": "code",
   "execution_count": 0,
   "metadata": {
    "id": "puLAStCnLLZH",
    "colab_type": "code",
    "colab": {}
   },
   "outputs": [],
   "source": [
    "pred_train_clf_GBM3=clf_GBM3.predict(x_train)"
   ]
  },
  {
   "cell_type": "code",
   "execution_count": 0,
   "metadata": {
    "id": "jz7BZE7WLv6C",
    "colab_type": "code",
    "colab": {}
   },
   "outputs": [],
   "source": [
    "mse_train_clf_GBM3=mean_squared_error(y_train,pred_train_clf_GBM3)"
   ]
  },
  {
   "cell_type": "code",
   "execution_count": 91,
   "metadata": {
    "id": "4yzYPYEML_i-",
    "colab_type": "code",
    "colab": {
     "base_uri": "https://localhost:8080/",
     "height": 34.0
    },
    "outputId": "ff7f10b2-1a59-4fde-e48c-0cbfa6802092",
    "executionInfo": {
     "status": "ok",
     "timestamp": 1.540127983103E12,
     "user_tz": -330.0,
     "elapsed": 1113.0,
     "user": {
      "displayName": "Kavitha V",
      "photoUrl": "",
      "userId": "00448912820684317706"
     }
    }
   },
   "outputs": [
    {
     "data": {
      "text/plain": [
       "1001884.758029909"
      ]
     },
     "execution_count": 91,
     "metadata": {
      "tags": []
     },
     "output_type": "execute_result"
    }
   ],
   "source": [
    "mse_train_clf_GBM3"
   ]
  },
  {
   "cell_type": "code",
   "execution_count": 0,
   "metadata": {
    "id": "W3IbeRjjMDG-",
    "colab_type": "code",
    "colab": {}
   },
   "outputs": [],
   "source": [
    "pred_test_clf_GBM3=clf_GBM3.predict(x_test)"
   ]
  },
  {
   "cell_type": "code",
   "execution_count": 0,
   "metadata": {
    "id": "hprD6kU1MH0k",
    "colab_type": "code",
    "colab": {}
   },
   "outputs": [],
   "source": [
    "mse_test_clf_GBM3=mean_squared_error(y_test,pred_test_clf_GBM3)"
   ]
  },
  {
   "cell_type": "code",
   "execution_count": 94,
   "metadata": {
    "id": "s83EIXcNMg_X",
    "colab_type": "code",
    "colab": {
     "base_uri": "https://localhost:8080/",
     "height": 34.0
    },
    "outputId": "722e47d4-bffa-4d94-bc58-a11fa61d94cd",
    "executionInfo": {
     "status": "ok",
     "timestamp": 1.540127998964E12,
     "user_tz": -330.0,
     "elapsed": 1145.0,
     "user": {
      "displayName": "Kavitha V",
      "photoUrl": "",
      "userId": "00448912820684317706"
     }
    }
   },
   "outputs": [
    {
     "data": {
      "text/plain": [
       "1180811.4881029222"
      ]
     },
     "execution_count": 94,
     "metadata": {
      "tags": []
     },
     "output_type": "execute_result"
    }
   ],
   "source": [
    "mse_test_clf_GBM3"
   ]
  },
  {
   "cell_type": "code",
   "execution_count": 95,
   "metadata": {
    "id": "TiN38aVSMU11",
    "colab_type": "code",
    "colab": {
     "base_uri": "https://localhost:8080/",
     "height": 34.0
    },
    "outputId": "51c8784a-f327-46c4-9889-7401c87d027a",
    "executionInfo": {
     "status": "ok",
     "timestamp": 1.540128004506E12,
     "user_tz": -330.0,
     "elapsed": 1086.0,
     "user": {
      "displayName": "Kavitha V",
      "photoUrl": "",
      "userId": "00448912820684317706"
     }
    }
   },
   "outputs": [
    {
     "data": {
      "text/plain": [
       "1001884.758029909"
      ]
     },
     "execution_count": 95,
     "metadata": {
      "tags": []
     },
     "output_type": "execute_result"
    }
   ],
   "source": [
    "mse_train_clf_GBM3"
   ]
  },
  {
   "cell_type": "code",
   "execution_count": 0,
   "metadata": {
    "id": "jaqRvM5PyhTk",
    "colab_type": "code",
    "colab": {}
   },
   "outputs": [],
   "source": [
    ""
   ]
  },
  {
   "cell_type": "code",
   "execution_count": 0,
   "metadata": {
    "id": "av381PNKyhNo",
    "colab_type": "code",
    "colab": {}
   },
   "outputs": [],
   "source": [
    "clf_GBM4 = GradientBoostingRegressor(n_estimators=200, max_depth=3,min_samples_split=125,min_samples_leaf=25)"
   ]
  },
  {
   "cell_type": "markdown",
   "metadata": {
    "id": "sAH6A7uNGhF4",
    "colab_type": "text"
   },
   "source": [
    ""
   ]
  },
  {
   "cell_type": "code",
   "execution_count": 98,
   "metadata": {
    "id": "su_mMIdTyhIA",
    "colab_type": "code",
    "colab": {
     "base_uri": "https://localhost:8080/",
     "height": 136.0
    },
    "outputId": "b4ddb399-dfd7-492d-c8fc-7c6fce7d5623",
    "executionInfo": {
     "status": "ok",
     "timestamp": 1.540128221947E12,
     "user_tz": -330.0,
     "elapsed": 32747.0,
     "user": {
      "displayName": "Kavitha V",
      "photoUrl": "",
      "userId": "00448912820684317706"
     }
    }
   },
   "outputs": [
    {
     "data": {
      "text/plain": [
       "GradientBoostingRegressor(alpha=0.9, criterion='friedman_mse', init=None,\n",
       "             learning_rate=0.1, loss='ls', max_depth=3, max_features=None,\n",
       "             max_leaf_nodes=None, min_impurity_decrease=0.0,\n",
       "             min_impurity_split=None, min_samples_leaf=25,\n",
       "             min_samples_split=125, min_weight_fraction_leaf=0.0,\n",
       "             n_estimators=200, presort='auto', random_state=None,\n",
       "             subsample=1.0, verbose=0, warm_start=False)"
      ]
     },
     "execution_count": 98,
     "metadata": {
      "tags": []
     },
     "output_type": "execute_result"
    }
   ],
   "source": [
    "clf_GBM4.fit(x_train,y_train)"
   ]
  },
  {
   "cell_type": "code",
   "execution_count": 0,
   "metadata": {
    "id": "vu_8d6j_yzNy",
    "colab_type": "code",
    "colab": {}
   },
   "outputs": [],
   "source": [
    "pred_test_clf_GBM4=clf_GBM4.predict(x_test)"
   ]
  },
  {
   "cell_type": "code",
   "execution_count": 0,
   "metadata": {
    "id": "2u43Bhmmyzf9",
    "colab_type": "code",
    "colab": {}
   },
   "outputs": [],
   "source": [
    "mse_test_clf_GBM4=mean_squared_error(y_test,pred_test_clf_GBM4)"
   ]
  },
  {
   "cell_type": "code",
   "execution_count": 101,
   "metadata": {
    "id": "whC-dSVWyzvR",
    "colab_type": "code",
    "colab": {
     "base_uri": "https://localhost:8080/",
     "height": 34.0
    },
    "outputId": "e83e93d4-6c3f-4870-e545-4e857e7ee6a2",
    "executionInfo": {
     "status": "ok",
     "timestamp": 1.54012851575E12,
     "user_tz": -330.0,
     "elapsed": 1182.0,
     "user": {
      "displayName": "Kavitha V",
      "photoUrl": "",
      "userId": "00448912820684317706"
     }
    }
   },
   "outputs": [
    {
     "data": {
      "text/plain": [
       "1179000.3216131004"
      ]
     },
     "execution_count": 101,
     "metadata": {
      "tags": []
     },
     "output_type": "execute_result"
    }
   ],
   "source": [
    "mse_test_clf_GBM4"
   ]
  },
  {
   "cell_type": "code",
   "execution_count": 0,
   "metadata": {
    "id": "cmon4c3qzeAF",
    "colab_type": "code",
    "colab": {}
   },
   "outputs": [],
   "source": [
    "pred_train_clf_GBM4=clf_GBM4.predict(x_train)"
   ]
  },
  {
   "cell_type": "code",
   "execution_count": 0,
   "metadata": {
    "id": "QY6B3zatzd6v",
    "colab_type": "code",
    "colab": {}
   },
   "outputs": [],
   "source": [
    "mse_train_clf_GBM4=mean_squared_error(y_train,pred_train_clf_GBM4)"
   ]
  },
  {
   "cell_type": "code",
   "execution_count": 104,
   "metadata": {
    "id": "wWnZzkKIzd0Q",
    "colab_type": "code",
    "colab": {
     "base_uri": "https://localhost:8080/",
     "height": 34.0
    },
    "outputId": "499a8054-6a9e-4359-9590-69e8fd9787b9",
    "executionInfo": {
     "status": "ok",
     "timestamp": 1.54012852789E12,
     "user_tz": -330.0,
     "elapsed": 1643.0,
     "user": {
      "displayName": "Kavitha V",
      "photoUrl": "",
      "userId": "00448912820684317706"
     }
    }
   },
   "outputs": [
    {
     "data": {
      "text/plain": [
       "1021062.2678048899"
      ]
     },
     "execution_count": 104,
     "metadata": {
      "tags": []
     },
     "output_type": "execute_result"
    }
   ],
   "source": [
    "mse_train_clf_GBM4"
   ]
  },
  {
   "cell_type": "code",
   "execution_count": 0,
   "metadata": {
    "id": "YNvXqLEJ0RT2",
    "colab_type": "code",
    "colab": {}
   },
   "outputs": [],
   "source": [
    ""
   ]
  },
  {
   "cell_type": "code",
   "execution_count": 0,
   "metadata": {
    "id": "GUO9HI4A0RPs",
    "colab_type": "code",
    "colab": {}
   },
   "outputs": [],
   "source": [
    "clf_GBM5 = GradientBoostingRegressor(n_estimators=200, max_depth=3,min_samples_split=100,min_samples_leaf=25)"
   ]
  },
  {
   "cell_type": "code",
   "execution_count": 107,
   "metadata": {
    "id": "wFrJJ_ZC0RLo",
    "colab_type": "code",
    "colab": {
     "base_uri": "https://localhost:8080/",
     "height": 136.0
    },
    "outputId": "c74c8599-08ac-4c86-8353-4482d34822de",
    "executionInfo": {
     "status": "ok",
     "timestamp": 1.54012866246E12,
     "user_tz": -330.0,
     "elapsed": 32999.0,
     "user": {
      "displayName": "Kavitha V",
      "photoUrl": "",
      "userId": "00448912820684317706"
     }
    }
   },
   "outputs": [
    {
     "data": {
      "text/plain": [
       "GradientBoostingRegressor(alpha=0.9, criterion='friedman_mse', init=None,\n",
       "             learning_rate=0.1, loss='ls', max_depth=3, max_features=None,\n",
       "             max_leaf_nodes=None, min_impurity_decrease=0.0,\n",
       "             min_impurity_split=None, min_samples_leaf=25,\n",
       "             min_samples_split=100, min_weight_fraction_leaf=0.0,\n",
       "             n_estimators=200, presort='auto', random_state=None,\n",
       "             subsample=1.0, verbose=0, warm_start=False)"
      ]
     },
     "execution_count": 107,
     "metadata": {
      "tags": []
     },
     "output_type": "execute_result"
    }
   ],
   "source": [
    "clf_GBM5.fit(x_train,y_train)"
   ]
  },
  {
   "cell_type": "code",
   "execution_count": 0,
   "metadata": {
    "id": "uMeRjql10RE_",
    "colab_type": "code",
    "colab": {}
   },
   "outputs": [],
   "source": [
    "pred_test_clf_GBM5=clf_GBM5.predict(x_test)"
   ]
  },
  {
   "cell_type": "code",
   "execution_count": 0,
   "metadata": {
    "id": "1bgh3ZJ50RAR",
    "colab_type": "code",
    "colab": {}
   },
   "outputs": [],
   "source": [
    "mse_test_clf_GBM5=mean_squared_error(y_test,pred_test_clf_GBM5)"
   ]
  },
  {
   "cell_type": "code",
   "execution_count": 110,
   "metadata": {
    "id": "om0rclhI0Q64",
    "colab_type": "code",
    "colab": {
     "base_uri": "https://localhost:8080/",
     "height": 34.0
    },
    "outputId": "183f3fd0-aa12-4a2d-f669-3dcc577f6ba1",
    "executionInfo": {
     "status": "ok",
     "timestamp": 1.540130612927E12,
     "user_tz": -330.0,
     "elapsed": 1147.0,
     "user": {
      "displayName": "Kavitha V",
      "photoUrl": "",
      "userId": "00448912820684317706"
     }
    }
   },
   "outputs": [
    {
     "data": {
      "text/plain": [
       "1177727.90092934"
      ]
     },
     "execution_count": 110,
     "metadata": {
      "tags": []
     },
     "output_type": "execute_result"
    }
   ],
   "source": [
    "mse_test_clf_GBM5"
   ]
  },
  {
   "cell_type": "code",
   "execution_count": 0,
   "metadata": {
    "id": "OfTwGtCv0Q1T",
    "colab_type": "code",
    "colab": {}
   },
   "outputs": [],
   "source": [
    "pred_train_clf_GBM5=clf_GBM5.predict(x_train)"
   ]
  },
  {
   "cell_type": "code",
   "execution_count": 0,
   "metadata": {
    "id": "G0wz09X20QwR",
    "colab_type": "code",
    "colab": {}
   },
   "outputs": [],
   "source": [
    "mse_train_clf_GBM5=mean_squared_error(y_train,pred_train_clf_GBM5)"
   ]
  },
  {
   "cell_type": "code",
   "execution_count": 113,
   "metadata": {
    "id": "jo57ler60QrS",
    "colab_type": "code",
    "colab": {
     "base_uri": "https://localhost:8080/",
     "height": 34.0
    },
    "outputId": "bef7d7ed-ab4d-421a-db73-200491469f55",
    "executionInfo": {
     "status": "ok",
     "timestamp": 1.54013062621E12,
     "user_tz": -330.0,
     "elapsed": 1163.0,
     "user": {
      "displayName": "Kavitha V",
      "photoUrl": "",
      "userId": "00448912820684317706"
     }
    }
   },
   "outputs": [
    {
     "data": {
      "text/plain": [
       "1015887.1309229566"
      ]
     },
     "execution_count": 113,
     "metadata": {
      "tags": []
     },
     "output_type": "execute_result"
    }
   ],
   "source": [
    "mse_train_clf_GBM5"
   ]
  },
  {
   "cell_type": "code",
   "execution_count": 0,
   "metadata": {
    "id": "jZICoSyU8QRL",
    "colab_type": "code",
    "colab": {}
   },
   "outputs": [],
   "source": [
    ""
   ]
  },
  {
   "cell_type": "code",
   "execution_count": 0,
   "metadata": {
    "id": "7CtfoG8J8Qp6",
    "colab_type": "code",
    "colab": {}
   },
   "outputs": [],
   "source": [
    "clf_GBM6 = GradientBoostingRegressor(n_estimators=200, max_depth=3,min_samples_split=90,min_samples_leaf=20)"
   ]
  },
  {
   "cell_type": "code",
   "execution_count": 115,
   "metadata": {
    "id": "fa33N_ve8Q07",
    "colab_type": "code",
    "colab": {
     "base_uri": "https://localhost:8080/",
     "height": 136.0
    },
    "outputId": "4d08a539-8a90-4b5a-f707-7cf206537f56",
    "executionInfo": {
     "status": "ok",
     "timestamp": 1.540130770997E12,
     "user_tz": -330.0,
     "elapsed": 33706.0,
     "user": {
      "displayName": "Kavitha V",
      "photoUrl": "",
      "userId": "00448912820684317706"
     }
    }
   },
   "outputs": [
    {
     "data": {
      "text/plain": [
       "GradientBoostingRegressor(alpha=0.9, criterion='friedman_mse', init=None,\n",
       "             learning_rate=0.1, loss='ls', max_depth=3, max_features=None,\n",
       "             max_leaf_nodes=None, min_impurity_decrease=0.0,\n",
       "             min_impurity_split=None, min_samples_leaf=20,\n",
       "             min_samples_split=90, min_weight_fraction_leaf=0.0,\n",
       "             n_estimators=200, presort='auto', random_state=None,\n",
       "             subsample=1.0, verbose=0, warm_start=False)"
      ]
     },
     "execution_count": 115,
     "metadata": {
      "tags": []
     },
     "output_type": "execute_result"
    }
   ],
   "source": [
    "clf_GBM6.fit(x_train,y_train)"
   ]
  },
  {
   "cell_type": "code",
   "execution_count": 0,
   "metadata": {
    "id": "vJmvm_5i-RtA",
    "colab_type": "code",
    "colab": {}
   },
   "outputs": [],
   "source": [
    "pred_test_clf_GBM6=clf_GBM6.predict(x_test)"
   ]
  },
  {
   "cell_type": "code",
   "execution_count": 0,
   "metadata": {
    "id": "sZxuJKCt-D5C",
    "colab_type": "code",
    "colab": {}
   },
   "outputs": [],
   "source": [
    "mse_test_clf_GBM6=mean_squared_error(y_test,pred_test_clf_GBM6)"
   ]
  },
  {
   "cell_type": "code",
   "execution_count": 119,
   "metadata": {
    "id": "tA7ubaVU8Qkg",
    "colab_type": "code",
    "colab": {
     "base_uri": "https://localhost:8080/",
     "height": 34.0
    },
    "outputId": "431e963e-a0db-4046-8228-603e56a2ae0b",
    "executionInfo": {
     "status": "ok",
     "timestamp": 1.54013123094E12,
     "user_tz": -330.0,
     "elapsed": 1584.0,
     "user": {
      "displayName": "Kavitha V",
      "photoUrl": "",
      "userId": "00448912820684317706"
     }
    }
   },
   "outputs": [
    {
     "data": {
      "text/plain": [
       "1183832.8628792732"
      ]
     },
     "execution_count": 119,
     "metadata": {
      "tags": []
     },
     "output_type": "execute_result"
    }
   ],
   "source": [
    "mse_test_clf_GBM6"
   ]
  },
  {
   "cell_type": "code",
   "execution_count": 0,
   "metadata": {
    "id": "TYpFb_-u8QfG",
    "colab_type": "code",
    "colab": {}
   },
   "outputs": [],
   "source": [
    "pred_train_clf_GBM6=clf_GBM6.predict(x_train)"
   ]
  },
  {
   "cell_type": "code",
   "execution_count": 0,
   "metadata": {
    "id": "4VEHnP308QK8",
    "colab_type": "code",
    "colab": {}
   },
   "outputs": [],
   "source": [
    "mse_train_clf_GBM6=mean_squared_error(y_train,pred_train_clf_GBM6)"
   ]
  },
  {
   "cell_type": "code",
   "execution_count": 122,
   "metadata": {
    "id": "UsmmnSHD8QER",
    "colab_type": "code",
    "colab": {
     "base_uri": "https://localhost:8080/",
     "height": 34.0
    },
    "outputId": "fc67acbf-9fd5-4da0-e457-3f6077da3ce2",
    "executionInfo": {
     "status": "ok",
     "timestamp": 1.540131278092E12,
     "user_tz": -330.0,
     "elapsed": 1652.0,
     "user": {
      "displayName": "Kavitha V",
      "photoUrl": "",
      "userId": "00448912820684317706"
     }
    }
   },
   "outputs": [
    {
     "data": {
      "text/plain": [
       "1008009.292719299"
      ]
     },
     "execution_count": 122,
     "metadata": {
      "tags": []
     },
     "output_type": "execute_result"
    }
   ],
   "source": [
    "mse_train_clf_GBM6"
   ]
  },
  {
   "cell_type": "code",
   "execution_count": 0,
   "metadata": {
    "id": "l1P7GPCA0QlA",
    "colab_type": "code",
    "colab": {}
   },
   "outputs": [],
   "source": [
    "clf_GBM7 = GradientBoostingRegressor(n_estimators=200, max_depth=3,min_samples_split=100,min_samples_leaf=25,loss='lad')"
   ]
  },
  {
   "cell_type": "code",
   "execution_count": 16,
   "metadata": {
    "id": "xWiTnpPVY3iX",
    "colab_type": "code",
    "colab": {
     "base_uri": "https://localhost:8080/",
     "height": 136.0
    },
    "outputId": "949d6fe0-b5e2-4cc3-d1cf-31dd87b00b26",
    "executionInfo": {
     "status": "ok",
     "timestamp": 1.540184389921E12,
     "user_tz": -330.0,
     "elapsed": 34576.0,
     "user": {
      "displayName": "Kavitha V",
      "photoUrl": "",
      "userId": "00448912820684317706"
     }
    }
   },
   "outputs": [
    {
     "data": {
      "text/plain": [
       "GradientBoostingRegressor(alpha=0.9, criterion='friedman_mse', init=None,\n",
       "             learning_rate=0.1, loss='lad', max_depth=3, max_features=None,\n",
       "             max_leaf_nodes=None, min_impurity_decrease=0.0,\n",
       "             min_impurity_split=None, min_samples_leaf=25,\n",
       "             min_samples_split=100, min_weight_fraction_leaf=0.0,\n",
       "             n_estimators=200, presort='auto', random_state=None,\n",
       "             subsample=1.0, verbose=0, warm_start=False)"
      ]
     },
     "execution_count": 16,
     "metadata": {
      "tags": []
     },
     "output_type": "execute_result"
    }
   ],
   "source": [
    "clf_GBM7.fit(x_train,y_train)"
   ]
  },
  {
   "cell_type": "code",
   "execution_count": 0,
   "metadata": {
    "id": "47_hiSaAY35V",
    "colab_type": "code",
    "colab": {}
   },
   "outputs": [],
   "source": [
    "pred_test_clf_GBM7=clf_GBM7.predict(x_test)"
   ]
  },
  {
   "cell_type": "code",
   "execution_count": 0,
   "metadata": {
    "id": "UbmSUpqbWOCq",
    "colab_type": "code",
    "colab": {}
   },
   "outputs": [],
   "source": [
    "pred_train_clf_GBM7=clf_GBM7.predict(x_train)"
   ]
  },
  {
   "cell_type": "code",
   "execution_count": 0,
   "metadata": {
    "id": "CwFJRH0eV4Az",
    "colab_type": "code",
    "colab": {}
   },
   "outputs": [],
   "source": [
    "from sklearn.metrics import mean_squared_error"
   ]
  },
  {
   "cell_type": "code",
   "execution_count": 0,
   "metadata": {
    "id": "3V_poCuqY30H",
    "colab_type": "code",
    "colab": {}
   },
   "outputs": [],
   "source": [
    "mse_test_clf_GBM7=mean_squared_error(y_test,pred_test_clf_GBM7)"
   ]
  },
  {
   "cell_type": "code",
   "execution_count": 0,
   "metadata": {
    "id": "G60b2w83WU6_",
    "colab_type": "code",
    "colab": {}
   },
   "outputs": [],
   "source": [
    "mse_train_clf_GBM7=mean_squared_error(y_train,pred_train_clf_GBM7)"
   ]
  },
  {
   "cell_type": "code",
   "execution_count": 26,
   "metadata": {
    "id": "iJtEGFP9WaJz",
    "colab_type": "code",
    "colab": {
     "base_uri": "https://localhost:8080/",
     "height": 34.0
    },
    "outputId": "be2ca02a-009e-4728-858a-f40561e00c0e",
    "executionInfo": {
     "status": "ok",
     "timestamp": 1.540187881306E12,
     "user_tz": -330.0,
     "elapsed": 1273.0,
     "user": {
      "displayName": "Kavitha V",
      "photoUrl": "",
      "userId": "00448912820684317706"
     }
    }
   },
   "outputs": [
    {
     "data": {
      "text/plain": [
       "1100266.1688918066"
      ]
     },
     "execution_count": 26,
     "metadata": {
      "tags": []
     },
     "output_type": "execute_result"
    }
   ],
   "source": [
    "+mse_train_clf_GBM7"
   ]
  },
  {
   "cell_type": "code",
   "execution_count": 21,
   "metadata": {
    "id": "T4-0aHhJY3v8",
    "colab_type": "code",
    "colab": {
     "base_uri": "https://localhost:8080/",
     "height": 34.0
    },
    "outputId": "818da3b6-ca93-4660-daa6-6567c550fae7",
    "executionInfo": {
     "status": "ok",
     "timestamp": 1.540187754944E12,
     "user_tz": -330.0,
     "elapsed": 1293.0,
     "user": {
      "displayName": "Kavitha V",
      "photoUrl": "",
      "userId": "00448912820684317706"
     }
    }
   },
   "outputs": [
    {
     "data": {
      "text/plain": [
       "1167735.7512760838"
      ]
     },
     "execution_count": 21,
     "metadata": {
      "tags": []
     },
     "output_type": "execute_result"
    }
   ],
   "source": [
    "mse_test_clf_GBM7"
   ]
  },
  {
   "cell_type": "code",
   "execution_count": 0,
   "metadata": {
    "id": "jzP0lUxBY3r0",
    "colab_type": "code",
    "colab": {}
   },
   "outputs": [],
   "source": [
    ""
   ]
  },
  {
   "cell_type": "code",
   "execution_count": 0,
   "metadata": {
    "id": "4vFHG-r_yz-g",
    "colab_type": "code",
    "colab": {}
   },
   "outputs": [],
   "source": [
    "clf_GBM8 = GradientBoostingRegressor(n_estimators=200, max_depth=3,min_samples_split=100,min_samples_leaf=25,loss='lad')"
   ]
  },
  {
   "cell_type": "code",
   "execution_count": 0,
   "metadata": {
    "id": "8-tDQfsaatxV",
    "colab_type": "code",
    "colab": {}
   },
   "outputs": [],
   "source": [
    "from sklearn.ensemble import AdaBoostRegressor\n",
    "from sklearn.tree import DecisionTreeRegressor"
   ]
  },
  {
   "cell_type": "code",
   "execution_count": 0,
   "metadata": {
    "id": "d0uXqODl9zhf",
    "colab_type": "code",
    "colab": {}
   },
   "outputs": [],
   "source": [
    "from sklearn.ensemble import GradientBoostingRegressor"
   ]
  },
  {
   "cell_type": "code",
   "execution_count": 0,
   "metadata": {
    "id": "PEt2MgM2bOxG",
    "colab_type": "code",
    "colab": {}
   },
   "outputs": [],
   "source": [
    "dt=DecisionTreeRegressor(min_samples_split=150,max_depth=75,min_samples_leaf=200,max_features=400)"
   ]
  },
  {
   "cell_type": "code",
   "execution_count": 0,
   "metadata": {
    "id": "C-9QRac_93bl",
    "colab_type": "code",
    "colab": {}
   },
   "outputs": [],
   "source": [
    "gbreg=GradientBoostingRegressor(n_estimators=3000,loss='lad',min_samples_leaf=150,min_samples_split=250,max_depth=25,max_features=400,subsample=0.8)"
   ]
  },
  {
   "cell_type": "code",
   "execution_count": 0,
   "metadata": {
    "id": "lr0zCFgL-mb9",
    "colab_type": "code",
    "colab": {}
   },
   "outputs": [],
   "source": [
    "gbreg.fit(x_train,y_train)"
   ]
  },
  {
   "cell_type": "code",
   "execution_count": 0,
   "metadata": {
    "id": "oN6Bs5RiB9Tx",
    "colab_type": "code",
    "colab": {}
   },
   "outputs": [],
   "source": [
    "fw1=open('gbreg60','wb')"
   ]
  },
  {
   "cell_type": "code",
   "execution_count": 0,
   "metadata": {
    "id": "-eGNsyMOCLni",
    "colab_type": "code",
    "colab": {}
   },
   "outputs": [],
   "source": [
    "pickle.dump(gbreg,fw1)"
   ]
  },
  {
   "cell_type": "code",
   "execution_count": 0,
   "metadata": {
    "id": "jzygOhNmDoQA",
    "colab_type": "code",
    "colab": {}
   },
   "outputs": [],
   "source": [
    "fw1.close()"
   ]
  },
  {
   "cell_type": "code",
   "execution_count": 0,
   "metadata": {
    "id": "ZK0dudN5_QLV",
    "colab_type": "code",
    "colab": {}
   },
   "outputs": [],
   "source": [
    "gbreg.score(x_train,y_train)"
   ]
  },
  {
   "cell_type": "code",
   "execution_count": 0,
   "metadata": {
    "id": "YpTKb04wBglO",
    "colab_type": "code",
    "colab": {}
   },
   "outputs": [],
   "source": [
    "y_pred_gbreg=gbreg.predict(x_test)"
   ]
  },
  {
   "cell_type": "code",
   "execution_count": 0,
   "metadata": {
    "id": "LUoGRHLZBdEU",
    "colab_type": "code",
    "colab": {}
   },
   "outputs": [],
   "source": [
    "mse=np.mean((y_pred_gbreg-y_test)**2)"
   ]
  },
  {
   "cell_type": "code",
   "execution_count": 0,
   "metadata": {
    "id": "ZtTJqHQcBmzq",
    "colab_type": "code",
    "colab": {}
   },
   "outputs": [],
   "source": [
    "mse"
   ]
  },
  {
   "cell_type": "code",
   "execution_count": 0,
   "metadata": {
    "id": "awd0NPEjBphX",
    "colab_type": "code",
    "colab": {}
   },
   "outputs": [],
   "source": [
    "y_pred_gbreg_train=gbreg.predict(x_train)"
   ]
  },
  {
   "cell_type": "code",
   "execution_count": 0,
   "metadata": {
    "id": "7qzzEAH9Bw6U",
    "colab_type": "code",
    "colab": {}
   },
   "outputs": [],
   "source": [
    "mse=np.mean((y_pred_gbreg_train-y_train)**2)"
   ]
  },
  {
   "cell_type": "code",
   "execution_count": 0,
   "metadata": {
    "id": "KHugtSJNB3vS",
    "colab_type": "code",
    "colab": {}
   },
   "outputs": [],
   "source": [
    "mse"
   ]
  },
  {
   "cell_type": "code",
   "execution_count": 0,
   "metadata": {
    "id": "gVA69SNe_UOc",
    "colab_type": "code",
    "colab": {}
   },
   "outputs": [],
   "source": [
    "gbreg.score(x_test,y_test)"
   ]
  },
  {
   "cell_type": "code",
   "execution_count": 0,
   "metadata": {
    "id": "pAm0Ssgk_YGb",
    "colab_type": "code",
    "colab": {}
   },
   "outputs": [],
   "source": [
    "gbreg"
   ]
  },
  {
   "cell_type": "markdown",
   "metadata": {
    "id": "YlXKfRiBbjpm",
    "colab_type": "text"
   },
   "source": [
    ""
   ]
  },
  {
   "cell_type": "code",
   "execution_count": 0,
   "metadata": {
    "id": "SULmMtObbkAc",
    "colab_type": "code",
    "colab": {}
   },
   "outputs": [],
   "source": [
    "reg=AdaBoostRegressor(n_estimators=500,random_state=33,loss='square',base_estimator=dt)"
   ]
  },
  {
   "cell_type": "code",
   "execution_count": 0,
   "metadata": {
    "id": "koFiKzF0b5ax",
    "colab_type": "code",
    "colab": {}
   },
   "outputs": [],
   "source": [
    "reg.fit(x_train,y_train)"
   ]
  },
  {
   "cell_type": "code",
   "execution_count": 0,
   "metadata": {
    "id": "kD0q6TZh9q5C",
    "colab_type": "code",
    "colab": {}
   },
   "outputs": [],
   "source": [
    ""
   ]
  },
  {
   "cell_type": "code",
   "execution_count": 0,
   "metadata": {
    "id": "M7Ub35mDc1Fh",
    "colab_type": "code",
    "colab": {}
   },
   "outputs": [],
   "source": [
    "import pickle\n",
    "fw=open('abro','wb')\n",
    "pickle.dump(reg,fw)"
   ]
  },
  {
   "cell_type": "code",
   "execution_count": 0,
   "metadata": {
    "id": "few5JQlEd16f",
    "colab_type": "code",
    "colab": {}
   },
   "outputs": [],
   "source": [
    "reg.score(x_test,y_test)"
   ]
  },
  {
   "cell_type": "code",
   "execution_count": 0,
   "metadata": {
    "id": "5R8Zlc5D9YYI",
    "colab_type": "code",
    "colab": {}
   },
   "outputs": [],
   "source": [
    "reg.score(x_test,y_test)"
   ]
  },
  {
   "cell_type": "markdown",
   "metadata": {
    "id": "PvXpo3un9o64",
    "colab_type": "text"
   },
   "source": [
    ""
   ]
  },
  {
   "cell_type": "markdown",
   "metadata": {
    "id": "GthQUZkK9oip",
    "colab_type": "text"
   },
   "source": [
    ""
   ]
  },
  {
   "cell_type": "code",
   "execution_count": 0,
   "metadata": {
    "id": "14lZoKuH9dX2",
    "colab_type": "code",
    "colab": {}
   },
   "outputs": [],
   "source": [
    "reg.score(x_train,y_train)"
   ]
  },
  {
   "cell_type": "code",
   "execution_count": 0,
   "metadata": {
    "id": "MbmYAJ-KxoN6",
    "colab_type": "code",
    "colab": {}
   },
   "outputs": [],
   "source": [
    "reg.score(x_test,y_test)"
   ]
  },
  {
   "cell_type": "code",
   "execution_count": 0,
   "metadata": {
    "id": "syHGfyfndhOE",
    "colab_type": "code",
    "colab": {}
   },
   "outputs": [],
   "source": [
    "y_pred_abro=reg.predict(x_test)"
   ]
  },
  {
   "cell_type": "code",
   "execution_count": 0,
   "metadata": {
    "id": "SlVN88qTdp8X",
    "colab_type": "code",
    "colab": {}
   },
   "outputs": [],
   "source": [
    "import numpy as np\n",
    "mse=np.mean((y_pred_abro-y_test)**2)"
   ]
  },
  {
   "cell_type": "code",
   "execution_count": 0,
   "metadata": {
    "id": "qbqXZPJfeV7y",
    "colab_type": "code",
    "colab": {}
   },
   "outputs": [],
   "source": [
    "mse"
   ]
  },
  {
   "cell_type": "code",
   "execution_count": 0,
   "metadata": {
    "id": "5TLz6jGd22rB",
    "colab_type": "code",
    "colab": {}
   },
   "outputs": [],
   "source": [
    "mse"
   ]
  },
  {
   "cell_type": "code",
   "execution_count": 0,
   "metadata": {
    "id": "smjE86LhxiXk",
    "colab_type": "code",
    "colab": {}
   },
   "outputs": [],
   "source": [
    "mse"
   ]
  },
  {
   "cell_type": "code",
   "execution_count": 0,
   "metadata": {
    "id": "O8xrNwoPewRN",
    "colab_type": "code",
    "colab": {}
   },
   "outputs": [],
   "source": [
    "mse"
   ]
  },
  {
   "cell_type": "code",
   "execution_count": 0,
   "metadata": {
    "id": "k6IJfdCTrYq6",
    "colab_type": "code",
    "colab": {}
   },
   "outputs": [],
   "source": [
    "from sklearn.ensemble import RandomForestRegressor\n",
    "# Number of trees in random forest\n",
    "n_estimators = [int(x) for x in np.linspace(start = 200, stop = 2000, num = 10)]\n",
    "# Number of features to consider at every split\n",
    "max_features = ['auto', 'sqrt']\n",
    "# Maximum number of levels in tree\n",
    "max_depth = [int(x) for x in np.linspace(10, 110, num = 11)]\n",
    "max_depth.append(None)\n",
    "# Minimum number of samples required to split a node\n",
    "min_samples_split = [2, 5, 10]\n",
    "# Minimum number of samples required at each leaf node\n",
    "min_samples_leaf = [1, 2, 4]\n",
    "# Method of selecting samples for training each tree\n",
    "bootstrap = [True, False]\n",
    "\n",
    "random_grid = {'n_estimators': n_estimators,\n",
    "               'max_features': max_features,\n",
    "               'max_depth': max_depth,\n",
    "               'min_samples_split': min_samples_split,\n",
    "               'min_samples_leaf': min_samples_leaf,\n",
    "               'bootstrap': bootstrap}\n",
    "\n",
    "from sklearn.model_selection import RandomizedSearchCV\n",
    "# Use the random grid to search for best hyperparameters\n",
    "# First create the base model to tune\n",
    "rf = RandomForestRegressor()\n",
    "# Random search of parameters, using 3 fold cross validation, \n",
    "# search across 100 different combinations, and use all available cores\n",
    "rf_random = RandomizedSearchCV(estimator = rf, param_distributions = random_grid, n_iter = 100, cv = 3, verbose=2, random_state=42)\n",
    "# Fit the random search model\n",
    "# rf_random.fit(x_train,y_train)"
   ]
  },
  {
   "cell_type": "code",
   "execution_count": 0,
   "metadata": {
    "id": "4VFW275uwLmz",
    "colab_type": "code",
    "colab": {}
   },
   "outputs": [],
   "source": [
    "rf_random.fit(x_train,y_train)"
   ]
  },
  {
   "cell_type": "code",
   "execution_count": 0,
   "metadata": {
    "id": "XdVEUUL02crQ",
    "colab_type": "code",
    "colab": {}
   },
   "outputs": [],
   "source": [
    "mya=[1,2,3,4]\n",
    "fw=open('myapp','wb')\n",
    "import pickle\n",
    "pickle.dump(mya,fw)\n",
    "fw.close()\n"
   ]
  },
  {
   "cell_type": "code",
   "execution_count": 0,
   "metadata": {
    "id": "iB9U5B60dcA-",
    "colab_type": "code",
    "colab": {}
   },
   "outputs": [],
   "source": [
    ""
   ]
  },
  {
   "cell_type": "code",
   "execution_count": 0,
   "metadata": {
    "id": "wYLRUSLo3kMc",
    "colab_type": "code",
    "colab": {}
   },
   "outputs": [],
   "source": [
    "fr=open('myapp','rb')\n",
    "mya_new=pickle.load(fr)\n",
    "print(mya_new)\n",
    "fr.close()"
   ]
  },
  {
   "cell_type": "code",
   "execution_count": 0,
   "metadata": {
    "id": "QrQPVI3D4ISj",
    "colab_type": "code",
    "colab": {}
   },
   "outputs": [],
   "source": [
    "rf_random\n",
    "fw=open('rf_random','wb')\n",
    "pickle.dump(rf_random,fw)\n",
    "fw.close()"
   ]
  },
  {
   "cell_type": "code",
   "execution_count": 0,
   "metadata": {
    "id": "bhlxNyClAhV0",
    "colab_type": "code",
    "colab": {}
   },
   "outputs": [],
   "source": [
    "rf_random"
   ]
  },
  {
   "cell_type": "code",
   "execution_count": 0,
   "metadata": {
    "id": "vvfg38-1A3fC",
    "colab_type": "code",
    "colab": {}
   },
   "outputs": [],
   "source": [
    "cv_results=pd.DataFrame(rf_random.cv_results_)"
   ]
  },
  {
   "cell_type": "code",
   "execution_count": 0,
   "metadata": {
    "id": "-aOqcy67BM_m",
    "colab_type": "code",
    "colab": {}
   },
   "outputs": [],
   "source": [
    "cv_results.to_csv('cv_results')"
   ]
  },
  {
   "cell_type": "code",
   "execution_count": 0,
   "metadata": {
    "id": "m3CJELK0IB--",
    "colab_type": "code",
    "colab": {}
   },
   "outputs": [],
   "source": [
    "best_estimator=rf_random.best_estimator_"
   ]
  },
  {
   "cell_type": "code",
   "execution_count": 0,
   "metadata": {
    "id": "_VVnnVSPIKiU",
    "colab_type": "code",
    "colab": {}
   },
   "outputs": [],
   "source": [
    "best_score=rf_random.best_score_"
   ]
  },
  {
   "cell_type": "code",
   "execution_count": 0,
   "metadata": {
    "id": "aiaBMx5dag8N",
    "colab_type": "code",
    "colab": {}
   },
   "outputs": [],
   "source": [
    "best_score"
   ]
  },
  {
   "cell_type": "code",
   "execution_count": 0,
   "metadata": {
    "id": "ctfQPIWUIc6w",
    "colab_type": "code",
    "colab": {}
   },
   "outputs": [],
   "source": [
    "best_params=rf_random.best_params_"
   ]
  },
  {
   "cell_type": "code",
   "execution_count": 0,
   "metadata": {
    "id": "zHrn8Qp3IvOQ",
    "colab_type": "code",
    "colab": {}
   },
   "outputs": [],
   "source": [
    "best_params"
   ]
  },
  {
   "cell_type": "code",
   "execution_count": 0,
   "metadata": {
    "id": "hyXK8DhYI-l6",
    "colab_type": "code",
    "colab": {}
   },
   "outputs": [],
   "source": [
    "rf_random.best_index_"
   ]
  },
  {
   "cell_type": "code",
   "execution_count": 0,
   "metadata": {
    "id": "el_AvNFoQi_n",
    "colab_type": "code",
    "colab": {}
   },
   "outputs": [],
   "source": [
    "param_grid_GS = {\n",
    "    'bootstrap': [True],\n",
    "    'max_depth': [80, 90, 100, 110],\n",
    "    'max_features': [2, 3],\n",
    "    'min_samples_leaf': [3, 4, 5],\n",
    "    'min_samples_split': [8, 10, 12],\n",
    "    'n_estimators': [100, 200, 300, 1000]\n",
    "}"
   ]
  },
  {
   "cell_type": "code",
   "execution_count": 0,
   "metadata": {
    "id": "5l_GujQbQwPe",
    "colab_type": "code",
    "colab": {}
   },
   "outputs": [],
   "source": [
    "rf=RandomForestRegressor()"
   ]
  },
  {
   "cell_type": "code",
   "execution_count": 0,
   "metadata": {
    "id": "PMYmf0URRcQD",
    "colab_type": "code",
    "colab": {}
   },
   "outputs": [],
   "source": [
    "from sklearn.model_selection import GridSearchCV"
   ]
  },
  {
   "cell_type": "code",
   "execution_count": 0,
   "metadata": {
    "id": "ZK-Rk6WBRLi3",
    "colab_type": "code",
    "colab": {}
   },
   "outputs": [],
   "source": [
    "gridsearch=GridSearchCV(estimator=rf,param_grid=param_grid_GS,cv=3)"
   ]
  },
  {
   "cell_type": "code",
   "execution_count": 0,
   "metadata": {
    "id": "xrWhUKTZRlvB",
    "colab_type": "code",
    "colab": {}
   },
   "outputs": [],
   "source": [
    "gridsearch.fit(x_train,y_train) "
   ]
  },
  {
   "cell_type": "code",
   "execution_count": 0,
   "metadata": {
    "id": "0VHtN2HlXyw6",
    "colab_type": "code",
    "colab": {}
   },
   "outputs": [],
   "source": [
    "fw=open('gridsearch','wb')\n",
    "pickle.dump(gridsearch,fw)\n",
    "fw.close()"
   ]
  },
  {
   "cell_type": "code",
   "execution_count": 0,
   "metadata": {
    "id": "s4ERdwAnYlUT",
    "colab_type": "code",
    "colab": {}
   },
   "outputs": [],
   "source": [
    "gridsearch.best_params_"
   ]
  },
  {
   "cell_type": "code",
   "execution_count": 0,
   "metadata": {
    "id": "fC-uDHuQZWri",
    "colab_type": "code",
    "colab": {}
   },
   "outputs": [],
   "source": [
    "gridsearch.best_score_"
   ]
  },
  {
   "cell_type": "code",
   "execution_count": 0,
   "metadata": {
    "id": "q8osNYd9vcrJ",
    "colab_type": "code",
    "colab": {}
   },
   "outputs": [],
   "source": [
    "model=RandomForestRegressor(n_estimators=1000,min_samples_leaf=50,max_depth=50,min_samples_split=250)"
   ]
  },
  {
   "cell_type": "code",
   "execution_count": 0,
   "metadata": {
    "id": "VyqEq-xhveZC",
    "colab_type": "code",
    "colab": {}
   },
   "outputs": [],
   "source": [
    "model.fit(x_train,y_train)"
   ]
  },
  {
   "cell_type": "markdown",
   "metadata": {
    "id": "IGC9gx8ImWSH",
    "colab_type": "text"
   },
   "source": [
    ""
   ]
  }
 ],
 "metadata": {
  "colab": {
   "name": "boostingML_BigMart.ipynb",
   "version": "0.3.2",
   "provenance": [
    {
     "file_id": "1PPppymhbdoqbvnFAEIXvYkf6I0nOHbsZ",
     "timestamp": 1.539420897494E12
    }
   ],
   "collapsed_sections": []
  },
  "kernelspec": {
   "name": "python3",
   "display_name": "Python 3"
  },
  "accelerator": "GPU"
 },
 "nbformat": 4,
 "nbformat_minor": 0
}
