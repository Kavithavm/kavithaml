{
 "cells": [
  {
   "cell_type": "code",
   "execution_count": 0,
   "metadata": {
    "id": "XsA9iAZPpdk4",
    "colab_type": "code",
    "colab": {}
   },
   "outputs": [],
   "source": [
    "from google.colab import drive"
   ]
  },
  {
   "cell_type": "code",
   "execution_count": 7,
   "metadata": {
    "id": "ikPPg-Vbpqgp",
    "colab_type": "code",
    "colab": {
     "base_uri": "https://localhost:8080/",
     "height": 128.0
    },
    "outputId": "51de1a5c-15ba-430c-9605-67ad5ff5b76d",
    "executionInfo": {
     "status": "ok",
     "timestamp": 1.546417466537E12,
     "user_tz": -330.0,
     "elapsed": 35604.0,
     "user": {
      "displayName": "Kavitha V",
      "photoUrl": "",
      "userId": "00448912820684317706"
     }
    }
   },
   "outputs": [
    {
     "name": "stdout",
     "output_type": "stream",
     "text": [
      "Go to this URL in a browser: https://accounts.google.com/o/oauth2/auth?client_id=947318989803-6bn6qk8qdgf4n4g3pfee6491hc0brc4i.apps.googleusercontent.com&redirect_uri=urn%3Aietf%3Awg%3Aoauth%3A2.0%3Aoob&scope=email%20https%3A%2F%2Fwww.googleapis.com%2Fauth%2Fdocs.test%20https%3A%2F%2Fwww.googleapis.com%2Fauth%2Fdrive%20https%3A%2F%2Fwww.googleapis.com%2Fauth%2Fdrive.photos.readonly%20https%3A%2F%2Fwww.googleapis.com%2Fauth%2Fpeopleapi.readonly&response_type=code\n",
      "\n",
      "Enter your authorization code:\n",
      "··········\n",
      "Mounted at /content/gdrive\n"
     ]
    }
   ],
   "source": [
    "drive.mount('/content/gdrive')"
   ]
  },
  {
   "cell_type": "code",
   "execution_count": 0,
   "metadata": {
    "id": "VXpiwVg9p0Eq",
    "colab_type": "code",
    "colab": {}
   },
   "outputs": [],
   "source": [
    "import os\n",
    "os.chdir('/content/gdrive/My Drive/ML')"
   ]
  },
  {
   "cell_type": "code",
   "execution_count": 10,
   "metadata": {
    "id": "P_6Q2SAUq3Gt",
    "colab_type": "code",
    "colab": {
     "base_uri": "https://localhost:8080/",
     "height": 217.0
    },
    "outputId": "018ec09c-1fe8-4c69-bedb-86ebb0e29cbf",
    "executionInfo": {
     "status": "ok",
     "timestamp": 1.546417620192E12,
     "user_tz": -330.0,
     "elapsed": 2792.0,
     "user": {
      "displayName": "Kavitha V",
      "photoUrl": "",
      "userId": "00448912820684317706"
     }
    }
   },
   "outputs": [
    {
     "name": "stdout",
     "output_type": "stream",
     "text": [
      "\u001b[0m\u001b[01;34m'2010 capital bikes'\u001b[0m/                          KavithabigmartsalesML.ipynb\n",
      "\u001b[01;34m'Bigmart sales'\u001b[0m/                               \u001b[01;34mLoan_Prediction_Classification\u001b[0m/\n",
      "\u001b[01;34m'Black Friday'\u001b[0m/                                \u001b[01;34mMNIST\u001b[0m/\n",
      " boostingML_BigMart.ipynb                     'MNIST Keras.ipynb'\n",
      " \u001b[01;34mBoston\u001b[0m/                                      'python with ml and projects.rar'\n",
      " Dimentionality_reduction_fashionMNIST.ipynb   siva.jpg\n",
      " \u001b[01;34mdogscats\u001b[0m/                                     training.csv\n",
      " dogscats.keras.ipynb                         \u001b[01;34m'Turkish student data set'\u001b[0m/\n",
      " elephant.jpg                                  Untitled0.ipynb\n",
      " gridsearch                                    Untitled1.ipynb\n",
      "\u001b[01;34m'Heights and Weights'\u001b[0m/                        \u001b[01;34m'wine dataset'\u001b[0m/\n"
     ]
    }
   ],
   "source": [
    "ls"
   ]
  },
  {
   "cell_type": "code",
   "execution_count": 11,
   "metadata": {
    "id": "WTeR6fg3rItk",
    "colab_type": "code",
    "colab": {
     "base_uri": "https://localhost:8080/",
     "height": 92.0
    },
    "outputId": "134e23a8-196e-48b7-bf80-57b3f49deadb",
    "executionInfo": {
     "status": "ok",
     "timestamp": 1.546417687261E12,
     "user_tz": -330.0,
     "elapsed": 5131.0,
     "user": {
      "displayName": "Kavitha V",
      "photoUrl": "",
      "userId": "00448912820684317706"
     }
    }
   },
   "outputs": [
    {
     "name": "stderr",
     "output_type": "stream",
     "text": [
      "Using TensorFlow backend.\n"
     ]
    },
    {
     "name": "stdout",
     "output_type": "stream",
     "text": [
      "Downloading data from https://github.com/fchollet/deep-learning-models/releases/download/v0.1/vgg16_weights_tf_dim_ordering_tf_kernels_notop.h5\n",
      "58892288/58889256 [==============================] - 1s 0us/step\n"
     ]
    }
   ],
   "source": [
    "from keras.applications.vgg16 import VGG16\n",
    "from keras.preprocessing import image\n",
    "from keras.applications.vgg16 import preprocess_input\n",
    "import numpy as np\n",
    "\n",
    "model = VGG16(weights='imagenet', include_top=False)\n",
    "\n",
    "img_path = 'elephant.jpg'\n",
    "img = image.load_img(img_path, target_size=(224, 224))\n",
    "x = image.img_to_array(img)\n",
    "x = np.expand_dims(x, axis=0)\n",
    "x = preprocess_input(x)\n",
    "\n",
    "features = model.predict(x)"
   ]
  },
  {
   "cell_type": "code",
   "execution_count": 14,
   "metadata": {
    "id": "1zqlhf8lrWdl",
    "colab_type": "code",
    "colab": {
     "base_uri": "https://localhost:8080/",
     "height": 35.0
    },
    "outputId": "6eb7db7b-82c9-46c4-8f62-ea1074384d78",
    "executionInfo": {
     "status": "ok",
     "timestamp": 1.546417783057E12,
     "user_tz": -330.0,
     "elapsed": 917.0,
     "user": {
      "displayName": "Kavitha V",
      "photoUrl": "",
      "userId": "00448912820684317706"
     }
    }
   },
   "outputs": [
    {
     "data": {
      "text/plain": [
       "(1, 224, 224, 3)"
      ]
     },
     "execution_count": 14,
     "metadata": {
      "tags": []
     },
     "output_type": "execute_result"
    }
   ],
   "source": [
    "x.shape"
   ]
  },
  {
   "cell_type": "code",
   "execution_count": 15,
   "metadata": {
    "id": "X4zbDYq8rwum",
    "colab_type": "code",
    "colab": {
     "base_uri": "https://localhost:8080/",
     "height": 35.0
    },
    "outputId": "a70a3880-96e3-4dee-e493-348542b5edcf",
    "executionInfo": {
     "status": "ok",
     "timestamp": 1.546417841646E12,
     "user_tz": -330.0,
     "elapsed": 1096.0,
     "user": {
      "displayName": "Kavitha V",
      "photoUrl": "",
      "userId": "00448912820684317706"
     }
    }
   },
   "outputs": [
    {
     "data": {
      "text/plain": [
       "(1, 7, 7, 512)"
      ]
     },
     "execution_count": 15,
     "metadata": {
      "tags": []
     },
     "output_type": "execute_result"
    }
   ],
   "source": [
    "features.shape"
   ]
  },
  {
   "cell_type": "code",
   "execution_count": 30,
   "metadata": {
    "id": "17v4E8CAsFmn",
    "colab_type": "code",
    "colab": {
     "base_uri": "https://localhost:8080/",
     "height": 35.0
    },
    "outputId": "df8a1989-90ba-4de5-ea74-d3c488577b8d",
    "executionInfo": {
     "status": "ok",
     "timestamp": 1.546418909977E12,
     "user_tz": -330.0,
     "elapsed": 23468.0,
     "user": {
      "displayName": "Kavitha V",
      "photoUrl": "",
      "userId": "00448912820684317706"
     }
    }
   },
   "outputs": [
    {
     "name": "stdout",
     "output_type": "stream",
     "text": [
      "Predicted: [[('n03188531', 'diaper', 0.06811463), ('n04404412', 'television', 0.04183925), ('n02971356', 'carton', 0.040961)]]\n"
     ]
    }
   ],
   "source": [
    "from keras.applications.resnet50 import ResNet50\n",
    "from keras.preprocessing import image\n",
    "from keras.applications.resnet50 import preprocess_input, decode_predictions\n",
    "import numpy as np\n",
    "\n",
    "model = ResNet50(weights='imagenet')\n",
    "\n",
    "img_path = '381A7379.JPG'\n",
    "img = image.load_img(img_path, target_size=(224, 224))\n",
    "x = image.img_to_array(img)\n",
    "x = np.expand_dims(x, axis=0)\n",
    "x = preprocess_input(x)\n",
    "\n",
    "preds = model.predict(x)\n",
    "# decode the results into a list of tuples (class, description, probability)\n",
    "# (one such list for each sample in the batch)\n",
    "print('Predicted:', decode_predictions(preds, top=3))"
   ]
  },
  {
   "cell_type": "code",
   "execution_count": 31,
   "metadata": {
    "id": "gO7mCk6StdkA",
    "colab_type": "code",
    "colab": {
     "base_uri": "https://localhost:8080/",
     "height": 108.0
    },
    "outputId": "7292a414-300d-4fb3-bee2-73c8a4946a7d",
    "executionInfo": {
     "status": "ok",
     "timestamp": 1.546418936511E12,
     "user_tz": -330.0,
     "elapsed": 1058.0,
     "user": {
      "displayName": "Kavitha V",
      "photoUrl": "",
      "userId": "00448912820684317706"
     }
    }
   },
   "outputs": [
    {
     "data": {
      "text/plain": [
       "[[('n03188531', 'diaper', 0.06811463),\n",
       "  ('n04404412', 'television', 0.04183925),\n",
       "  ('n02971356', 'carton', 0.040961),\n",
       "  ('n02786058', 'Band_Aid', 0.035638377),\n",
       "  ('n03891251', 'park_bench', 0.027888497)]]"
      ]
     },
     "execution_count": 31,
     "metadata": {
      "tags": []
     },
     "output_type": "execute_result"
    }
   ],
   "source": [
    "decode_predictions(preds)"
   ]
  }
 ],
 "metadata": {
  "colab": {
   "name": "vgg16_pretrained_keras.ipynb",
   "version": "0.3.2",
   "provenance": []
  },
  "kernelspec": {
   "name": "python3",
   "display_name": "Python 3"
  }
 },
 "nbformat": 4,
 "nbformat_minor": 0
}
