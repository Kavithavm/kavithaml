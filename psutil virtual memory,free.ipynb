{
 "cells": [
  {
   "cell_type": "code",
   "execution_count": 2,
   "metadata": {
    "id": "3ckRB9Pjlalb",
    "colab_type": "code",
    "colab": {
     "base_uri": "https://localhost:8080/",
     "height": 68.0
    },
    "outputId": "d7f65699-531a-496b-b7ac-48c11d2355ba",
    "executionInfo": {
     "status": "ok",
     "timestamp": 1.545325789996E12,
     "user_tz": -330.0,
     "elapsed": 3707.0,
     "user": {
      "displayName": "Kavitha V",
      "photoUrl": "",
      "userId": "00448912820684317706"
     }
    }
   },
   "outputs": [
    {
     "name": "stdout",
     "output_type": "stream",
     "text": [
      "              total        used        free      shared  buff/cache   available\n",
      "Mem:             12           0          11           0           0          11\n",
      "Swap:             0           0           0\n"
     ]
    }
   ],
   "source": [
    "!free -g"
   ]
  },
  {
   "cell_type": "code",
   "execution_count": 0,
   "metadata": {
    "id": "-fMg1LbWm01z",
    "colab_type": "code",
    "colab": {}
   },
   "outputs": [],
   "source": [
    "import psutil"
   ]
  },
  {
   "cell_type": "code",
   "execution_count": 5,
   "metadata": {
    "id": "Xm4v4Wk4m5Qi",
    "colab_type": "code",
    "colab": {
     "base_uri": "https://localhost:8080/",
     "height": 54.0
    },
    "outputId": "21dcf1fe-329b-4a48-cd23-b7b22d09aa7f",
    "executionInfo": {
     "status": "ok",
     "timestamp": 1.545326011641E12,
     "user_tz": -330.0,
     "elapsed": 958.0,
     "user": {
      "displayName": "Kavitha V",
      "photoUrl": "",
      "userId": "00448912820684317706"
     }
    }
   },
   "outputs": [
    {
     "data": {
      "text/plain": [
       "svmem(total=13655257088, available=12843433984, percent=5.9, used=571494400, free=12182523904, active=756477952, inactive=527040512, buffers=63303680, cached=837935104, shared=892928, slab=74944512)"
      ]
     },
     "execution_count": 5,
     "metadata": {
      "tags": []
     },
     "output_type": "execute_result"
    }
   ],
   "source": [
    "psutil.virtual_memory()"
   ]
  },
  {
   "cell_type": "code",
   "execution_count": 6,
   "metadata": {
    "id": "XZDUp7vIm95R",
    "colab_type": "code",
    "colab": {
     "base_uri": "https://localhost:8080/",
     "height": 68.0
    },
    "outputId": "eee3397a-074b-454e-a97e-7b2edb5d909b",
    "executionInfo": {
     "status": "ok",
     "timestamp": 1.545326031798E12,
     "user_tz": -330.0,
     "elapsed": 2693.0,
     "user": {
      "displayName": "Kavitha V",
      "photoUrl": "",
      "userId": "00448912820684317706"
     }
    }
   },
   "outputs": [
    {
     "name": "stdout",
     "output_type": "stream",
     "text": [
      "              total        used        free      shared  buff/cache   available\n",
      "Mem:       13335212      559000    11895508         872      880704    12541504\n",
      "Swap:             0           0           0\n"
     ]
    }
   ],
   "source": [
    " !free"
   ]
  }
 ],
 "metadata": {
  "colab": {
   "name": "Untitled2.ipynb",
   "version": "0.3.2",
   "provenance": []
  },
  "kernelspec": {
   "name": "python3",
   "display_name": "Python 3"
  },
  "accelerator": "GPU"
 },
 "nbformat": 4,
 "nbformat_minor": 0
}
