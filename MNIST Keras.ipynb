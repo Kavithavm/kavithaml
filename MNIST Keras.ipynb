{
 "cells": [
  {
   "cell_type": "code",
   "execution_count": 1,
   "metadata": {
    "id": "EZmJB444jPGy",
    "colab_type": "code",
    "colab": {
     "base_uri": "https://localhost:8080/",
     "height": 34.0
    },
    "outputId": "6eff3a10-65c3-4b71-e698-1dee127e0b9a",
    "executionInfo": {
     "status": "ok",
     "timestamp": 1.545980990242E12,
     "user_tz": -330.0,
     "elapsed": 2391.0,
     "user": {
      "displayName": "Aditya Gautam",
      "photoUrl": "https://lh4.googleusercontent.com/-e6egDh93Vog/AAAAAAAAAAI/AAAAAAAAAFo/jeNFRRqtZ0o/s64/photo.jpg",
      "userId": "12157447709281783072"
     }
    }
   },
   "outputs": [
    {
     "name": "stderr",
     "output_type": "stream",
     "text": [
      "Using TensorFlow backend.\n"
     ]
    }
   ],
   "source": [
    "import os\n",
    "import numpy as np\n",
    "import pandas as pd\n",
    "import scipy\n",
    "import sklearn\n",
    "import keras\n",
    "from keras.models import Sequential\n",
    "import cv2\n",
    "from keras import backend as K\n",
    "# from skimage import io"
   ]
  },
  {
   "cell_type": "code",
   "execution_count": 0,
   "metadata": {
    "id": "kbT9o0eIjjch",
    "colab_type": "code",
    "colab": {}
   },
   "outputs": [],
   "source": [
    "from keras.datasets import mnist"
   ]
  },
  {
   "cell_type": "code",
   "execution_count": 3,
   "metadata": {
    "id": "gUp3fTmCk1ea",
    "colab_type": "code",
    "colab": {
     "base_uri": "https://localhost:8080/",
     "height": 71.0
    },
    "outputId": "309002ac-c38f-434b-bece-a719e3056ce0",
    "executionInfo": {
     "status": "ok",
     "timestamp": 1.545981006964E12,
     "user_tz": -330.0,
     "elapsed": 1673.0,
     "user": {
      "displayName": "Aditya Gautam",
      "photoUrl": "https://lh4.googleusercontent.com/-e6egDh93Vog/AAAAAAAAAAI/AAAAAAAAAFo/jeNFRRqtZ0o/s64/photo.jpg",
      "userId": "12157447709281783072"
     }
    }
   },
   "outputs": [
    {
     "name": "stdout",
     "output_type": "stream",
     "text": [
      "Downloading data from https://s3.amazonaws.com/img-datasets/mnist.npz\n",
      "11493376/11490434 [==============================] - 0s 0us/step\n"
     ]
    }
   ],
   "source": [
    "(train_images,train_labels),(test_images,test_labels)=mnist.load_data()"
   ]
  },
  {
   "cell_type": "code",
   "execution_count": 4,
   "metadata": {
    "id": "pGV_I7jamE1z",
    "colab_type": "code",
    "outputId": "4a846398-5596-403d-c339-5b394df4459b",
    "executionInfo": {
     "status": "ok",
     "timestamp": 1.545981011711E12,
     "user_tz": -330.0,
     "elapsed": 796.0,
     "user": {
      "displayName": "Aditya Gautam",
      "photoUrl": "https://lh4.googleusercontent.com/-e6egDh93Vog/AAAAAAAAAAI/AAAAAAAAAFo/jeNFRRqtZ0o/s64/photo.jpg",
      "userId": "12157447709281783072"
     }
    },
    "colab": {
     "base_uri": "https://localhost:8080/",
     "height": 34.0
    }
   },
   "outputs": [
    {
     "data": {
      "text/plain": [
       "(60000, 28, 28)"
      ]
     },
     "execution_count": 4,
     "metadata": {
      "tags": []
     },
     "output_type": "execute_result"
    }
   ],
   "source": [
    "train_images.shape"
   ]
  },
  {
   "cell_type": "code",
   "execution_count": 5,
   "metadata": {
    "id": "-oe5RLE9jjgY",
    "colab_type": "code",
    "outputId": "14b3c5eb-b12c-4218-8b77-dd4416e66d36",
    "executionInfo": {
     "status": "ok",
     "timestamp": 1.545981015019E12,
     "user_tz": -330.0,
     "elapsed": 862.0,
     "user": {
      "displayName": "Aditya Gautam",
      "photoUrl": "https://lh4.googleusercontent.com/-e6egDh93Vog/AAAAAAAAAAI/AAAAAAAAAFo/jeNFRRqtZ0o/s64/photo.jpg",
      "userId": "12157447709281783072"
     }
    },
    "colab": {
     "base_uri": "https://localhost:8080/",
     "height": 34.0
    }
   },
   "outputs": [
    {
     "data": {
      "text/plain": [
       "60000"
      ]
     },
     "execution_count": 5,
     "metadata": {
      "tags": []
     },
     "output_type": "execute_result"
    }
   ],
   "source": [
    "len(train_labels)"
   ]
  },
  {
   "cell_type": "code",
   "execution_count": 6,
   "metadata": {
    "id": "zWKWTd0Tjjkp",
    "colab_type": "code",
    "outputId": "6a200813-2efc-4ded-edd4-e2b4e1c3a0c0",
    "executionInfo": {
     "status": "ok",
     "timestamp": 1.545981020108E12,
     "user_tz": -330.0,
     "elapsed": 929.0,
     "user": {
      "displayName": "Aditya Gautam",
      "photoUrl": "https://lh4.googleusercontent.com/-e6egDh93Vog/AAAAAAAAAAI/AAAAAAAAAFo/jeNFRRqtZ0o/s64/photo.jpg",
      "userId": "12157447709281783072"
     }
    },
    "colab": {
     "base_uri": "https://localhost:8080/",
     "height": 54.0
    }
   },
   "outputs": [
    {
     "data": {
      "text/plain": [
       "array([5, 0, 4, ..., 5, 6, 8], dtype=uint8)"
      ]
     },
     "execution_count": 6,
     "metadata": {
      "tags": []
     },
     "output_type": "execute_result"
    }
   ],
   "source": [
    "train_labels"
   ]
  },
  {
   "cell_type": "code",
   "execution_count": 0,
   "metadata": {
    "id": "ygk0x8i1jjoH",
    "colab_type": "code",
    "outputId": "433840de-f4af-45d6-e57a-42ec39b75263",
    "executionInfo": {
     "status": "ok",
     "timestamp": 1.545899016494E12,
     "user_tz": -330.0,
     "elapsed": 992.0,
     "user": {
      "displayName": "Kavitha V",
      "photoUrl": "",
      "userId": "00448912820684317706"
     }
    },
    "colab": {
     "base_uri": "https://localhost:8080/",
     "height": 34.0
    }
   },
   "outputs": [
    {
     "data": {
      "text/plain": [
       "(60000,)"
      ]
     },
     "execution_count": 44,
     "metadata": {
      "tags": []
     },
     "output_type": "execute_result"
    }
   ],
   "source": [
    "train_labels.shape"
   ]
  },
  {
   "cell_type": "code",
   "execution_count": 0,
   "metadata": {
    "id": "S58nZs0EnCVt",
    "colab_type": "code",
    "outputId": "68217058-c8b2-4152-e6e6-483945cc16dc",
    "executionInfo": {
     "status": "ok",
     "timestamp": 1.545899018046E12,
     "user_tz": -330.0,
     "elapsed": 816.0,
     "user": {
      "displayName": "Kavitha V",
      "photoUrl": "",
      "userId": "00448912820684317706"
     }
    },
    "colab": {
     "base_uri": "https://localhost:8080/",
     "height": 34.0
    }
   },
   "outputs": [
    {
     "data": {
      "text/plain": [
       "(10000, 28, 28)"
      ]
     },
     "execution_count": 45,
     "metadata": {
      "tags": []
     },
     "output_type": "execute_result"
    }
   ],
   "source": [
    "test_images.shape"
   ]
  },
  {
   "cell_type": "code",
   "execution_count": 0,
   "metadata": {
    "id": "I985EsTCnCZH",
    "colab_type": "code",
    "outputId": "b750c572-0ba4-4c14-84a3-9765c6ba1bda",
    "executionInfo": {
     "status": "ok",
     "timestamp": 1.54589902232E12,
     "user_tz": -330.0,
     "elapsed": 1043.0,
     "user": {
      "displayName": "Kavitha V",
      "photoUrl": "",
      "userId": "00448912820684317706"
     }
    },
    "colab": {
     "base_uri": "https://localhost:8080/",
     "height": 34.0
    }
   },
   "outputs": [
    {
     "data": {
      "text/plain": [
       "10000"
      ]
     },
     "execution_count": 46,
     "metadata": {
      "tags": []
     },
     "output_type": "execute_result"
    }
   ],
   "source": [
    "len(test_labels)"
   ]
  },
  {
   "cell_type": "code",
   "execution_count": 0,
   "metadata": {
    "id": "McHXp1iOnCcK",
    "colab_type": "code",
    "outputId": "d5a3a258-5ae9-4e71-afb3-7faaf58aa164",
    "executionInfo": {
     "status": "ok",
     "timestamp": 1.545899023374E12,
     "user_tz": -330.0,
     "elapsed": 579.0,
     "user": {
      "displayName": "Kavitha V",
      "photoUrl": "",
      "userId": "00448912820684317706"
     }
    },
    "colab": {
     "base_uri": "https://localhost:8080/",
     "height": 34.0
    }
   },
   "outputs": [
    {
     "data": {
      "text/plain": [
       "array([7, 2, 1, ..., 4, 5, 6], dtype=uint8)"
      ]
     },
     "execution_count": 47,
     "metadata": {
      "tags": []
     },
     "output_type": "execute_result"
    }
   ],
   "source": [
    "test_labels"
   ]
  },
  {
   "cell_type": "code",
   "execution_count": 0,
   "metadata": {
    "id": "6uk2UMqcnChF",
    "colab_type": "code",
    "outputId": "65825254-fefb-4e8b-befd-bca3612d04ce",
    "executionInfo": {
     "status": "ok",
     "timestamp": 1.545899025154E12,
     "user_tz": -330.0,
     "elapsed": 824.0,
     "user": {
      "displayName": "Kavitha V",
      "photoUrl": "",
      "userId": "00448912820684317706"
     }
    },
    "colab": {
     "base_uri": "https://localhost:8080/",
     "height": 34.0
    }
   },
   "outputs": [
    {
     "data": {
      "text/plain": [
       "(10000,)"
      ]
     },
     "execution_count": 48,
     "metadata": {
      "tags": []
     },
     "output_type": "execute_result"
    }
   ],
   "source": [
    "test_labels.shape"
   ]
  },
  {
   "cell_type": "code",
   "execution_count": 0,
   "metadata": {
    "id": "GAa8vogBnRS0",
    "colab_type": "code",
    "colab": {}
   },
   "outputs": [],
   "source": [
    "from keras import layers\n",
    "from keras import models"
   ]
  },
  {
   "cell_type": "code",
   "execution_count": 0,
   "metadata": {
    "id": "jBUBig9-nRYi",
    "colab_type": "code",
    "colab": {}
   },
   "outputs": [],
   "source": [
    "network=models.Sequential()\n",
    "network.add(layers.Dense(512,activation='relu',input_shape=(28*28,)))\n",
    "network.add(layers.Dense(10,activation='softmax'))"
   ]
  },
  {
   "cell_type": "code",
   "execution_count": 0,
   "metadata": {
    "id": "eOhukOiUoMIk",
    "colab_type": "code",
    "colab": {}
   },
   "outputs": [],
   "source": [
    "network.compile(optimizer='rmsprop',loss='categorical_crossentropy',metrics=['accuracy'])"
   ]
  },
  {
   "cell_type": "code",
   "execution_count": 0,
   "metadata": {
    "id": "OiD1Afl2oMLf",
    "colab_type": "code",
    "colab": {}
   },
   "outputs": [],
   "source": [
    "train_images=train_images.reshape((60000,28*28))\n",
    "train_images=train_images.astype('float32')/255\n",
    "test_images=test_images.reshape((10000,28*28))\n",
    "test_images=test_images.astype('float32')/255"
   ]
  },
  {
   "cell_type": "code",
   "execution_count": 0,
   "metadata": {
    "id": "yiJfZ9hZoMPK",
    "colab_type": "code",
    "colab": {}
   },
   "outputs": [],
   "source": [
    "from keras.utils.np_utils import to_categorical\n",
    "train_labels=to_categorical(train_labels)\n",
    "test_lables=to_categorical(test_labels)"
   ]
  },
  {
   "cell_type": "code",
   "execution_count": 0,
   "metadata": {
    "id": "3R5uS_uuoMSe",
    "colab_type": "code",
    "outputId": "9d0b181a-4404-4fce-fb16-aead263798ac",
    "executionInfo": {
     "status": "ok",
     "timestamp": 1.545899049919E12,
     "user_tz": -330.0,
     "elapsed": 15636.0,
     "user": {
      "displayName": "Kavitha V",
      "photoUrl": "",
      "userId": "00448912820684317706"
     }
    },
    "colab": {
     "base_uri": "https://localhost:8080/",
     "height": 204.0
    }
   },
   "outputs": [
    {
     "name": "stdout",
     "output_type": "stream",
     "text": [
      "Epoch 1/5\n",
      "60000/60000 [==============================] - 4s 71us/step - loss: 0.2628 - acc: 0.9242\n",
      "Epoch 2/5\n",
      "60000/60000 [==============================] - 3s 42us/step - loss: 0.1043 - acc: 0.9690\n",
      "Epoch 3/5\n",
      "60000/60000 [==============================] - 3s 42us/step - loss: 0.0681 - acc: 0.9795\n",
      "Epoch 4/5\n",
      "60000/60000 [==============================] - 3s 45us/step - loss: 0.0497 - acc: 0.9849\n",
      "Epoch 5/5\n",
      "60000/60000 [==============================] - 3s 45us/step - loss: 0.0372 - acc: 0.9889\n"
     ]
    },
    {
     "data": {
      "text/plain": [
       "<keras.callbacks.History at 0x7fcde5dc5400>"
      ]
     },
     "execution_count": 54,
     "metadata": {
      "tags": []
     },
     "output_type": "execute_result"
    }
   ],
   "source": [
    "network.fit(train_images,train_labels,epochs=5,batch_size=128)"
   ]
  },
  {
   "cell_type": "code",
   "execution_count": 0,
   "metadata": {
    "id": "_XEZUeCnnCmb",
    "colab_type": "code",
    "colab": {}
   },
   "outputs": [],
   "source": [
    ""
   ]
  }
 ],
 "metadata": {
  "colab": {
   "name": "MNIST Keras.ipynb",
   "version": "0.3.2",
   "provenance": []
  },
  "kernelspec": {
   "name": "python3",
   "display_name": "Python 3"
  },
  "accelerator": "GPU"
 },
 "nbformat": 4,
 "nbformat_minor": 0
}
